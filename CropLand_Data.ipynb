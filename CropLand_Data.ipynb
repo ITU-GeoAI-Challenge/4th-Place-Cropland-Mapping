{
  "cells": [
    {
      "cell_type": "code",
      "execution_count": null,
      "metadata": {
        "id": "JzNLIh2TnLXB"
      },
      "outputs": [],
      "source": [
        "import ee\n",
        "import numpy as np\n",
        "import pandas as pd\n",
        "import random"
      ]
    },
    {
      "cell_type": "code",
      "execution_count": null,
      "metadata": {
        "id": "WAnVxp8OnQU1"
      },
      "outputs": [],
      "source": [
        "SEED = 42\n",
        "random.seed(SEED)\n",
        "np.random.seed(SEED)"
      ]
    },
    {
      "cell_type": "code",
      "execution_count": null,
      "metadata": {
        "colab": {
          "base_uri": "https://localhost:8080/"
        },
        "id": "73XBsMOfnXxi",
        "outputId": "a6a83228-8598-4fe1-dd47-7a766f94ca16"
      },
      "outputs": [
        {
          "output_type": "stream",
          "name": "stdout",
          "text": [
            "Mounted at /content/drive/\n"
          ]
        }
      ],
      "source": [
        "from google.colab import drive\n",
        "drive.mount('/content/drive/')\n",
        "path_drive = r'drive/MyDrive/CropLand/'"
      ]
    },
    {
      "cell_type": "code",
      "execution_count": null,
      "metadata": {
        "id": "Y4g71kN3nmU5"
      },
      "outputs": [],
      "source": [
        "train = pd.read_csv(path_drive + 'Train.csv')\n",
        "test = pd.read_csv(path_drive + 'Test.csv')\n",
        "sample_submission = pd.read_csv(path_drive + 'SampleSubmission.csv')"
      ]
    },
    {
      "cell_type": "code",
      "execution_count": null,
      "metadata": {
        "colab": {
          "base_uri": "https://localhost:8080/"
        },
        "id": "6_whVVjGnyOX",
        "outputId": "f2097c6f-746c-4dfe-a866-45254dc1251f"
      },
      "outputs": [
        {
          "output_type": "stream",
          "name": "stdout",
          "text": [
            "To authorize access needed by Earth Engine, open the following URL in a web browser and follow the instructions. If the web browser does not start automatically, please manually browse the URL below.\n",
            "\n",
            "    https://code.earthengine.google.com/client-auth?scopes=https%3A//www.googleapis.com/auth/earthengine%20https%3A//www.googleapis.com/auth/devstorage.full_control&request_id=M2O7ZTImH9E-fGfEitMFRUtjtc4AY6zoAUh37JD36ig&tc=Prhr7Y-XesEE7f5B0sdx74m3Hfhd1ojk7obDYB3e7dQ&cc=rr1r3aavRYzY35IJwTZjkdfXHM_Wr9Jl62v9FH5SsVk\n",
            "\n",
            "The authorization workflow will generate a code, which you should paste in the box below.\n",
            "Enter verification code: 4/1AfJohXkyi_WnVqdLY0tHpoJ0oZtEk3Lq3Kwl1EE35Sy-neLPeTtNUTbMImo\n",
            "\n",
            "Successfully saved authorization token.\n"
          ]
        }
      ],
      "source": [
        "ee.Authenticate()\n",
        "ee.Initialize()"
      ]
    },
    {
      "cell_type": "markdown",
      "metadata": {
        "id": "98zEPNaCEUOA"
      },
      "source": [
        "# Countries"
      ]
    },
    {
      "cell_type": "code",
      "execution_count": null,
      "metadata": {
        "id": "mf5mXww43IjO"
      },
      "outputs": [],
      "source": [
        "#create country boundries\n",
        "\n",
        "worldBorders = ee.FeatureCollection( 'USDOS/LSIB_SIMPLE/2017' )\n",
        "iranFilter = ee.Filter.eq( 'country_na', 'Iran' )\n",
        "afgFilter = ee.Filter.eq('country_na', 'Afghanistan')\n",
        "sudanFilter = ee.Filter.eq('country_na', 'Sudan')\n",
        "\n",
        "swissFilter = ee.Filter.eq('country_na', 'Switzerland')\n",
        "\n",
        "iranRegion = worldBorders.filter( iranFilter )\n",
        "afgRegion = worldBorders.filter( afgFilter )\n",
        "sudanRegion = worldBorders.filter( sudanFilter )\n",
        "swissRegion = worldBorders.filter(swissFilter)\n",
        "\n"
      ]
    },
    {
      "cell_type": "code",
      "execution_count": null,
      "metadata": {
        "id": "SE2AxBJb3eCS",
        "colab": {
          "base_uri": "https://localhost:8080/"
        },
        "outputId": "b8b331e9-cf98-4812-888f-446650402603"
      },
      "outputs": [
        {
          "output_type": "stream",
          "name": "stdout",
          "text": [
            "Requirement already satisfied: geemap in /usr/local/lib/python3.10/dist-packages (0.26.0)\n",
            "Requirement already satisfied: bqplot in /usr/local/lib/python3.10/dist-packages (from geemap) (0.12.40)\n",
            "Requirement already satisfied: colour in /usr/local/lib/python3.10/dist-packages (from geemap) (0.1.5)\n",
            "Requirement already satisfied: earthengine-api>=0.1.347 in /usr/local/lib/python3.10/dist-packages (from geemap) (0.1.368)\n",
            "Requirement already satisfied: eerepr>=0.0.4 in /usr/local/lib/python3.10/dist-packages (from geemap) (0.0.4)\n",
            "Requirement already satisfied: folium>=0.13.0 in /usr/local/lib/python3.10/dist-packages (from geemap) (0.14.0)\n",
            "Requirement already satisfied: geocoder in /usr/local/lib/python3.10/dist-packages (from geemap) (1.38.1)\n",
            "Requirement already satisfied: ipyevents in /usr/local/lib/python3.10/dist-packages (from geemap) (2.0.2)\n",
            "Requirement already satisfied: ipyfilechooser>=0.6.0 in /usr/local/lib/python3.10/dist-packages (from geemap) (0.6.0)\n",
            "Requirement already satisfied: ipyleaflet>=0.17.0 in /usr/local/lib/python3.10/dist-packages (from geemap) (0.17.3)\n",
            "Requirement already satisfied: ipytree in /usr/local/lib/python3.10/dist-packages (from geemap) (0.2.2)\n",
            "Requirement already satisfied: matplotlib in /usr/local/lib/python3.10/dist-packages (from geemap) (3.7.1)\n",
            "Requirement already satisfied: numpy in /usr/local/lib/python3.10/dist-packages (from geemap) (1.23.5)\n",
            "Requirement already satisfied: pandas in /usr/local/lib/python3.10/dist-packages (from geemap) (1.5.3)\n",
            "Requirement already satisfied: plotly in /usr/local/lib/python3.10/dist-packages (from geemap) (5.15.0)\n",
            "Requirement already satisfied: pyperclip in /usr/local/lib/python3.10/dist-packages (from geemap) (1.8.2)\n",
            "Requirement already satisfied: pyshp>=2.1.3 in /usr/local/lib/python3.10/dist-packages (from geemap) (2.3.1)\n",
            "Requirement already satisfied: python-box in /usr/local/lib/python3.10/dist-packages (from geemap) (7.1.1)\n",
            "Requirement already satisfied: scooby in /usr/local/lib/python3.10/dist-packages (from geemap) (0.7.2)\n",
            "Requirement already satisfied: google-cloud-storage in /usr/local/lib/python3.10/dist-packages (from earthengine-api>=0.1.347->geemap) (2.8.0)\n",
            "Requirement already satisfied: google-api-python-client>=1.12.1 in /usr/local/lib/python3.10/dist-packages (from earthengine-api>=0.1.347->geemap) (2.84.0)\n",
            "Requirement already satisfied: google-auth>=1.4.1 in /usr/local/lib/python3.10/dist-packages (from earthengine-api>=0.1.347->geemap) (2.17.3)\n",
            "Requirement already satisfied: google-auth-httplib2>=0.0.3 in /usr/local/lib/python3.10/dist-packages (from earthengine-api>=0.1.347->geemap) (0.1.0)\n",
            "Requirement already satisfied: httplib2<1dev,>=0.9.2 in /usr/local/lib/python3.10/dist-packages (from earthengine-api>=0.1.347->geemap) (0.22.0)\n",
            "Requirement already satisfied: requests in /usr/local/lib/python3.10/dist-packages (from earthengine-api>=0.1.347->geemap) (2.31.0)\n",
            "Requirement already satisfied: branca>=0.6.0 in /usr/local/lib/python3.10/dist-packages (from folium>=0.13.0->geemap) (0.6.0)\n",
            "Requirement already satisfied: jinja2>=2.9 in /usr/local/lib/python3.10/dist-packages (from folium>=0.13.0->geemap) (3.1.2)\n",
            "Requirement already satisfied: ipywidgets in /usr/local/lib/python3.10/dist-packages (from ipyfilechooser>=0.6.0->geemap) (7.7.1)\n",
            "Requirement already satisfied: traittypes<3,>=0.2.1 in /usr/local/lib/python3.10/dist-packages (from ipyleaflet>=0.17.0->geemap) (0.2.1)\n",
            "Requirement already satisfied: xyzservices>=2021.8.1 in /usr/local/lib/python3.10/dist-packages (from ipyleaflet>=0.17.0->geemap) (2023.7.0)\n",
            "Requirement already satisfied: traitlets>=4.3.0 in /usr/local/lib/python3.10/dist-packages (from bqplot->geemap) (5.7.1)\n",
            "Requirement already satisfied: python-dateutil>=2.8.1 in /usr/local/lib/python3.10/dist-packages (from pandas->geemap) (2.8.2)\n",
            "Requirement already satisfied: pytz>=2020.1 in /usr/local/lib/python3.10/dist-packages (from pandas->geemap) (2023.3.post1)\n",
            "Requirement already satisfied: click in /usr/local/lib/python3.10/dist-packages (from geocoder->geemap) (8.1.7)\n",
            "Requirement already satisfied: future in /usr/local/lib/python3.10/dist-packages (from geocoder->geemap) (0.18.3)\n",
            "Requirement already satisfied: ratelim in /usr/local/lib/python3.10/dist-packages (from geocoder->geemap) (0.1.6)\n",
            "Requirement already satisfied: six in /usr/local/lib/python3.10/dist-packages (from geocoder->geemap) (1.16.0)\n",
            "Requirement already satisfied: contourpy>=1.0.1 in /usr/local/lib/python3.10/dist-packages (from matplotlib->geemap) (1.1.0)\n",
            "Requirement already satisfied: cycler>=0.10 in /usr/local/lib/python3.10/dist-packages (from matplotlib->geemap) (0.11.0)\n",
            "Requirement already satisfied: fonttools>=4.22.0 in /usr/local/lib/python3.10/dist-packages (from matplotlib->geemap) (4.42.1)\n",
            "Requirement already satisfied: kiwisolver>=1.0.1 in /usr/local/lib/python3.10/dist-packages (from matplotlib->geemap) (1.4.5)\n",
            "Requirement already satisfied: packaging>=20.0 in /usr/local/lib/python3.10/dist-packages (from matplotlib->geemap) (23.1)\n",
            "Requirement already satisfied: pillow>=6.2.0 in /usr/local/lib/python3.10/dist-packages (from matplotlib->geemap) (9.4.0)\n",
            "Requirement already satisfied: pyparsing>=2.3.1 in /usr/local/lib/python3.10/dist-packages (from matplotlib->geemap) (3.1.1)\n",
            "Requirement already satisfied: tenacity>=6.2.0 in /usr/local/lib/python3.10/dist-packages (from plotly->geemap) (8.2.3)\n",
            "Requirement already satisfied: google-api-core!=2.0.*,!=2.1.*,!=2.2.*,!=2.3.0,<3.0.0dev,>=1.31.5 in /usr/local/lib/python3.10/dist-packages (from google-api-python-client>=1.12.1->earthengine-api>=0.1.347->geemap) (2.11.1)\n",
            "Requirement already satisfied: uritemplate<5,>=3.0.1 in /usr/local/lib/python3.10/dist-packages (from google-api-python-client>=1.12.1->earthengine-api>=0.1.347->geemap) (4.1.1)\n",
            "Requirement already satisfied: cachetools<6.0,>=2.0.0 in /usr/local/lib/python3.10/dist-packages (from google-auth>=1.4.1->earthengine-api>=0.1.347->geemap) (5.3.1)\n",
            "Requirement already satisfied: pyasn1-modules>=0.2.1 in /usr/local/lib/python3.10/dist-packages (from google-auth>=1.4.1->earthengine-api>=0.1.347->geemap) (0.3.0)\n",
            "Requirement already satisfied: rsa<5,>=3.1.4 in /usr/local/lib/python3.10/dist-packages (from google-auth>=1.4.1->earthengine-api>=0.1.347->geemap) (4.9)\n",
            "Requirement already satisfied: ipykernel>=4.5.1 in /usr/local/lib/python3.10/dist-packages (from ipywidgets->ipyfilechooser>=0.6.0->geemap) (5.5.6)\n",
            "Requirement already satisfied: ipython-genutils~=0.2.0 in /usr/local/lib/python3.10/dist-packages (from ipywidgets->ipyfilechooser>=0.6.0->geemap) (0.2.0)\n",
            "Requirement already satisfied: widgetsnbextension~=3.6.0 in /usr/local/lib/python3.10/dist-packages (from ipywidgets->ipyfilechooser>=0.6.0->geemap) (3.6.5)\n",
            "Requirement already satisfied: ipython>=4.0.0 in /usr/local/lib/python3.10/dist-packages (from ipywidgets->ipyfilechooser>=0.6.0->geemap) (7.34.0)\n",
            "Requirement already satisfied: jupyterlab-widgets>=1.0.0 in /usr/local/lib/python3.10/dist-packages (from ipywidgets->ipyfilechooser>=0.6.0->geemap) (3.0.8)\n",
            "Requirement already satisfied: MarkupSafe>=2.0 in /usr/local/lib/python3.10/dist-packages (from jinja2>=2.9->folium>=0.13.0->geemap) (2.1.3)\n",
            "Requirement already satisfied: google-cloud-core<3.0dev,>=2.3.0 in /usr/local/lib/python3.10/dist-packages (from google-cloud-storage->earthengine-api>=0.1.347->geemap) (2.3.3)\n",
            "Requirement already satisfied: google-resumable-media>=2.3.2 in /usr/local/lib/python3.10/dist-packages (from google-cloud-storage->earthengine-api>=0.1.347->geemap) (2.6.0)\n",
            "Requirement already satisfied: charset-normalizer<4,>=2 in /usr/local/lib/python3.10/dist-packages (from requests->earthengine-api>=0.1.347->geemap) (3.2.0)\n",
            "Requirement already satisfied: idna<4,>=2.5 in /usr/local/lib/python3.10/dist-packages (from requests->earthengine-api>=0.1.347->geemap) (3.4)\n",
            "Requirement already satisfied: urllib3<3,>=1.21.1 in /usr/local/lib/python3.10/dist-packages (from requests->earthengine-api>=0.1.347->geemap) (2.0.4)\n",
            "Requirement already satisfied: certifi>=2017.4.17 in /usr/local/lib/python3.10/dist-packages (from requests->earthengine-api>=0.1.347->geemap) (2023.7.22)\n",
            "Requirement already satisfied: decorator in /usr/local/lib/python3.10/dist-packages (from ratelim->geocoder->geemap) (4.4.2)\n",
            "Requirement already satisfied: googleapis-common-protos<2.0.dev0,>=1.56.2 in /usr/local/lib/python3.10/dist-packages (from google-api-core!=2.0.*,!=2.1.*,!=2.2.*,!=2.3.0,<3.0.0dev,>=1.31.5->google-api-python-client>=1.12.1->earthengine-api>=0.1.347->geemap) (1.60.0)\n",
            "Requirement already satisfied: protobuf!=3.20.0,!=3.20.1,!=4.21.0,!=4.21.1,!=4.21.2,!=4.21.3,!=4.21.4,!=4.21.5,<5.0.0.dev0,>=3.19.5 in /usr/local/lib/python3.10/dist-packages (from google-api-core!=2.0.*,!=2.1.*,!=2.2.*,!=2.3.0,<3.0.0dev,>=1.31.5->google-api-python-client>=1.12.1->earthengine-api>=0.1.347->geemap) (3.20.3)\n",
            "Requirement already satisfied: google-crc32c<2.0dev,>=1.0 in /usr/local/lib/python3.10/dist-packages (from google-resumable-media>=2.3.2->google-cloud-storage->earthengine-api>=0.1.347->geemap) (1.5.0)\n",
            "Requirement already satisfied: jupyter-client in /usr/local/lib/python3.10/dist-packages (from ipykernel>=4.5.1->ipywidgets->ipyfilechooser>=0.6.0->geemap) (6.1.12)\n",
            "Requirement already satisfied: tornado>=4.2 in /usr/local/lib/python3.10/dist-packages (from ipykernel>=4.5.1->ipywidgets->ipyfilechooser>=0.6.0->geemap) (6.3.2)\n",
            "Requirement already satisfied: setuptools>=18.5 in /usr/local/lib/python3.10/dist-packages (from ipython>=4.0.0->ipywidgets->ipyfilechooser>=0.6.0->geemap) (67.7.2)\n",
            "Collecting jedi>=0.16 (from ipython>=4.0.0->ipywidgets->ipyfilechooser>=0.6.0->geemap)\n",
            "  Downloading jedi-0.19.0-py2.py3-none-any.whl (1.6 MB)\n",
            "\u001b[2K     \u001b[90m━━━━━━━━━━━━━━━━━━━━━━━━━━━━━━━━━━━━━━━━\u001b[0m \u001b[32m1.6/1.6 MB\u001b[0m \u001b[31m20.7 MB/s\u001b[0m eta \u001b[36m0:00:00\u001b[0m\n",
            "\u001b[?25hRequirement already satisfied: pickleshare in /usr/local/lib/python3.10/dist-packages (from ipython>=4.0.0->ipywidgets->ipyfilechooser>=0.6.0->geemap) (0.7.5)\n",
            "Requirement already satisfied: prompt-toolkit!=3.0.0,!=3.0.1,<3.1.0,>=2.0.0 in /usr/local/lib/python3.10/dist-packages (from ipython>=4.0.0->ipywidgets->ipyfilechooser>=0.6.0->geemap) (3.0.39)\n",
            "Requirement already satisfied: pygments in /usr/local/lib/python3.10/dist-packages (from ipython>=4.0.0->ipywidgets->ipyfilechooser>=0.6.0->geemap) (2.16.1)\n",
            "Requirement already satisfied: backcall in /usr/local/lib/python3.10/dist-packages (from ipython>=4.0.0->ipywidgets->ipyfilechooser>=0.6.0->geemap) (0.2.0)\n",
            "Requirement already satisfied: matplotlib-inline in /usr/local/lib/python3.10/dist-packages (from ipython>=4.0.0->ipywidgets->ipyfilechooser>=0.6.0->geemap) (0.1.6)\n",
            "Requirement already satisfied: pexpect>4.3 in /usr/local/lib/python3.10/dist-packages (from ipython>=4.0.0->ipywidgets->ipyfilechooser>=0.6.0->geemap) (4.8.0)\n",
            "Requirement already satisfied: pyasn1<0.6.0,>=0.4.6 in /usr/local/lib/python3.10/dist-packages (from pyasn1-modules>=0.2.1->google-auth>=1.4.1->earthengine-api>=0.1.347->geemap) (0.5.0)\n",
            "Requirement already satisfied: notebook>=4.4.1 in /usr/local/lib/python3.10/dist-packages (from widgetsnbextension~=3.6.0->ipywidgets->ipyfilechooser>=0.6.0->geemap) (6.5.5)\n",
            "Requirement already satisfied: parso<0.9.0,>=0.8.3 in /usr/local/lib/python3.10/dist-packages (from jedi>=0.16->ipython>=4.0.0->ipywidgets->ipyfilechooser>=0.6.0->geemap) (0.8.3)\n",
            "Requirement already satisfied: pyzmq<25,>=17 in /usr/local/lib/python3.10/dist-packages (from notebook>=4.4.1->widgetsnbextension~=3.6.0->ipywidgets->ipyfilechooser>=0.6.0->geemap) (23.2.1)\n",
            "Requirement already satisfied: argon2-cffi in /usr/local/lib/python3.10/dist-packages (from notebook>=4.4.1->widgetsnbextension~=3.6.0->ipywidgets->ipyfilechooser>=0.6.0->geemap) (23.1.0)\n",
            "Requirement already satisfied: jupyter-core>=4.6.1 in /usr/local/lib/python3.10/dist-packages (from notebook>=4.4.1->widgetsnbextension~=3.6.0->ipywidgets->ipyfilechooser>=0.6.0->geemap) (5.3.1)\n",
            "Requirement already satisfied: nbformat in /usr/local/lib/python3.10/dist-packages (from notebook>=4.4.1->widgetsnbextension~=3.6.0->ipywidgets->ipyfilechooser>=0.6.0->geemap) (5.9.2)\n",
            "Requirement already satisfied: nbconvert>=5 in /usr/local/lib/python3.10/dist-packages (from notebook>=4.4.1->widgetsnbextension~=3.6.0->ipywidgets->ipyfilechooser>=0.6.0->geemap) (6.5.4)\n",
            "Requirement already satisfied: nest-asyncio>=1.5 in /usr/local/lib/python3.10/dist-packages (from notebook>=4.4.1->widgetsnbextension~=3.6.0->ipywidgets->ipyfilechooser>=0.6.0->geemap) (1.5.7)\n",
            "Requirement already satisfied: Send2Trash>=1.8.0 in /usr/local/lib/python3.10/dist-packages (from notebook>=4.4.1->widgetsnbextension~=3.6.0->ipywidgets->ipyfilechooser>=0.6.0->geemap) (1.8.2)\n",
            "Requirement already satisfied: terminado>=0.8.3 in /usr/local/lib/python3.10/dist-packages (from notebook>=4.4.1->widgetsnbextension~=3.6.0->ipywidgets->ipyfilechooser>=0.6.0->geemap) (0.17.1)\n",
            "Requirement already satisfied: prometheus-client in /usr/local/lib/python3.10/dist-packages (from notebook>=4.4.1->widgetsnbextension~=3.6.0->ipywidgets->ipyfilechooser>=0.6.0->geemap) (0.17.1)\n",
            "Requirement already satisfied: nbclassic>=0.4.7 in /usr/local/lib/python3.10/dist-packages (from notebook>=4.4.1->widgetsnbextension~=3.6.0->ipywidgets->ipyfilechooser>=0.6.0->geemap) (1.0.0)\n",
            "Requirement already satisfied: ptyprocess>=0.5 in /usr/local/lib/python3.10/dist-packages (from pexpect>4.3->ipython>=4.0.0->ipywidgets->ipyfilechooser>=0.6.0->geemap) (0.7.0)\n",
            "Requirement already satisfied: wcwidth in /usr/local/lib/python3.10/dist-packages (from prompt-toolkit!=3.0.0,!=3.0.1,<3.1.0,>=2.0.0->ipython>=4.0.0->ipywidgets->ipyfilechooser>=0.6.0->geemap) (0.2.6)\n",
            "Requirement already satisfied: platformdirs>=2.5 in /usr/local/lib/python3.10/dist-packages (from jupyter-core>=4.6.1->notebook>=4.4.1->widgetsnbextension~=3.6.0->ipywidgets->ipyfilechooser>=0.6.0->geemap) (3.10.0)\n",
            "Requirement already satisfied: jupyter-server>=1.8 in /usr/local/lib/python3.10/dist-packages (from nbclassic>=0.4.7->notebook>=4.4.1->widgetsnbextension~=3.6.0->ipywidgets->ipyfilechooser>=0.6.0->geemap) (1.24.0)\n",
            "Requirement already satisfied: notebook-shim>=0.2.3 in /usr/local/lib/python3.10/dist-packages (from nbclassic>=0.4.7->notebook>=4.4.1->widgetsnbextension~=3.6.0->ipywidgets->ipyfilechooser>=0.6.0->geemap) (0.2.3)\n",
            "Requirement already satisfied: lxml in /usr/local/lib/python3.10/dist-packages (from nbconvert>=5->notebook>=4.4.1->widgetsnbextension~=3.6.0->ipywidgets->ipyfilechooser>=0.6.0->geemap) (4.9.3)\n",
            "Requirement already satisfied: beautifulsoup4 in /usr/local/lib/python3.10/dist-packages (from nbconvert>=5->notebook>=4.4.1->widgetsnbextension~=3.6.0->ipywidgets->ipyfilechooser>=0.6.0->geemap) (4.11.2)\n",
            "Requirement already satisfied: bleach in /usr/local/lib/python3.10/dist-packages (from nbconvert>=5->notebook>=4.4.1->widgetsnbextension~=3.6.0->ipywidgets->ipyfilechooser>=0.6.0->geemap) (6.0.0)\n",
            "Requirement already satisfied: defusedxml in /usr/local/lib/python3.10/dist-packages (from nbconvert>=5->notebook>=4.4.1->widgetsnbextension~=3.6.0->ipywidgets->ipyfilechooser>=0.6.0->geemap) (0.7.1)\n",
            "Requirement already satisfied: entrypoints>=0.2.2 in /usr/local/lib/python3.10/dist-packages (from nbconvert>=5->notebook>=4.4.1->widgetsnbextension~=3.6.0->ipywidgets->ipyfilechooser>=0.6.0->geemap) (0.4)\n",
            "Requirement already satisfied: jupyterlab-pygments in /usr/local/lib/python3.10/dist-packages (from nbconvert>=5->notebook>=4.4.1->widgetsnbextension~=3.6.0->ipywidgets->ipyfilechooser>=0.6.0->geemap) (0.2.2)\n",
            "Requirement already satisfied: mistune<2,>=0.8.1 in /usr/local/lib/python3.10/dist-packages (from nbconvert>=5->notebook>=4.4.1->widgetsnbextension~=3.6.0->ipywidgets->ipyfilechooser>=0.6.0->geemap) (0.8.4)\n",
            "Requirement already satisfied: nbclient>=0.5.0 in /usr/local/lib/python3.10/dist-packages (from nbconvert>=5->notebook>=4.4.1->widgetsnbextension~=3.6.0->ipywidgets->ipyfilechooser>=0.6.0->geemap) (0.8.0)\n",
            "Requirement already satisfied: pandocfilters>=1.4.1 in /usr/local/lib/python3.10/dist-packages (from nbconvert>=5->notebook>=4.4.1->widgetsnbextension~=3.6.0->ipywidgets->ipyfilechooser>=0.6.0->geemap) (1.5.0)\n",
            "Requirement already satisfied: tinycss2 in /usr/local/lib/python3.10/dist-packages (from nbconvert>=5->notebook>=4.4.1->widgetsnbextension~=3.6.0->ipywidgets->ipyfilechooser>=0.6.0->geemap) (1.2.1)\n",
            "Requirement already satisfied: fastjsonschema in /usr/local/lib/python3.10/dist-packages (from nbformat->notebook>=4.4.1->widgetsnbextension~=3.6.0->ipywidgets->ipyfilechooser>=0.6.0->geemap) (2.18.0)\n",
            "Requirement already satisfied: jsonschema>=2.6 in /usr/local/lib/python3.10/dist-packages (from nbformat->notebook>=4.4.1->widgetsnbextension~=3.6.0->ipywidgets->ipyfilechooser>=0.6.0->geemap) (4.19.0)\n",
            "Requirement already satisfied: argon2-cffi-bindings in /usr/local/lib/python3.10/dist-packages (from argon2-cffi->notebook>=4.4.1->widgetsnbextension~=3.6.0->ipywidgets->ipyfilechooser>=0.6.0->geemap) (21.2.0)\n",
            "Requirement already satisfied: attrs>=22.2.0 in /usr/local/lib/python3.10/dist-packages (from jsonschema>=2.6->nbformat->notebook>=4.4.1->widgetsnbextension~=3.6.0->ipywidgets->ipyfilechooser>=0.6.0->geemap) (23.1.0)\n",
            "Requirement already satisfied: jsonschema-specifications>=2023.03.6 in /usr/local/lib/python3.10/dist-packages (from jsonschema>=2.6->nbformat->notebook>=4.4.1->widgetsnbextension~=3.6.0->ipywidgets->ipyfilechooser>=0.6.0->geemap) (2023.7.1)\n",
            "Requirement already satisfied: referencing>=0.28.4 in /usr/local/lib/python3.10/dist-packages (from jsonschema>=2.6->nbformat->notebook>=4.4.1->widgetsnbextension~=3.6.0->ipywidgets->ipyfilechooser>=0.6.0->geemap) (0.30.2)\n",
            "Requirement already satisfied: rpds-py>=0.7.1 in /usr/local/lib/python3.10/dist-packages (from jsonschema>=2.6->nbformat->notebook>=4.4.1->widgetsnbextension~=3.6.0->ipywidgets->ipyfilechooser>=0.6.0->geemap) (0.10.2)\n",
            "Requirement already satisfied: anyio<4,>=3.1.0 in /usr/local/lib/python3.10/dist-packages (from jupyter-server>=1.8->nbclassic>=0.4.7->notebook>=4.4.1->widgetsnbextension~=3.6.0->ipywidgets->ipyfilechooser>=0.6.0->geemap) (3.7.1)\n",
            "Requirement already satisfied: websocket-client in /usr/local/lib/python3.10/dist-packages (from jupyter-server>=1.8->nbclassic>=0.4.7->notebook>=4.4.1->widgetsnbextension~=3.6.0->ipywidgets->ipyfilechooser>=0.6.0->geemap) (1.6.2)\n",
            "Requirement already satisfied: cffi>=1.0.1 in /usr/local/lib/python3.10/dist-packages (from argon2-cffi-bindings->argon2-cffi->notebook>=4.4.1->widgetsnbextension~=3.6.0->ipywidgets->ipyfilechooser>=0.6.0->geemap) (1.15.1)\n",
            "Requirement already satisfied: soupsieve>1.2 in /usr/local/lib/python3.10/dist-packages (from beautifulsoup4->nbconvert>=5->notebook>=4.4.1->widgetsnbextension~=3.6.0->ipywidgets->ipyfilechooser>=0.6.0->geemap) (2.5)\n",
            "Requirement already satisfied: webencodings in /usr/local/lib/python3.10/dist-packages (from bleach->nbconvert>=5->notebook>=4.4.1->widgetsnbextension~=3.6.0->ipywidgets->ipyfilechooser>=0.6.0->geemap) (0.5.1)\n",
            "Requirement already satisfied: sniffio>=1.1 in /usr/local/lib/python3.10/dist-packages (from anyio<4,>=3.1.0->jupyter-server>=1.8->nbclassic>=0.4.7->notebook>=4.4.1->widgetsnbextension~=3.6.0->ipywidgets->ipyfilechooser>=0.6.0->geemap) (1.3.0)\n",
            "Requirement already satisfied: exceptiongroup in /usr/local/lib/python3.10/dist-packages (from anyio<4,>=3.1.0->jupyter-server>=1.8->nbclassic>=0.4.7->notebook>=4.4.1->widgetsnbextension~=3.6.0->ipywidgets->ipyfilechooser>=0.6.0->geemap) (1.1.3)\n",
            "Requirement already satisfied: pycparser in /usr/local/lib/python3.10/dist-packages (from cffi>=1.0.1->argon2-cffi-bindings->argon2-cffi->notebook>=4.4.1->widgetsnbextension~=3.6.0->ipywidgets->ipyfilechooser>=0.6.0->geemap) (2.21)\n",
            "Installing collected packages: jedi\n",
            "Successfully installed jedi-0.19.0\n"
          ]
        }
      ],
      "source": [
        "!pip install geemap\n",
        "import geemap"
      ]
    },
    {
      "cell_type": "code",
      "execution_count": null,
      "metadata": {
        "id": "YfiGeAYH8FVL",
        "colab": {
          "base_uri": "https://localhost:8080/",
          "referenced_widgets": [
            "81ac0a709b2f4a66aa90d5bd5291ddfc",
            "d4c26699c0fe4c23b759511719aa6845",
            "eeb4c86916fd43ad89c8236d7eec3377",
            "2dea5618961e45969dfa7719023dbd33",
            "ba346f3b30b1441ba331690f6a91881c",
            "1a258f2695924501bbf4ea5ebf5393e9",
            "e9664c99d6d347158555d262efe09291",
            "d2efa1ac49354aaea4948bb2edc9a26d",
            "84a5399dcbf84a0d8e5601139a2bccb5",
            "b2b1fda1e8814794b15169549c5f644b",
            "f9ce19bab1b046a0b16a6e89426852c6",
            "46637cc455194294921ca4285017d3e2",
            "1715e63b4c7544f4b1d0dacf4a9ec18e",
            "756ad0ca3bfe4abb91532856b37f51d1",
            "7b5535fa50e4449fbbecfefcac017233",
            "70da4c8923804181b0597dc080873b01",
            "42b5210e17fa41718cd39c6521d72285",
            "e417244d7f8946ad93a50118e0a9e8a4",
            "e0fb5083deec49d5961b13c5473a5299",
            "d22bf59483334df896341db759a13570",
            "794cc5e589f24735abeb2e338fe0712b",
            "b3f6528280b44706af9dd08f96244f69",
            "176d8c77259d4ec28863170d7af58ab4",
            "b8bc36772b1e462e9964aab43d906441",
            "0a2863b7b17c4d5db7d1bc25d81ce792",
            "858f4fa9230a4993864f65d4fb5a4fe8",
            "da2854dd11004c6a8b227716fb3bf2f6"
          ]
        },
        "outputId": "76c16c7f-f907-4e39-a968-db51d22d0589"
      },
      "outputs": [
        {
          "output_type": "display_data",
          "data": {
            "text/plain": [
              "Map(center=[20, 0], controls=(WidgetControl(options=['position', 'transparent_bg'], widget=HBox(children=(Togg…"
            ],
            "application/vnd.jupyter.widget-view+json": {
              "version_major": 2,
              "version_minor": 0,
              "model_id": "81ac0a709b2f4a66aa90d5bd5291ddfc"
            }
          },
          "metadata": {
            "application/vnd.jupyter.widget-view+json": {
              "colab": {
                "custom_widget_manager": {
                  "url": "https://ssl.gstatic.com/colaboratory-static/widgets/colab-cdn-widget-manager/b3e629b1971e1542/manager.min.js"
                }
              }
            }
          }
        }
      ],
      "source": [
        "Map = geemap.Map()\n",
        "Map.addLayer(iranRegion)\n",
        "Map.addLayer(sudanRegion)\n",
        "Map.addLayer(afgRegion)\n",
        "Map"
      ]
    },
    {
      "cell_type": "code",
      "execution_count": null,
      "metadata": {
        "id": "Gs_1YH8P4ezQ"
      },
      "outputs": [],
      "source": [
        "#define time periods\n",
        "time_periods_train = {}\n",
        "time_periods_train['Iran'] = ('2019-07-01', '2020-06-30')\n",
        "time_periods_train['Sudan'] = ('2019-07-01', '2020-06-30')\n",
        "time_periods_train['Afghanistan'] = ('2022-04-01', '2022-04-30')\n",
        "\n",
        "time_periods_test = {}\n",
        "time_periods_test['Iran'] = ('2019-07-01', '2020-06-30')\n",
        "time_periods_test['Sudan'] = ('2019-07-01', '2020-06-30')\n",
        "time_periods_test['Afghanistan'] = ('2022-04-01', '2022-04-30')"
      ]
    },
    {
      "cell_type": "code",
      "execution_count": null,
      "metadata": {
        "colab": {
          "base_uri": "https://localhost:8080/"
        },
        "id": "Ahc9lU13Dhqf",
        "outputId": "eef4201d-ed0b-49e8-9a0a-6dfff746d5bd"
      },
      "outputs": [
        {
          "output_type": "execute_result",
          "data": {
            "text/plain": [
              "Afghanistan    500\n",
              "Iran           500\n",
              "Sudan          500\n",
              "Name: country, dtype: int64"
            ]
          },
          "metadata": {},
          "execution_count": 10
        }
      ],
      "source": [
        "#label each point to a country\n",
        "\n",
        "def label_country(row):\n",
        "\n",
        "    lat = row['Lat']\n",
        "    lon = row['Lon']\n",
        "\n",
        "    # hardcode based on lon\n",
        "    value = 'None'\n",
        "\n",
        "    if lon > 70 and lon < 71:\n",
        "\n",
        "      value = 'Afghanistan'\n",
        "\n",
        "    elif lon > 48 and lon < 49:\n",
        "\n",
        "      value = 'Iran'\n",
        "\n",
        "    elif lon > 33 and lon < 34:\n",
        "\n",
        "      value = 'Sudan'\n",
        "\n",
        "    else:\n",
        "      value = 'None'\n",
        "\n",
        "      print(\"Some error occured\")\n",
        "\n",
        "    return value\n",
        "\n",
        "train_data = train.copy()\n",
        "\n",
        "countries = train_data.apply(label_country, axis = 1)\n",
        "\n",
        "train_data['country'] = countries\n",
        "\n",
        "\n",
        "train_data['country'].value_counts()"
      ]
    },
    {
      "cell_type": "code",
      "execution_count": null,
      "metadata": {
        "colab": {
          "base_uri": "https://localhost:8080/"
        },
        "id": "WalKTwQBcsP9",
        "outputId": "20acdd53-995f-458f-80e6-8a2e042a2b81"
      },
      "outputs": [
        {
          "output_type": "execute_result",
          "data": {
            "text/plain": [
              "Afghanistan    500\n",
              "Iran           500\n",
              "Sudan          500\n",
              "Name: country, dtype: int64"
            ]
          },
          "metadata": {},
          "execution_count": 11
        }
      ],
      "source": [
        "test_data = test.copy()\n",
        "countries = test_data.apply(label_country, axis = 1)\n",
        "test_data['country'] = countries\n",
        "test_data['country'].value_counts()"
      ]
    },
    {
      "cell_type": "markdown",
      "metadata": {
        "id": "qlzR9aD8EZwT"
      },
      "source": [
        "# Sentinel 2 Data"
      ]
    },
    {
      "cell_type": "code",
      "execution_count": null,
      "metadata": {
        "id": "rnnhvwfln2Rf"
      },
      "outputs": [],
      "source": [
        "def get_features_sentinel2(time_series, list_of_band):\n",
        "\n",
        "  df = pd.DataFrame(time_series)\n",
        "\n",
        "  header = df.iloc[0]\n",
        "\n",
        "  df = pd.DataFrame(df.values[1:], columns=header)\n",
        "\n",
        "  df = df[['longitude', 'latitude', 'time', *list_of_band]].dropna()\n",
        "\n",
        "  df = df[df['MSK_CLDPRB'] < 5] #drop all values where the probability of a cloud is greater or equal than 5%\n",
        "\n",
        "  df['datetime'] = pd.to_datetime(df['time'], unit='ms')\n",
        "\n",
        "\n",
        "  #calculate ndvi_median and change over the time period\n",
        "  ndvi_arr = (df['B8'] - df['B4']) / (df['B8'] + df['B4']) #calc NDVI\n",
        "  ndvi_med = ndvi_arr.quantile(0.5)\n",
        "  ndvi_change = ndvi_arr.quantile(0.9) - ndvi_arr.quantile(0.1)\n",
        "\n",
        "  #calc NDWI\n",
        "  ndwi_arr = (df['B8'] - df['B11']) / (df['B8'] + df['B11'])\n",
        "  ndwi_med = ndwi_arr.quantile(0.5)\n",
        "  ndwi_change = ndwi_arr.quantile(0.9) - ndwi_arr.quantile(0.1)\n",
        "\n",
        "  # red edge Normalized Difference Vegetation Index RENDVI\n",
        "  rendvi_arr = (df['B8A'] - df['B6']) / (df['B8A'] + df['B6'])\n",
        "  rendvi_med = rendvi_arr.quantile(0.5)\n",
        "  rendvi_change = rendvi_arr.quantile(0.9) - rendvi_arr.quantile(0.1)\n",
        "\n",
        "  # Bare soil index\n",
        "  bi_arr = ((df['B11']+df['B4']) - (df['B8'] + df['B2'])) / ((df['B11']+df['B4']) + (df['B8'] + df['B2']))\n",
        "  bi_med = bi_arr.quantile(0.5)\n",
        "  bi_change = bi_arr.quantile(0.9) - bi_arr.quantile(0.1)\n",
        "\n",
        "  # Normalized Difference Moisture Index (NDMI)\n",
        "  ndmi_arr = (df['B8']- df['B11']) / (df['B8']+ df['B11'])\n",
        "  ndmi_med = ndmi_arr.quantile(0.5)\n",
        "  ndmi_change = ndmi_arr.quantile(0.9) - ndmi_arr.quantile(0.1)\n",
        "\n",
        "  # ratio B7 over B6\n",
        "  sr = df['B7'] / df['B8']\n",
        "  sr_med = sr.quantile(0.5)\n",
        "  sr_change = sr.quantile(0.9)- sr.quantile(0.1)\n",
        "\n",
        "  #bands\n",
        "  b2_med = df['B2'].quantile(0.5)\n",
        "  b3_med = df['B3'].quantile(0.5)\n",
        "  b4_med = df['B4'].quantile(0.5)\n",
        "\n",
        "\n",
        "  return [ndvi_change, ndwi_change, rendvi_change, bi_change, ndmi_change, sr_change,\n",
        "          ndvi_med, ndwi_med, rendvi_med, bi_med, ndmi_med, sr_med,  b2_med, b3_med, b4_med]\n"
      ]
    },
    {
      "cell_type": "code",
      "execution_count": null,
      "metadata": {
        "id": "wdOzs_8IYnsB"
      },
      "outputs": [],
      "source": [
        "CLOUD_FILTER = 10 # for filtering the pixels\n",
        "\n",
        "s2_collection = ee.ImageCollection('COPERNICUS/S2_SR_HARMONIZED')\n",
        "\n",
        "s2_bands = ['B2', 'B3', 'B4' , 'B6', 'B7', 'B8', 'B8A',  'B11', 'MSK_CLDPRB']\n",
        "\n",
        "def extract_sentinel2_data(row, time_windows, train_bool):\n",
        "\n",
        "  lat = row['Lat']\n",
        "  lon = row['Lon']\n",
        "\n",
        "  country = row['country']\n",
        "\n",
        "  point = ee.Geometry.Point(lon, lat)\n",
        "\n",
        "  time_period = time_windows[country]\n",
        "\n",
        "  if country == 'Iran' or country == 'Sudan':\n",
        "\n",
        "    s2_filtered = s2_collection.filterBounds(point).filterDate(time_period[0], time_period[1])\n",
        "\n",
        "    values = s2_filtered.getRegion(point, 10).getInfo()\n",
        "\n",
        "    features = get_features_sentinel2(values, list_of_band= s2_bands)\n",
        "\n",
        "  else:\n",
        "    #month where we have values, afgahnistan only period for 1 month\n",
        "    s2_filtered_month = s2_collection.filterBounds(point).filterDate(time_period[0], time_period[1])\n",
        "    values_month = s2_filtered_month.getRegion(point, 10).getInfo()\n",
        "    features_month = get_features_sentinel2(values_month, list_of_band= s2_bands)\n",
        "    #whole year befor this month\n",
        "    if train_bool:\n",
        "      s2_filtered_year =  s2_collection.filterBounds(point).filterDate('2021-04-30', '2022-04-30')\n",
        "    else:\n",
        "      s2_filtered_year =  s2_collection.filterBounds(point).filterDate('2021-04-30', '2022-04-30')\n",
        "\n",
        "    values_year = s2_filtered_year.getRegion(point, 10).getInfo()\n",
        "    features_year = get_features_sentinel2(values_year, list_of_band = s2_bands)\n",
        "\n",
        "    features_month[:6] = features_year[:6]\n",
        "    features = features_month\n",
        "\n",
        "  return features\n",
        "\n",
        "\n",
        "\n"
      ]
    },
    {
      "cell_type": "code",
      "execution_count": null,
      "metadata": {
        "id": "SNaqRBaWleJs",
        "colab": {
          "base_uri": "https://localhost:8080/",
          "height": 390
        },
        "outputId": "ed21f629-2b45-4cd1-dedd-74376512f0d3"
      },
      "outputs": [
        {
          "output_type": "error",
          "ename": "KeyboardInterrupt",
          "evalue": "ignored",
          "traceback": [
            "\u001b[0;31m---------------------------------------------------------------------------\u001b[0m",
            "\u001b[0;31mKeyboardInterrupt\u001b[0m                         Traceback (most recent call last)",
            "\u001b[0;32m<ipython-input-24-8f309ec007ed>\u001b[0m in \u001b[0;36m<cell line: 1>\u001b[0;34m()\u001b[0m\n\u001b[0;32m----> 1\u001b[0;31m features_sentinel2 = train_data.apply(extract_sentinel2_data,\n\u001b[0m\u001b[1;32m      2\u001b[0m                                       \u001b[0mtime_windows\u001b[0m \u001b[0;34m=\u001b[0m \u001b[0mtime_periods_train\u001b[0m\u001b[0;34m,\u001b[0m \u001b[0mtrain_bool\u001b[0m \u001b[0;34m=\u001b[0m \u001b[0;32mTrue\u001b[0m\u001b[0;34m,\u001b[0m\u001b[0;34m\u001b[0m\u001b[0;34m\u001b[0m\u001b[0m\n\u001b[1;32m      3\u001b[0m                                       axis=1, result_type='expand')\n\u001b[1;32m      4\u001b[0m features_sentinel2.columns = ['NDVI_change', 'NDWI_change', 'RNDVI_change', 'BI_change', 'NDMI_change', 'SR_change',\n\u001b[1;32m      5\u001b[0m                               'NDVI', 'NDWI', 'RNDVI', 'BI', 'NDMI', 'SR',  'B2', 'B3', 'B4']\n",
            "\u001b[0;32m/usr/local/lib/python3.10/dist-packages/pandas/core/frame.py\u001b[0m in \u001b[0;36mapply\u001b[0;34m(self, func, axis, raw, result_type, args, **kwargs)\u001b[0m\n\u001b[1;32m   9566\u001b[0m             \u001b[0mkwargs\u001b[0m\u001b[0;34m=\u001b[0m\u001b[0mkwargs\u001b[0m\u001b[0;34m,\u001b[0m\u001b[0;34m\u001b[0m\u001b[0;34m\u001b[0m\u001b[0m\n\u001b[1;32m   9567\u001b[0m         )\n\u001b[0;32m-> 9568\u001b[0;31m         \u001b[0;32mreturn\u001b[0m \u001b[0mop\u001b[0m\u001b[0;34m.\u001b[0m\u001b[0mapply\u001b[0m\u001b[0;34m(\u001b[0m\u001b[0;34m)\u001b[0m\u001b[0;34m.\u001b[0m\u001b[0m__finalize__\u001b[0m\u001b[0;34m(\u001b[0m\u001b[0mself\u001b[0m\u001b[0;34m,\u001b[0m \u001b[0mmethod\u001b[0m\u001b[0;34m=\u001b[0m\u001b[0;34m\"apply\"\u001b[0m\u001b[0;34m)\u001b[0m\u001b[0;34m\u001b[0m\u001b[0;34m\u001b[0m\u001b[0m\n\u001b[0m\u001b[1;32m   9569\u001b[0m \u001b[0;34m\u001b[0m\u001b[0m\n\u001b[1;32m   9570\u001b[0m     def applymap(\n",
            "\u001b[0;32m/usr/local/lib/python3.10/dist-packages/pandas/core/apply.py\u001b[0m in \u001b[0;36mapply\u001b[0;34m(self)\u001b[0m\n\u001b[1;32m    762\u001b[0m             \u001b[0;32mreturn\u001b[0m \u001b[0mself\u001b[0m\u001b[0;34m.\u001b[0m\u001b[0mapply_raw\u001b[0m\u001b[0;34m(\u001b[0m\u001b[0;34m)\u001b[0m\u001b[0;34m\u001b[0m\u001b[0;34m\u001b[0m\u001b[0m\n\u001b[1;32m    763\u001b[0m \u001b[0;34m\u001b[0m\u001b[0m\n\u001b[0;32m--> 764\u001b[0;31m         \u001b[0;32mreturn\u001b[0m \u001b[0mself\u001b[0m\u001b[0;34m.\u001b[0m\u001b[0mapply_standard\u001b[0m\u001b[0;34m(\u001b[0m\u001b[0;34m)\u001b[0m\u001b[0;34m\u001b[0m\u001b[0;34m\u001b[0m\u001b[0m\n\u001b[0m\u001b[1;32m    765\u001b[0m \u001b[0;34m\u001b[0m\u001b[0m\n\u001b[1;32m    766\u001b[0m     \u001b[0;32mdef\u001b[0m \u001b[0magg\u001b[0m\u001b[0;34m(\u001b[0m\u001b[0mself\u001b[0m\u001b[0;34m)\u001b[0m\u001b[0;34m:\u001b[0m\u001b[0;34m\u001b[0m\u001b[0;34m\u001b[0m\u001b[0m\n",
            "\u001b[0;32m/usr/local/lib/python3.10/dist-packages/pandas/core/apply.py\u001b[0m in \u001b[0;36mapply_standard\u001b[0;34m(self)\u001b[0m\n\u001b[1;32m    889\u001b[0m \u001b[0;34m\u001b[0m\u001b[0m\n\u001b[1;32m    890\u001b[0m     \u001b[0;32mdef\u001b[0m \u001b[0mapply_standard\u001b[0m\u001b[0;34m(\u001b[0m\u001b[0mself\u001b[0m\u001b[0;34m)\u001b[0m\u001b[0;34m:\u001b[0m\u001b[0;34m\u001b[0m\u001b[0;34m\u001b[0m\u001b[0m\n\u001b[0;32m--> 891\u001b[0;31m         \u001b[0mresults\u001b[0m\u001b[0;34m,\u001b[0m \u001b[0mres_index\u001b[0m \u001b[0;34m=\u001b[0m \u001b[0mself\u001b[0m\u001b[0;34m.\u001b[0m\u001b[0mapply_series_generator\u001b[0m\u001b[0;34m(\u001b[0m\u001b[0;34m)\u001b[0m\u001b[0;34m\u001b[0m\u001b[0;34m\u001b[0m\u001b[0m\n\u001b[0m\u001b[1;32m    892\u001b[0m \u001b[0;34m\u001b[0m\u001b[0m\n\u001b[1;32m    893\u001b[0m         \u001b[0;31m# wrap results\u001b[0m\u001b[0;34m\u001b[0m\u001b[0;34m\u001b[0m\u001b[0m\n",
            "\u001b[0;32m/usr/local/lib/python3.10/dist-packages/pandas/core/apply.py\u001b[0m in \u001b[0;36mapply_series_generator\u001b[0;34m(self)\u001b[0m\n\u001b[1;32m    905\u001b[0m             \u001b[0;32mfor\u001b[0m \u001b[0mi\u001b[0m\u001b[0;34m,\u001b[0m \u001b[0mv\u001b[0m \u001b[0;32min\u001b[0m \u001b[0menumerate\u001b[0m\u001b[0;34m(\u001b[0m\u001b[0mseries_gen\u001b[0m\u001b[0;34m)\u001b[0m\u001b[0;34m:\u001b[0m\u001b[0;34m\u001b[0m\u001b[0;34m\u001b[0m\u001b[0m\n\u001b[1;32m    906\u001b[0m                 \u001b[0;31m# ignore SettingWithCopy here in case the user mutates\u001b[0m\u001b[0;34m\u001b[0m\u001b[0;34m\u001b[0m\u001b[0m\n\u001b[0;32m--> 907\u001b[0;31m                 \u001b[0mresults\u001b[0m\u001b[0;34m[\u001b[0m\u001b[0mi\u001b[0m\u001b[0;34m]\u001b[0m \u001b[0;34m=\u001b[0m \u001b[0mself\u001b[0m\u001b[0;34m.\u001b[0m\u001b[0mf\u001b[0m\u001b[0;34m(\u001b[0m\u001b[0mv\u001b[0m\u001b[0;34m)\u001b[0m\u001b[0;34m\u001b[0m\u001b[0;34m\u001b[0m\u001b[0m\n\u001b[0m\u001b[1;32m    908\u001b[0m                 \u001b[0;32mif\u001b[0m \u001b[0misinstance\u001b[0m\u001b[0;34m(\u001b[0m\u001b[0mresults\u001b[0m\u001b[0;34m[\u001b[0m\u001b[0mi\u001b[0m\u001b[0;34m]\u001b[0m\u001b[0;34m,\u001b[0m \u001b[0mABCSeries\u001b[0m\u001b[0;34m)\u001b[0m\u001b[0;34m:\u001b[0m\u001b[0;34m\u001b[0m\u001b[0;34m\u001b[0m\u001b[0m\n\u001b[1;32m    909\u001b[0m                     \u001b[0;31m# If we have a view on v, we need to make a copy because\u001b[0m\u001b[0;34m\u001b[0m\u001b[0;34m\u001b[0m\u001b[0m\n",
            "\u001b[0;32m/usr/local/lib/python3.10/dist-packages/pandas/core/apply.py\u001b[0m in \u001b[0;36mf\u001b[0;34m(x)\u001b[0m\n\u001b[1;32m    140\u001b[0m \u001b[0;34m\u001b[0m\u001b[0m\n\u001b[1;32m    141\u001b[0m             \u001b[0;32mdef\u001b[0m \u001b[0mf\u001b[0m\u001b[0;34m(\u001b[0m\u001b[0mx\u001b[0m\u001b[0;34m)\u001b[0m\u001b[0;34m:\u001b[0m\u001b[0;34m\u001b[0m\u001b[0;34m\u001b[0m\u001b[0m\n\u001b[0;32m--> 142\u001b[0;31m                 \u001b[0;32mreturn\u001b[0m \u001b[0mfunc\u001b[0m\u001b[0;34m(\u001b[0m\u001b[0mx\u001b[0m\u001b[0;34m,\u001b[0m \u001b[0;34m*\u001b[0m\u001b[0margs\u001b[0m\u001b[0;34m,\u001b[0m \u001b[0;34m**\u001b[0m\u001b[0mkwargs\u001b[0m\u001b[0;34m)\u001b[0m\u001b[0;34m\u001b[0m\u001b[0;34m\u001b[0m\u001b[0m\n\u001b[0m\u001b[1;32m    143\u001b[0m \u001b[0;34m\u001b[0m\u001b[0m\n\u001b[1;32m    144\u001b[0m         \u001b[0;32melse\u001b[0m\u001b[0;34m:\u001b[0m\u001b[0;34m\u001b[0m\u001b[0;34m\u001b[0m\u001b[0m\n",
            "\u001b[0;32m<ipython-input-23-b032cabf9024>\u001b[0m in \u001b[0;36mextract_sentinel2_data\u001b[0;34m(row, time_windows, train_bool)\u001b[0m\n\u001b[1;32m     35\u001b[0m       \u001b[0ms2_filtered_year\u001b[0m \u001b[0;34m=\u001b[0m  \u001b[0ms2_collection\u001b[0m\u001b[0;34m.\u001b[0m\u001b[0mfilterBounds\u001b[0m\u001b[0;34m(\u001b[0m\u001b[0mpoint\u001b[0m\u001b[0;34m)\u001b[0m\u001b[0;34m.\u001b[0m\u001b[0mfilterDate\u001b[0m\u001b[0;34m(\u001b[0m\u001b[0;34m'2021-04-30'\u001b[0m\u001b[0;34m,\u001b[0m \u001b[0;34m'2022-04-30'\u001b[0m\u001b[0;34m)\u001b[0m\u001b[0;34m\u001b[0m\u001b[0;34m\u001b[0m\u001b[0m\n\u001b[1;32m     36\u001b[0m \u001b[0;34m\u001b[0m\u001b[0m\n\u001b[0;32m---> 37\u001b[0;31m     \u001b[0mvalues_year\u001b[0m \u001b[0;34m=\u001b[0m \u001b[0ms2_filtered_year\u001b[0m\u001b[0;34m.\u001b[0m\u001b[0mgetRegion\u001b[0m\u001b[0;34m(\u001b[0m\u001b[0mpoint\u001b[0m\u001b[0;34m,\u001b[0m \u001b[0;36m10\u001b[0m\u001b[0;34m)\u001b[0m\u001b[0;34m.\u001b[0m\u001b[0mgetInfo\u001b[0m\u001b[0;34m(\u001b[0m\u001b[0;34m)\u001b[0m\u001b[0;34m\u001b[0m\u001b[0;34m\u001b[0m\u001b[0m\n\u001b[0m\u001b[1;32m     38\u001b[0m     \u001b[0mfeatures_year\u001b[0m \u001b[0;34m=\u001b[0m \u001b[0mget_features_sentinel2\u001b[0m\u001b[0;34m(\u001b[0m\u001b[0mvalues_year\u001b[0m\u001b[0;34m,\u001b[0m \u001b[0mlist_of_band\u001b[0m \u001b[0;34m=\u001b[0m \u001b[0ms2_bands\u001b[0m\u001b[0;34m)\u001b[0m\u001b[0;34m\u001b[0m\u001b[0;34m\u001b[0m\u001b[0m\n\u001b[1;32m     39\u001b[0m \u001b[0;34m\u001b[0m\u001b[0m\n",
            "\u001b[0;32m/usr/local/lib/python3.10/dist-packages/ee/computedobject.py\u001b[0m in \u001b[0;36mgetInfo\u001b[0;34m(self)\u001b[0m\n\u001b[1;32m    101\u001b[0m       \u001b[0mThe\u001b[0m \u001b[0mobject\u001b[0m \u001b[0mcan\u001b[0m \u001b[0mevaluate\u001b[0m \u001b[0mto\u001b[0m \u001b[0manything\u001b[0m\u001b[0;34m.\u001b[0m\u001b[0;34m\u001b[0m\u001b[0;34m\u001b[0m\u001b[0m\n\u001b[1;32m    102\u001b[0m     \"\"\"\n\u001b[0;32m--> 103\u001b[0;31m     \u001b[0;32mreturn\u001b[0m \u001b[0mdata\u001b[0m\u001b[0;34m.\u001b[0m\u001b[0mcomputeValue\u001b[0m\u001b[0;34m(\u001b[0m\u001b[0mself\u001b[0m\u001b[0;34m)\u001b[0m\u001b[0;34m\u001b[0m\u001b[0;34m\u001b[0m\u001b[0m\n\u001b[0m\u001b[1;32m    104\u001b[0m \u001b[0;34m\u001b[0m\u001b[0m\n\u001b[1;32m    105\u001b[0m   \u001b[0;32mdef\u001b[0m \u001b[0mencode\u001b[0m\u001b[0;34m(\u001b[0m\u001b[0mself\u001b[0m\u001b[0;34m,\u001b[0m \u001b[0mencoder\u001b[0m\u001b[0;34m:\u001b[0m \u001b[0mAny\u001b[0m\u001b[0;34m)\u001b[0m \u001b[0;34m->\u001b[0m \u001b[0mDict\u001b[0m\u001b[0;34m[\u001b[0m\u001b[0mstr\u001b[0m\u001b[0;34m,\u001b[0m \u001b[0mAny\u001b[0m\u001b[0;34m]\u001b[0m\u001b[0;34m:\u001b[0m\u001b[0;34m\u001b[0m\u001b[0;34m\u001b[0m\u001b[0m\n",
            "\u001b[0;32m/usr/local/lib/python3.10/dist-packages/ee/data.py\u001b[0m in \u001b[0;36mcomputeValue\u001b[0;34m(obj)\u001b[0m\n\u001b[1;32m    969\u001b[0m   \u001b[0m_maybe_populate_workload_tag\u001b[0m\u001b[0;34m(\u001b[0m\u001b[0mbody\u001b[0m\u001b[0;34m)\u001b[0m\u001b[0;34m\u001b[0m\u001b[0;34m\u001b[0m\u001b[0m\n\u001b[1;32m    970\u001b[0m \u001b[0;34m\u001b[0m\u001b[0m\n\u001b[0;32m--> 971\u001b[0;31m   return _execute_cloud_call(\n\u001b[0m\u001b[1;32m    972\u001b[0m       \u001b[0m_get_cloud_projects\u001b[0m\u001b[0;34m(\u001b[0m\u001b[0;34m)\u001b[0m\u001b[0;34m\u001b[0m\u001b[0;34m\u001b[0m\u001b[0m\n\u001b[1;32m    973\u001b[0m       \u001b[0;34m.\u001b[0m\u001b[0mvalue\u001b[0m\u001b[0;34m(\u001b[0m\u001b[0;34m)\u001b[0m\u001b[0;34m\u001b[0m\u001b[0;34m\u001b[0m\u001b[0m\n",
            "\u001b[0;32m/usr/local/lib/python3.10/dist-packages/ee/data.py\u001b[0m in \u001b[0;36m_execute_cloud_call\u001b[0;34m(call, num_retries)\u001b[0m\n\u001b[1;32m    350\u001b[0m   \"\"\"\n\u001b[1;32m    351\u001b[0m   \u001b[0;32mtry\u001b[0m\u001b[0;34m:\u001b[0m\u001b[0;34m\u001b[0m\u001b[0;34m\u001b[0m\u001b[0m\n\u001b[0;32m--> 352\u001b[0;31m     \u001b[0;32mreturn\u001b[0m \u001b[0mcall\u001b[0m\u001b[0;34m.\u001b[0m\u001b[0mexecute\u001b[0m\u001b[0;34m(\u001b[0m\u001b[0mnum_retries\u001b[0m\u001b[0;34m=\u001b[0m\u001b[0mnum_retries\u001b[0m\u001b[0;34m)\u001b[0m\u001b[0;34m\u001b[0m\u001b[0;34m\u001b[0m\u001b[0m\n\u001b[0m\u001b[1;32m    353\u001b[0m   \u001b[0;32mexcept\u001b[0m \u001b[0mgoogleapiclient\u001b[0m\u001b[0;34m.\u001b[0m\u001b[0merrors\u001b[0m\u001b[0;34m.\u001b[0m\u001b[0mHttpError\u001b[0m \u001b[0;32mas\u001b[0m \u001b[0me\u001b[0m\u001b[0;34m:\u001b[0m\u001b[0;34m\u001b[0m\u001b[0;34m\u001b[0m\u001b[0m\n\u001b[1;32m    354\u001b[0m     \u001b[0;32mraise\u001b[0m \u001b[0m_translate_cloud_exception\u001b[0m\u001b[0;34m(\u001b[0m\u001b[0me\u001b[0m\u001b[0;34m)\u001b[0m  \u001b[0;31m# pylint: disable=raise-missing-from\u001b[0m\u001b[0;34m\u001b[0m\u001b[0;34m\u001b[0m\u001b[0m\n",
            "\u001b[0;32m/usr/local/lib/python3.10/dist-packages/googleapiclient/_helpers.py\u001b[0m in \u001b[0;36mpositional_wrapper\u001b[0;34m(*args, **kwargs)\u001b[0m\n\u001b[1;32m    128\u001b[0m                 \u001b[0;32melif\u001b[0m \u001b[0mpositional_parameters_enforcement\u001b[0m \u001b[0;34m==\u001b[0m \u001b[0mPOSITIONAL_WARNING\u001b[0m\u001b[0;34m:\u001b[0m\u001b[0;34m\u001b[0m\u001b[0;34m\u001b[0m\u001b[0m\n\u001b[1;32m    129\u001b[0m                     \u001b[0mlogger\u001b[0m\u001b[0;34m.\u001b[0m\u001b[0mwarning\u001b[0m\u001b[0;34m(\u001b[0m\u001b[0mmessage\u001b[0m\u001b[0;34m)\u001b[0m\u001b[0;34m\u001b[0m\u001b[0;34m\u001b[0m\u001b[0m\n\u001b[0;32m--> 130\u001b[0;31m             \u001b[0;32mreturn\u001b[0m \u001b[0mwrapped\u001b[0m\u001b[0;34m(\u001b[0m\u001b[0;34m*\u001b[0m\u001b[0margs\u001b[0m\u001b[0;34m,\u001b[0m \u001b[0;34m**\u001b[0m\u001b[0mkwargs\u001b[0m\u001b[0;34m)\u001b[0m\u001b[0;34m\u001b[0m\u001b[0;34m\u001b[0m\u001b[0m\n\u001b[0m\u001b[1;32m    131\u001b[0m \u001b[0;34m\u001b[0m\u001b[0m\n\u001b[1;32m    132\u001b[0m         \u001b[0;32mreturn\u001b[0m \u001b[0mpositional_wrapper\u001b[0m\u001b[0;34m\u001b[0m\u001b[0;34m\u001b[0m\u001b[0m\n",
            "\u001b[0;32m/usr/local/lib/python3.10/dist-packages/googleapiclient/http.py\u001b[0m in \u001b[0;36mexecute\u001b[0;34m(self, http, num_retries)\u001b[0m\n\u001b[1;32m    921\u001b[0m \u001b[0;34m\u001b[0m\u001b[0m\n\u001b[1;32m    922\u001b[0m         \u001b[0;31m# Handle retries for server-side errors.\u001b[0m\u001b[0;34m\u001b[0m\u001b[0;34m\u001b[0m\u001b[0m\n\u001b[0;32m--> 923\u001b[0;31m         resp, content = _retry_request(\n\u001b[0m\u001b[1;32m    924\u001b[0m             \u001b[0mhttp\u001b[0m\u001b[0;34m,\u001b[0m\u001b[0;34m\u001b[0m\u001b[0;34m\u001b[0m\u001b[0m\n\u001b[1;32m    925\u001b[0m             \u001b[0mnum_retries\u001b[0m\u001b[0;34m,\u001b[0m\u001b[0;34m\u001b[0m\u001b[0;34m\u001b[0m\u001b[0m\n",
            "\u001b[0;32m/usr/local/lib/python3.10/dist-packages/googleapiclient/http.py\u001b[0m in \u001b[0;36m_retry_request\u001b[0;34m(http, num_retries, req_type, sleep, rand, uri, method, *args, **kwargs)\u001b[0m\n\u001b[1;32m    189\u001b[0m         \u001b[0;32mtry\u001b[0m\u001b[0;34m:\u001b[0m\u001b[0;34m\u001b[0m\u001b[0;34m\u001b[0m\u001b[0m\n\u001b[1;32m    190\u001b[0m             \u001b[0mexception\u001b[0m \u001b[0;34m=\u001b[0m \u001b[0;32mNone\u001b[0m\u001b[0;34m\u001b[0m\u001b[0;34m\u001b[0m\u001b[0m\n\u001b[0;32m--> 191\u001b[0;31m             \u001b[0mresp\u001b[0m\u001b[0;34m,\u001b[0m \u001b[0mcontent\u001b[0m \u001b[0;34m=\u001b[0m \u001b[0mhttp\u001b[0m\u001b[0;34m.\u001b[0m\u001b[0mrequest\u001b[0m\u001b[0;34m(\u001b[0m\u001b[0muri\u001b[0m\u001b[0;34m,\u001b[0m \u001b[0mmethod\u001b[0m\u001b[0;34m,\u001b[0m \u001b[0;34m*\u001b[0m\u001b[0margs\u001b[0m\u001b[0;34m,\u001b[0m \u001b[0;34m**\u001b[0m\u001b[0mkwargs\u001b[0m\u001b[0;34m)\u001b[0m\u001b[0;34m\u001b[0m\u001b[0;34m\u001b[0m\u001b[0m\n\u001b[0m\u001b[1;32m    192\u001b[0m         \u001b[0;31m# Retry on SSL errors and socket timeout errors.\u001b[0m\u001b[0;34m\u001b[0m\u001b[0;34m\u001b[0m\u001b[0m\n\u001b[1;32m    193\u001b[0m         \u001b[0;32mexcept\u001b[0m \u001b[0m_ssl_SSLError\u001b[0m \u001b[0;32mas\u001b[0m \u001b[0mssl_error\u001b[0m\u001b[0;34m:\u001b[0m\u001b[0;34m\u001b[0m\u001b[0;34m\u001b[0m\u001b[0m\n",
            "\u001b[0;32m/usr/local/lib/python3.10/dist-packages/google_auth_httplib2.py\u001b[0m in \u001b[0;36mrequest\u001b[0;34m(self, uri, method, body, headers, redirections, connection_type, **kwargs)\u001b[0m\n\u001b[1;32m    216\u001b[0m \u001b[0;34m\u001b[0m\u001b[0m\n\u001b[1;32m    217\u001b[0m         \u001b[0;31m# Make the request.\u001b[0m\u001b[0;34m\u001b[0m\u001b[0;34m\u001b[0m\u001b[0m\n\u001b[0;32m--> 218\u001b[0;31m         response, content = self.http.request(\n\u001b[0m\u001b[1;32m    219\u001b[0m             \u001b[0muri\u001b[0m\u001b[0;34m,\u001b[0m\u001b[0;34m\u001b[0m\u001b[0;34m\u001b[0m\u001b[0m\n\u001b[1;32m    220\u001b[0m             \u001b[0mmethod\u001b[0m\u001b[0;34m,\u001b[0m\u001b[0;34m\u001b[0m\u001b[0;34m\u001b[0m\u001b[0m\n",
            "\u001b[0;32m/usr/local/lib/python3.10/dist-packages/ee/_cloud_api_utils.py\u001b[0m in \u001b[0;36mrequest\u001b[0;34m(***failed resolving arguments***)\u001b[0m\n\u001b[1;32m     60\u001b[0m     \u001b[0;32mwith\u001b[0m \u001b[0mrequests\u001b[0m\u001b[0;34m.\u001b[0m\u001b[0mSession\u001b[0m\u001b[0;34m(\u001b[0m\u001b[0;34m)\u001b[0m \u001b[0;32mas\u001b[0m \u001b[0msession\u001b[0m\u001b[0;34m:\u001b[0m\u001b[0;34m\u001b[0m\u001b[0;34m\u001b[0m\u001b[0m\n\u001b[1;32m     61\u001b[0m       \u001b[0msession\u001b[0m\u001b[0;34m.\u001b[0m\u001b[0mmax_redirects\u001b[0m \u001b[0;34m=\u001b[0m \u001b[0mredirections\u001b[0m\u001b[0;34m\u001b[0m\u001b[0;34m\u001b[0m\u001b[0m\n\u001b[0;32m---> 62\u001b[0;31m       response = session.request(\n\u001b[0m\u001b[1;32m     63\u001b[0m           method, uri, data=body, headers=headers, timeout=self._timeout)\n\u001b[1;32m     64\u001b[0m       \u001b[0mheaders\u001b[0m \u001b[0;34m=\u001b[0m \u001b[0mdict\u001b[0m\u001b[0;34m(\u001b[0m\u001b[0mresponse\u001b[0m\u001b[0;34m.\u001b[0m\u001b[0mheaders\u001b[0m\u001b[0;34m)\u001b[0m\u001b[0;34m\u001b[0m\u001b[0;34m\u001b[0m\u001b[0m\n",
            "\u001b[0;32m/usr/local/lib/python3.10/dist-packages/requests/sessions.py\u001b[0m in \u001b[0;36mrequest\u001b[0;34m(self, method, url, params, data, headers, cookies, files, auth, timeout, allow_redirects, proxies, hooks, stream, verify, cert, json)\u001b[0m\n\u001b[1;32m    587\u001b[0m         }\n\u001b[1;32m    588\u001b[0m         \u001b[0msend_kwargs\u001b[0m\u001b[0;34m.\u001b[0m\u001b[0mupdate\u001b[0m\u001b[0;34m(\u001b[0m\u001b[0msettings\u001b[0m\u001b[0;34m)\u001b[0m\u001b[0;34m\u001b[0m\u001b[0;34m\u001b[0m\u001b[0m\n\u001b[0;32m--> 589\u001b[0;31m         \u001b[0mresp\u001b[0m \u001b[0;34m=\u001b[0m \u001b[0mself\u001b[0m\u001b[0;34m.\u001b[0m\u001b[0msend\u001b[0m\u001b[0;34m(\u001b[0m\u001b[0mprep\u001b[0m\u001b[0;34m,\u001b[0m \u001b[0;34m**\u001b[0m\u001b[0msend_kwargs\u001b[0m\u001b[0;34m)\u001b[0m\u001b[0;34m\u001b[0m\u001b[0;34m\u001b[0m\u001b[0m\n\u001b[0m\u001b[1;32m    590\u001b[0m \u001b[0;34m\u001b[0m\u001b[0m\n\u001b[1;32m    591\u001b[0m         \u001b[0;32mreturn\u001b[0m \u001b[0mresp\u001b[0m\u001b[0;34m\u001b[0m\u001b[0;34m\u001b[0m\u001b[0m\n",
            "\u001b[0;32m/usr/local/lib/python3.10/dist-packages/requests/sessions.py\u001b[0m in \u001b[0;36msend\u001b[0;34m(self, request, **kwargs)\u001b[0m\n\u001b[1;32m    701\u001b[0m \u001b[0;34m\u001b[0m\u001b[0m\n\u001b[1;32m    702\u001b[0m         \u001b[0;31m# Send the request\u001b[0m\u001b[0;34m\u001b[0m\u001b[0;34m\u001b[0m\u001b[0m\n\u001b[0;32m--> 703\u001b[0;31m         \u001b[0mr\u001b[0m \u001b[0;34m=\u001b[0m \u001b[0madapter\u001b[0m\u001b[0;34m.\u001b[0m\u001b[0msend\u001b[0m\u001b[0;34m(\u001b[0m\u001b[0mrequest\u001b[0m\u001b[0;34m,\u001b[0m \u001b[0;34m**\u001b[0m\u001b[0mkwargs\u001b[0m\u001b[0;34m)\u001b[0m\u001b[0;34m\u001b[0m\u001b[0;34m\u001b[0m\u001b[0m\n\u001b[0m\u001b[1;32m    704\u001b[0m \u001b[0;34m\u001b[0m\u001b[0m\n\u001b[1;32m    705\u001b[0m         \u001b[0;31m# Total elapsed time of the request (approximately)\u001b[0m\u001b[0;34m\u001b[0m\u001b[0;34m\u001b[0m\u001b[0m\n",
            "\u001b[0;32m/usr/local/lib/python3.10/dist-packages/requests/adapters.py\u001b[0m in \u001b[0;36msend\u001b[0;34m(self, request, stream, timeout, verify, cert, proxies)\u001b[0m\n\u001b[1;32m    484\u001b[0m \u001b[0;34m\u001b[0m\u001b[0m\n\u001b[1;32m    485\u001b[0m         \u001b[0;32mtry\u001b[0m\u001b[0;34m:\u001b[0m\u001b[0;34m\u001b[0m\u001b[0;34m\u001b[0m\u001b[0m\n\u001b[0;32m--> 486\u001b[0;31m             resp = conn.urlopen(\n\u001b[0m\u001b[1;32m    487\u001b[0m                 \u001b[0mmethod\u001b[0m\u001b[0;34m=\u001b[0m\u001b[0mrequest\u001b[0m\u001b[0;34m.\u001b[0m\u001b[0mmethod\u001b[0m\u001b[0;34m,\u001b[0m\u001b[0;34m\u001b[0m\u001b[0;34m\u001b[0m\u001b[0m\n\u001b[1;32m    488\u001b[0m                 \u001b[0murl\u001b[0m\u001b[0;34m=\u001b[0m\u001b[0murl\u001b[0m\u001b[0;34m,\u001b[0m\u001b[0;34m\u001b[0m\u001b[0;34m\u001b[0m\u001b[0m\n",
            "\u001b[0;32m/usr/local/lib/python3.10/dist-packages/urllib3/connectionpool.py\u001b[0m in \u001b[0;36murlopen\u001b[0;34m(self, method, url, body, headers, retries, redirect, assert_same_host, timeout, pool_timeout, release_conn, chunked, body_pos, preload_content, decode_content, **response_kw)\u001b[0m\n\u001b[1;32m    788\u001b[0m \u001b[0;34m\u001b[0m\u001b[0m\n\u001b[1;32m    789\u001b[0m             \u001b[0;31m# Make the request on the HTTPConnection object\u001b[0m\u001b[0;34m\u001b[0m\u001b[0;34m\u001b[0m\u001b[0m\n\u001b[0;32m--> 790\u001b[0;31m             response = self._make_request(\n\u001b[0m\u001b[1;32m    791\u001b[0m                 \u001b[0mconn\u001b[0m\u001b[0;34m,\u001b[0m\u001b[0;34m\u001b[0m\u001b[0;34m\u001b[0m\u001b[0m\n\u001b[1;32m    792\u001b[0m                 \u001b[0mmethod\u001b[0m\u001b[0;34m,\u001b[0m\u001b[0;34m\u001b[0m\u001b[0;34m\u001b[0m\u001b[0m\n",
            "\u001b[0;32m/usr/local/lib/python3.10/dist-packages/urllib3/connectionpool.py\u001b[0m in \u001b[0;36m_make_request\u001b[0;34m(self, conn, method, url, body, headers, retries, timeout, chunked, response_conn, preload_content, decode_content, enforce_content_length)\u001b[0m\n\u001b[1;32m    534\u001b[0m         \u001b[0;31m# Receive the response from the server\u001b[0m\u001b[0;34m\u001b[0m\u001b[0;34m\u001b[0m\u001b[0m\n\u001b[1;32m    535\u001b[0m         \u001b[0;32mtry\u001b[0m\u001b[0;34m:\u001b[0m\u001b[0;34m\u001b[0m\u001b[0;34m\u001b[0m\u001b[0m\n\u001b[0;32m--> 536\u001b[0;31m             \u001b[0mresponse\u001b[0m \u001b[0;34m=\u001b[0m \u001b[0mconn\u001b[0m\u001b[0;34m.\u001b[0m\u001b[0mgetresponse\u001b[0m\u001b[0;34m(\u001b[0m\u001b[0;34m)\u001b[0m\u001b[0;34m\u001b[0m\u001b[0;34m\u001b[0m\u001b[0m\n\u001b[0m\u001b[1;32m    537\u001b[0m         \u001b[0;32mexcept\u001b[0m \u001b[0;34m(\u001b[0m\u001b[0mBaseSSLError\u001b[0m\u001b[0;34m,\u001b[0m \u001b[0mOSError\u001b[0m\u001b[0;34m)\u001b[0m \u001b[0;32mas\u001b[0m \u001b[0me\u001b[0m\u001b[0;34m:\u001b[0m\u001b[0;34m\u001b[0m\u001b[0;34m\u001b[0m\u001b[0m\n\u001b[1;32m    538\u001b[0m             \u001b[0mself\u001b[0m\u001b[0;34m.\u001b[0m\u001b[0m_raise_timeout\u001b[0m\u001b[0;34m(\u001b[0m\u001b[0merr\u001b[0m\u001b[0;34m=\u001b[0m\u001b[0me\u001b[0m\u001b[0;34m,\u001b[0m \u001b[0murl\u001b[0m\u001b[0;34m=\u001b[0m\u001b[0murl\u001b[0m\u001b[0;34m,\u001b[0m \u001b[0mtimeout_value\u001b[0m\u001b[0;34m=\u001b[0m\u001b[0mread_timeout\u001b[0m\u001b[0;34m)\u001b[0m\u001b[0;34m\u001b[0m\u001b[0;34m\u001b[0m\u001b[0m\n",
            "\u001b[0;32m/usr/local/lib/python3.10/dist-packages/urllib3/connection.py\u001b[0m in \u001b[0;36mgetresponse\u001b[0;34m(self)\u001b[0m\n\u001b[1;32m    459\u001b[0m \u001b[0;34m\u001b[0m\u001b[0m\n\u001b[1;32m    460\u001b[0m         \u001b[0;31m# Get the response from http.client.HTTPConnection\u001b[0m\u001b[0;34m\u001b[0m\u001b[0;34m\u001b[0m\u001b[0m\n\u001b[0;32m--> 461\u001b[0;31m         \u001b[0mhttplib_response\u001b[0m \u001b[0;34m=\u001b[0m \u001b[0msuper\u001b[0m\u001b[0;34m(\u001b[0m\u001b[0;34m)\u001b[0m\u001b[0;34m.\u001b[0m\u001b[0mgetresponse\u001b[0m\u001b[0;34m(\u001b[0m\u001b[0;34m)\u001b[0m\u001b[0;34m\u001b[0m\u001b[0;34m\u001b[0m\u001b[0m\n\u001b[0m\u001b[1;32m    462\u001b[0m \u001b[0;34m\u001b[0m\u001b[0m\n\u001b[1;32m    463\u001b[0m         \u001b[0;32mtry\u001b[0m\u001b[0;34m:\u001b[0m\u001b[0;34m\u001b[0m\u001b[0;34m\u001b[0m\u001b[0m\n",
            "\u001b[0;32m/usr/lib/python3.10/http/client.py\u001b[0m in \u001b[0;36mgetresponse\u001b[0;34m(self)\u001b[0m\n\u001b[1;32m   1373\u001b[0m         \u001b[0;32mtry\u001b[0m\u001b[0;34m:\u001b[0m\u001b[0;34m\u001b[0m\u001b[0;34m\u001b[0m\u001b[0m\n\u001b[1;32m   1374\u001b[0m             \u001b[0;32mtry\u001b[0m\u001b[0;34m:\u001b[0m\u001b[0;34m\u001b[0m\u001b[0;34m\u001b[0m\u001b[0m\n\u001b[0;32m-> 1375\u001b[0;31m                 \u001b[0mresponse\u001b[0m\u001b[0;34m.\u001b[0m\u001b[0mbegin\u001b[0m\u001b[0;34m(\u001b[0m\u001b[0;34m)\u001b[0m\u001b[0;34m\u001b[0m\u001b[0;34m\u001b[0m\u001b[0m\n\u001b[0m\u001b[1;32m   1376\u001b[0m             \u001b[0;32mexcept\u001b[0m \u001b[0mConnectionError\u001b[0m\u001b[0;34m:\u001b[0m\u001b[0;34m\u001b[0m\u001b[0;34m\u001b[0m\u001b[0m\n\u001b[1;32m   1377\u001b[0m                 \u001b[0mself\u001b[0m\u001b[0;34m.\u001b[0m\u001b[0mclose\u001b[0m\u001b[0;34m(\u001b[0m\u001b[0;34m)\u001b[0m\u001b[0;34m\u001b[0m\u001b[0;34m\u001b[0m\u001b[0m\n",
            "\u001b[0;32m/usr/lib/python3.10/http/client.py\u001b[0m in \u001b[0;36mbegin\u001b[0;34m(self)\u001b[0m\n\u001b[1;32m    316\u001b[0m         \u001b[0;31m# read until we get a non-100 response\u001b[0m\u001b[0;34m\u001b[0m\u001b[0;34m\u001b[0m\u001b[0m\n\u001b[1;32m    317\u001b[0m         \u001b[0;32mwhile\u001b[0m \u001b[0;32mTrue\u001b[0m\u001b[0;34m:\u001b[0m\u001b[0;34m\u001b[0m\u001b[0;34m\u001b[0m\u001b[0m\n\u001b[0;32m--> 318\u001b[0;31m             \u001b[0mversion\u001b[0m\u001b[0;34m,\u001b[0m \u001b[0mstatus\u001b[0m\u001b[0;34m,\u001b[0m \u001b[0mreason\u001b[0m \u001b[0;34m=\u001b[0m \u001b[0mself\u001b[0m\u001b[0;34m.\u001b[0m\u001b[0m_read_status\u001b[0m\u001b[0;34m(\u001b[0m\u001b[0;34m)\u001b[0m\u001b[0;34m\u001b[0m\u001b[0;34m\u001b[0m\u001b[0m\n\u001b[0m\u001b[1;32m    319\u001b[0m             \u001b[0;32mif\u001b[0m \u001b[0mstatus\u001b[0m \u001b[0;34m!=\u001b[0m \u001b[0mCONTINUE\u001b[0m\u001b[0;34m:\u001b[0m\u001b[0;34m\u001b[0m\u001b[0;34m\u001b[0m\u001b[0m\n\u001b[1;32m    320\u001b[0m                 \u001b[0;32mbreak\u001b[0m\u001b[0;34m\u001b[0m\u001b[0;34m\u001b[0m\u001b[0m\n",
            "\u001b[0;32m/usr/lib/python3.10/http/client.py\u001b[0m in \u001b[0;36m_read_status\u001b[0;34m(self)\u001b[0m\n\u001b[1;32m    277\u001b[0m \u001b[0;34m\u001b[0m\u001b[0m\n\u001b[1;32m    278\u001b[0m     \u001b[0;32mdef\u001b[0m \u001b[0m_read_status\u001b[0m\u001b[0;34m(\u001b[0m\u001b[0mself\u001b[0m\u001b[0;34m)\u001b[0m\u001b[0;34m:\u001b[0m\u001b[0;34m\u001b[0m\u001b[0;34m\u001b[0m\u001b[0m\n\u001b[0;32m--> 279\u001b[0;31m         \u001b[0mline\u001b[0m \u001b[0;34m=\u001b[0m \u001b[0mstr\u001b[0m\u001b[0;34m(\u001b[0m\u001b[0mself\u001b[0m\u001b[0;34m.\u001b[0m\u001b[0mfp\u001b[0m\u001b[0;34m.\u001b[0m\u001b[0mreadline\u001b[0m\u001b[0;34m(\u001b[0m\u001b[0m_MAXLINE\u001b[0m \u001b[0;34m+\u001b[0m \u001b[0;36m1\u001b[0m\u001b[0;34m)\u001b[0m\u001b[0;34m,\u001b[0m \u001b[0;34m\"iso-8859-1\"\u001b[0m\u001b[0;34m)\u001b[0m\u001b[0;34m\u001b[0m\u001b[0;34m\u001b[0m\u001b[0m\n\u001b[0m\u001b[1;32m    280\u001b[0m         \u001b[0;32mif\u001b[0m \u001b[0mlen\u001b[0m\u001b[0;34m(\u001b[0m\u001b[0mline\u001b[0m\u001b[0;34m)\u001b[0m \u001b[0;34m>\u001b[0m \u001b[0m_MAXLINE\u001b[0m\u001b[0;34m:\u001b[0m\u001b[0;34m\u001b[0m\u001b[0;34m\u001b[0m\u001b[0m\n\u001b[1;32m    281\u001b[0m             \u001b[0;32mraise\u001b[0m \u001b[0mLineTooLong\u001b[0m\u001b[0;34m(\u001b[0m\u001b[0;34m\"status line\"\u001b[0m\u001b[0;34m)\u001b[0m\u001b[0;34m\u001b[0m\u001b[0;34m\u001b[0m\u001b[0m\n",
            "\u001b[0;32m/usr/lib/python3.10/socket.py\u001b[0m in \u001b[0;36mreadinto\u001b[0;34m(self, b)\u001b[0m\n\u001b[1;32m    703\u001b[0m         \u001b[0;32mwhile\u001b[0m \u001b[0;32mTrue\u001b[0m\u001b[0;34m:\u001b[0m\u001b[0;34m\u001b[0m\u001b[0;34m\u001b[0m\u001b[0m\n\u001b[1;32m    704\u001b[0m             \u001b[0;32mtry\u001b[0m\u001b[0;34m:\u001b[0m\u001b[0;34m\u001b[0m\u001b[0;34m\u001b[0m\u001b[0m\n\u001b[0;32m--> 705\u001b[0;31m                 \u001b[0;32mreturn\u001b[0m \u001b[0mself\u001b[0m\u001b[0;34m.\u001b[0m\u001b[0m_sock\u001b[0m\u001b[0;34m.\u001b[0m\u001b[0mrecv_into\u001b[0m\u001b[0;34m(\u001b[0m\u001b[0mb\u001b[0m\u001b[0;34m)\u001b[0m\u001b[0;34m\u001b[0m\u001b[0;34m\u001b[0m\u001b[0m\n\u001b[0m\u001b[1;32m    706\u001b[0m             \u001b[0;32mexcept\u001b[0m \u001b[0mtimeout\u001b[0m\u001b[0;34m:\u001b[0m\u001b[0;34m\u001b[0m\u001b[0;34m\u001b[0m\u001b[0m\n\u001b[1;32m    707\u001b[0m                 \u001b[0mself\u001b[0m\u001b[0;34m.\u001b[0m\u001b[0m_timeout_occurred\u001b[0m \u001b[0;34m=\u001b[0m \u001b[0;32mTrue\u001b[0m\u001b[0;34m\u001b[0m\u001b[0;34m\u001b[0m\u001b[0m\n",
            "\u001b[0;32m/usr/lib/python3.10/ssl.py\u001b[0m in \u001b[0;36mrecv_into\u001b[0;34m(self, buffer, nbytes, flags)\u001b[0m\n\u001b[1;32m   1272\u001b[0m                   \u001b[0;34m\"non-zero flags not allowed in calls to recv_into() on %s\"\u001b[0m \u001b[0;34m%\u001b[0m\u001b[0;34m\u001b[0m\u001b[0;34m\u001b[0m\u001b[0m\n\u001b[1;32m   1273\u001b[0m                   self.__class__)\n\u001b[0;32m-> 1274\u001b[0;31m             \u001b[0;32mreturn\u001b[0m \u001b[0mself\u001b[0m\u001b[0;34m.\u001b[0m\u001b[0mread\u001b[0m\u001b[0;34m(\u001b[0m\u001b[0mnbytes\u001b[0m\u001b[0;34m,\u001b[0m \u001b[0mbuffer\u001b[0m\u001b[0;34m)\u001b[0m\u001b[0;34m\u001b[0m\u001b[0;34m\u001b[0m\u001b[0m\n\u001b[0m\u001b[1;32m   1275\u001b[0m         \u001b[0;32melse\u001b[0m\u001b[0;34m:\u001b[0m\u001b[0;34m\u001b[0m\u001b[0;34m\u001b[0m\u001b[0m\n\u001b[1;32m   1276\u001b[0m             \u001b[0;32mreturn\u001b[0m \u001b[0msuper\u001b[0m\u001b[0;34m(\u001b[0m\u001b[0;34m)\u001b[0m\u001b[0;34m.\u001b[0m\u001b[0mrecv_into\u001b[0m\u001b[0;34m(\u001b[0m\u001b[0mbuffer\u001b[0m\u001b[0;34m,\u001b[0m \u001b[0mnbytes\u001b[0m\u001b[0;34m,\u001b[0m \u001b[0mflags\u001b[0m\u001b[0;34m)\u001b[0m\u001b[0;34m\u001b[0m\u001b[0;34m\u001b[0m\u001b[0m\n",
            "\u001b[0;32m/usr/lib/python3.10/ssl.py\u001b[0m in \u001b[0;36mread\u001b[0;34m(self, len, buffer)\u001b[0m\n\u001b[1;32m   1128\u001b[0m         \u001b[0;32mtry\u001b[0m\u001b[0;34m:\u001b[0m\u001b[0;34m\u001b[0m\u001b[0;34m\u001b[0m\u001b[0m\n\u001b[1;32m   1129\u001b[0m             \u001b[0;32mif\u001b[0m \u001b[0mbuffer\u001b[0m \u001b[0;32mis\u001b[0m \u001b[0;32mnot\u001b[0m \u001b[0;32mNone\u001b[0m\u001b[0;34m:\u001b[0m\u001b[0;34m\u001b[0m\u001b[0;34m\u001b[0m\u001b[0m\n\u001b[0;32m-> 1130\u001b[0;31m                 \u001b[0;32mreturn\u001b[0m \u001b[0mself\u001b[0m\u001b[0;34m.\u001b[0m\u001b[0m_sslobj\u001b[0m\u001b[0;34m.\u001b[0m\u001b[0mread\u001b[0m\u001b[0;34m(\u001b[0m\u001b[0mlen\u001b[0m\u001b[0;34m,\u001b[0m \u001b[0mbuffer\u001b[0m\u001b[0;34m)\u001b[0m\u001b[0;34m\u001b[0m\u001b[0;34m\u001b[0m\u001b[0m\n\u001b[0m\u001b[1;32m   1131\u001b[0m             \u001b[0;32melse\u001b[0m\u001b[0;34m:\u001b[0m\u001b[0;34m\u001b[0m\u001b[0;34m\u001b[0m\u001b[0m\n\u001b[1;32m   1132\u001b[0m                 \u001b[0;32mreturn\u001b[0m \u001b[0mself\u001b[0m\u001b[0;34m.\u001b[0m\u001b[0m_sslobj\u001b[0m\u001b[0;34m.\u001b[0m\u001b[0mread\u001b[0m\u001b[0;34m(\u001b[0m\u001b[0mlen\u001b[0m\u001b[0;34m)\u001b[0m\u001b[0;34m\u001b[0m\u001b[0;34m\u001b[0m\u001b[0m\n",
            "\u001b[0;31mKeyboardInterrupt\u001b[0m: "
          ]
        }
      ],
      "source": [
        "features_sentinel2 = train_data.apply(extract_sentinel2_data,\n",
        "                                      time_windows = time_periods_train, train_bool = True,\n",
        "                                      axis=1, result_type='expand')\n",
        "features_sentinel2.columns = ['NDVI_change', 'NDWI_change', 'RNDVI_change', 'BI_change', 'NDMI_change', 'SR_change',\n",
        "                              'NDVI', 'NDWI', 'RNDVI', 'BI', 'NDMI', 'SR',  'B2', 'B3', 'B4']\n",
        "train_data = pd.concat([train_data, features_sentinel2], axis=1)"
      ]
    },
    {
      "cell_type": "code",
      "execution_count": null,
      "metadata": {
        "id": "LxV5MrRpDdVq"
      },
      "outputs": [],
      "source": [
        "test_sentinel2 = test_data.apply(extract_sentinel2_data, time_windows = time_periods_test, train_bool = False,\n",
        "                                 axis = 1, result_type = 'expand' )\n",
        "test_sentinel2.columns = ['NDVI_change', 'NDWI_change', 'RNDVI_change', 'BI_change', 'NDMI_change', 'SR_change',\n",
        "                              'NDVI', 'NDWI', 'RNDVI', 'BI', 'NDMI', 'SR',  'B2', 'B3', 'B4']\n",
        "test_data = pd.concat([test_data, test_sentinel2], axis = 1)"
      ]
    },
    {
      "cell_type": "code",
      "execution_count": null,
      "metadata": {
        "id": "Um21H4jeEEMr"
      },
      "outputs": [],
      "source": [
        "train_data.head()"
      ]
    },
    {
      "cell_type": "code",
      "execution_count": null,
      "metadata": {
        "id": "SaDPFyx0Ontl"
      },
      "outputs": [],
      "source": []
    },
    {
      "cell_type": "code",
      "execution_count": null,
      "metadata": {
        "id": "qsfTUib-ZEMu"
      },
      "outputs": [],
      "source": [
        "train_data.to_csv(path_drive +'train_data_senitnel2.csv', index = False)"
      ]
    },
    {
      "cell_type": "code",
      "execution_count": null,
      "metadata": {
        "id": "bEEWu-m6EBWe"
      },
      "outputs": [],
      "source": [
        "test_data.to_csv(path_drive + 'test_data_sentinel2.csv', index = False)"
      ]
    },
    {
      "cell_type": "markdown",
      "metadata": {
        "id": "0x-FdJABEfu0"
      },
      "source": [
        "# Sentinel 1 DATA"
      ]
    },
    {
      "cell_type": "code",
      "execution_count": null,
      "metadata": {
        "id": "dkyEEWKPHZTK"
      },
      "outputs": [],
      "source": [
        "def get_features_sentinel1(time_series,  list_of_band):\n",
        "\n",
        "  df = pd.DataFrame(time_series)\n",
        "\n",
        "  header = df.iloc[0]\n",
        "\n",
        "  df = pd.DataFrame(df.values[1:], columns=header)\n",
        "\n",
        "  df = df[['longitude', 'latitude', 'time', *list_of_band]].dropna()\n",
        "\n",
        "  df['datetime'] = pd.to_datetime(df['time'], unit='ms')\n",
        "\n",
        "  VV_arr = df['VV']\n",
        "  VV_med = VV_arr.quantile(0.5)\n",
        "  VV_change = VV_arr.quantile(0.9) - VV_arr.quantile(0.1)\n",
        "\n",
        "  VH_arr = df['VH']\n",
        "  VH_med = VH_arr.quantile(0.5)\n",
        "  VH_change = VH_arr.quantile(0.9) - VH_arr.quantile(0.1)\n",
        "\n",
        "  VH_VV_arr = df['VH']/df['VV']\n",
        "  VH_VV_med = VH_VV_arr.quantile(0.5)\n",
        "  VH_VV_change = VH_VV_arr.quantile(0.9) - VH_VV_arr.quantile(0.1)\n",
        "\n",
        "  VV_plus_VH_arr = df['VV'] + df['VH']\n",
        "  VV_plus_VH_med = VV_plus_VH_arr.quantile(0.5)\n",
        "  VV_plus_VH_change = VV_plus_VH_arr.quantile(0.9) - VV_plus_VH_arr.quantile(0.1)\n",
        "\n",
        "  return [VV_change, VH_change, VH_VV_change, VV_plus_VH_change, VV_med, VH_med, VH_VV_med, VV_plus_VH_med]\n",
        "\n"
      ]
    },
    {
      "cell_type": "code",
      "execution_count": null,
      "metadata": {
        "id": "gPLtRsg8Dbit"
      },
      "outputs": [],
      "source": [
        "\n",
        "s1_collection = (ee.ImageCollection('COPERNICUS/S1_GRD')\n",
        "        .filter(ee.Filter.listContains('transmitterReceiverPolarisation', 'VV'))\n",
        "        .filter(ee.Filter.listContains('transmitterReceiverPolarisation', 'VH'))\n",
        "        .filter(ee.Filter.eq('instrumentMode', 'IW')))\n",
        "\n",
        "s1_asc = s1_collection.filter(ee.Filter.eq('orbitProperties_pass', 'ASCENDING'))\n",
        "s1_des = s1_collection.filter(ee.Filter.eq('orbitProperties_pass', 'DESCENDING'))\n",
        "\n",
        "s1_bands = ['VV', 'VH']\n",
        "\n",
        "def extract_sentinel1_data(row , time_windows, train_bool):\n",
        "  lat = row['Lat']\n",
        "  lon = row['Lon']\n",
        "\n",
        "  country = row['country']\n",
        "\n",
        "  point = ee.Geometry.Point(lon, lat)\n",
        "\n",
        "  time_period = time_windows[country]\n",
        "\n",
        "  if country == 'Iran' or country == 'Sudan':\n",
        "\n",
        "    s1_filtered_asc = s1_asc.filterBounds(point).filterDate(time_period[0], time_period[1])\n",
        "    s1_filtered_des = s1_des.filterBounds(point).filterDate(time_period[0], time_period[1])\n",
        "\n",
        "    values_asc = s1_filtered_asc.getRegion(point, 10).getInfo()\n",
        "    values_des = s1_filtered_des.getRegion(point, 10).getInfo()\n",
        "\n",
        "\n",
        "\n",
        "    features_asc = get_features_sentinel1(values_asc, list_of_band= s1_bands)\n",
        "    features_des = get_features_sentinel1(values_des, list_of_band= s1_bands)\n",
        "\n",
        "\n",
        "\n",
        "  else:\n",
        "    #month where we have values, afgahnistan only period for 1 month\n",
        "    s1_filtered_month_asc = s1_asc.filterBounds(point).filterDate(time_period[0], time_period[1])\n",
        "    values_month_asc = s1_filtered_month_asc.getRegion(point, 10).getInfo()\n",
        "    features_month_asc = get_features_sentinel1(values_month_asc , list_of_band= s1_bands)\n",
        "\n",
        "    s1_filtered_month_des = s1_des.filterBounds(point).filterDate(time_period[0], time_period[1])\n",
        "    values_month_des = s1_filtered_month_des.getRegion(point, 10).getInfo()\n",
        "    features_month_des = get_features_sentinel1(values_month_des , list_of_band= s1_bands)\n",
        "\n",
        "\n",
        "\n",
        "    #whole year befor this month\n",
        "    if train_bool:\n",
        "      s1_filtered_year_asc =  s1_asc.filterBounds(point).filterDate('2021-04-30', '2022-04-30')\n",
        "      s1_filtered_year_des =  s1_des.filterBounds(point).filterDate('2021-04-30', '2022-04-30')\n",
        "\n",
        "    else:\n",
        "      s1_filtered_year_asc =  s1_asc.filterBounds(point).filterDate('2021-04-30', '2022-04-30')\n",
        "      s1_filtered_year_des =  s1_des.filterBounds(point).filterDate('2021-04-30', '2022-04-30')\n",
        "\n",
        "    values_year_asc = s1_filtered_year_asc.getRegion(point, 10).getInfo()\n",
        "    features_year_asc = get_features_sentinel1(values_year_asc, list_of_band = s1_bands)\n",
        "\n",
        "    values_year_des = s1_filtered_year_des.getRegion(point, 10).getInfo()\n",
        "    features_year_des = get_features_sentinel1(values_year_des, list_of_band = s1_bands)\n",
        "\n",
        "\n",
        "\n",
        "    features_month_asc[:4] = features_year_asc[:4]\n",
        "    features_month_des[:4] = features_year_des[:4]\n",
        "\n",
        "    features_asc = features_month_asc\n",
        "    features_des = features_month_des\n",
        "\n",
        "  return features_asc + features_des\n"
      ]
    },
    {
      "cell_type": "code",
      "execution_count": null,
      "metadata": {
        "id": "o269RIkrY1KU"
      },
      "outputs": [],
      "source": [
        "features_sentinel1 = train_data.apply(extract_sentinel1_data,\n",
        "                                      time_windows = time_periods_train, train_bool = True,\n",
        "                                      axis=1, result_type='expand')\n",
        "features_sentinel1.columns = ['VV_change_asc', 'VH_change_asc', 'VH/VH_change_asc', 'VV+VH_change_asc', 'VV_asc', 'VH_asc', 'VH/VH_asc', 'VV+VH_asc',\n",
        "                              'VV_change_des', 'VH_change_des', 'VH/VH_change_des', 'VV+VH_change_des', 'VV_des', 'VH_des', 'VH/VH_des', 'VV+VH_des']\n",
        "train_data = pd.concat([train_data, features_sentinel1], axis=1)"
      ]
    },
    {
      "cell_type": "code",
      "execution_count": null,
      "metadata": {
        "id": "QETosRRCZh38"
      },
      "outputs": [],
      "source": [
        "train_data.to_csv(path_drive + 'train_sen1_sen2.csv', index = False)"
      ]
    },
    {
      "cell_type": "code",
      "execution_count": null,
      "metadata": {
        "id": "HIsVZOLViMPI",
        "colab": {
          "base_uri": "https://localhost:8080/"
        },
        "outputId": "f9e87e6d-6665-4f7c-851e-83a381a721af"
      },
      "outputs": [
        {
          "output_type": "execute_result",
          "data": {
            "text/plain": [
              "<bound method NDFrame.head of                    ID        Lat        Lon  Target      country  NDVI_change  \\\n",
              "0     ID_SJ098E7S2SY9  34.162491  70.763668       0  Afghanistan     0.086944   \n",
              "1     ID_CWCD60FGJJYY  32.075695  48.492047       0         Iran     0.583413   \n",
              "2     ID_R1XF70RMVGL3  14.542826  33.313483       1        Sudan     0.609774   \n",
              "3     ID_0ZBIDY0PEBVO  14.359480  33.284108       1        Sudan     0.547860   \n",
              "4     ID_C20R2C0AYIT0  14.419128  33.528450       0        Sudan     0.080143   \n",
              "...               ...        ...        ...     ...          ...          ...   \n",
              "1495  ID_T3WAJGS3B84X  34.292702  70.404578       0  Afghanistan     0.065151   \n",
              "1496  ID_Q31SWRW623Y8  32.105698  48.294867       1         Iran     0.843492   \n",
              "1497  ID_O2KBC7HPNOAQ  32.235685  48.185542       0         Iran     0.162928   \n",
              "1498  ID_8VNTHGHLSUNI  14.329207  33.253206       0        Sudan     0.103316   \n",
              "1499  ID_C5ACHNL98VTX  14.179817  33.179275       0        Sudan     0.226849   \n",
              "\n",
              "      NDWI_change  RNDVI_change  BI_change  NDMI_change  ...  VH/VH_asc  \\\n",
              "0        0.062843      0.025285   0.053573     0.062843  ...   1.735959   \n",
              "1        0.503683      0.109608   0.299468     0.503683  ...   1.642922   \n",
              "2        0.500536      0.083998   0.481423     0.500536  ...   1.647710   \n",
              "3        0.260011      0.061390   0.277560     0.260011  ...   2.513744   \n",
              "4        0.048649      0.024216   0.049377     0.048649  ...   1.471975   \n",
              "...           ...           ...        ...          ...  ...        ...   \n",
              "1495     0.077072      0.025809   0.046567     0.077072  ...   1.603494   \n",
              "1496     0.770076      0.089008   0.730874     0.770076  ...   1.847500   \n",
              "1497     0.187903      0.038891   0.166478     0.187903  ...   1.913260   \n",
              "1498     0.073262      0.039552   0.082542     0.073262  ...   1.679804   \n",
              "1499     0.133839      0.034669   0.108352     0.133839  ...   1.872900   \n",
              "\n",
              "      VV+VH_asc  VV_change_des  VH_change_des  VH/VH_change_des  \\\n",
              "0    -30.020157       5.038800       5.259849          1.061821   \n",
              "1    -26.791219       4.486567       6.344954          0.802752   \n",
              "2    -28.889712       9.277676       7.326898          2.465410   \n",
              "3    -32.432485       7.032931      11.633487          1.229845   \n",
              "4    -30.039015       6.143273       6.476857          0.685657   \n",
              "...         ...            ...            ...               ...   \n",
              "1495 -41.731307       3.944837       9.683523          0.515365   \n",
              "1496 -26.432754       7.268553      10.492951          1.167997   \n",
              "1497 -36.554333       4.873038       8.379588          0.715983   \n",
              "1498 -27.415462       4.083037       5.777362          0.732647   \n",
              "1499 -31.738499       5.806290       9.116102          0.728038   \n",
              "\n",
              "      VV+VH_change_des     VV_des     VH_des  VH/VH_des  VV+VH_des  \n",
              "0             7.456746 -10.685997 -13.925366   1.266358 -24.324402  \n",
              "1             6.894364 -10.742455 -15.926808   1.510068 -27.245949  \n",
              "2            17.171055  -9.626177 -20.796602   2.120568 -29.395512  \n",
              "3            16.068927 -10.241048 -22.269202   2.020648 -33.906084  \n",
              "4            11.391572 -13.323090 -19.449554   1.507483 -32.456384  \n",
              "...                ...        ...        ...        ...        ...  \n",
              "1495         11.098979 -17.645843 -23.664478   1.322183 -41.227050  \n",
              "1496         15.586719  -9.545294 -18.636474   1.814927 -27.874362  \n",
              "1497         10.163626 -15.850806 -24.956722   1.604559 -40.838073  \n",
              "1498          7.825931 -11.110145 -18.040375   1.618826 -29.910881  \n",
              "1499         13.828964 -14.112089 -24.158455   1.758159 -37.667833  \n",
              "\n",
              "[1500 rows x 36 columns]>"
            ]
          },
          "metadata": {},
          "execution_count": 31
        }
      ],
      "source": [
        "train_data.head"
      ]
    },
    {
      "cell_type": "code",
      "execution_count": null,
      "metadata": {
        "id": "6azOaev8bPOM"
      },
      "outputs": [],
      "source": [
        "test_sentinel1 = test_data.apply(extract_sentinel1_data, time_windows = time_periods_test, train_bool = False,\n",
        "                                 axis = 1, result_type = 'expand' )\n",
        "test_sentinel1.columns = ['VV_change_asc', 'VH_change_asc', 'VH/VH_change_asc', 'VV+VH_change_asc', 'VV_asc', 'VH_asc', 'VH/VH_asc', 'VV+VH_asc',\n",
        "                              'VV_change_des', 'VH_change_des', 'VH/VH_change_des', 'VV+VH_change_des', 'VV_des', 'VH_des', 'VH/VH_des', 'VV+VH_des']\n",
        "test_data = pd.concat([test_data, test_sentinel1], axis = 1)\n",
        "\n",
        "test_data.to_csv(path_drive + 'test_sen1_sen2.csv', index = False)"
      ]
    },
    {
      "cell_type": "markdown",
      "metadata": {
        "id": "BU_pThrSEjlC"
      },
      "source": [
        "# ML Model"
      ]
    },
    {
      "cell_type": "code",
      "execution_count": null,
      "metadata": {
        "id": "1rcL9zu8brnB"
      },
      "outputs": [],
      "source": [
        "#import data from sent1 and sent2 -> via csv saved from before or let section Sentinel2 and Sentinel 1 run\n",
        "\n",
        "train_data = pd.read_csv(path_drive + 'train_sen1_sen2.csv')\n",
        "test_data = pd.read_csv(path_drive + 'test_sen1_sen2.csv')"
      ]
    },
    {
      "cell_type": "code",
      "execution_count": null,
      "metadata": {
        "colab": {
          "base_uri": "https://localhost:8080/"
        },
        "id": "MGA16EyLPQu6",
        "outputId": "d98658f3-f5db-4386-b1f9-e24e1a43cb41"
      },
      "outputs": [
        {
          "output_type": "execute_result",
          "data": {
            "text/plain": [
              "Index(['ID', 'Lat', 'Lon', 'Target', 'country', 'NDVI_change', 'NDWI_change',\n",
              "       'RNDVI_change', 'BI_change', 'NDMI_change', 'SR_change', 'NDVI', 'NDWI',\n",
              "       'RNDVI', 'BI', 'NDMI', 'SR', 'B2', 'B3', 'B4', 'VV_change_asc',\n",
              "       'VH_change_asc', 'VH/VH_change_asc', 'VV+VH_change_asc', 'VV_asc',\n",
              "       'VH_asc', 'VH/VH_asc', 'VV+VH_asc', 'VV_change_des', 'VH_change_des',\n",
              "       'VH/VH_change_des', 'VV+VH_change_des', 'VV_des', 'VH_des', 'VH/VH_des',\n",
              "       'VV+VH_des'],\n",
              "      dtype='object')"
            ]
          },
          "metadata": {},
          "execution_count": 13
        }
      ],
      "source": [
        "train_data.columns\n",
        "#s1 from index 20\n"
      ]
    },
    {
      "cell_type": "code",
      "execution_count": null,
      "metadata": {
        "id": "qmcfZce3PpQg"
      },
      "outputs": [],
      "source": [
        "from sklearn.model_selection import train_test_split\n",
        "from sklearn.metrics import accuracy_score\n",
        "from sklearn.ensemble import RandomForestClassifier\n",
        "import random\n",
        "import matplotlib.pyplot as plt\n",
        "from sklearn.model_selection import RandomizedSearchCV, GridSearchCV\n",
        "from sklearn.model_selection import StratifiedKFold\n",
        "from xgboost import XGBClassifier\n",
        "\n",
        "# Modelling\n",
        "# Selecting the independent variables and the target variable\n",
        "X = train_data.drop(['ID', 'Target', 'country'], axis = 1).fillna(0)\n",
        "y = train_data.Target\n",
        "\n",
        "# Splitting the data into training and testing sets\n",
        "X_train, X_test, y_train, y_test = train_test_split(X, y, test_size = 0.2, random_state = SEED)\n",
        "\n",
        "X_train_s1 = X_train[X_train.columns[17:]].copy()\n",
        "X_train_s2 = X_train[X_train.columns[:17]].copy()\n",
        "\n",
        "X_test_s1 = X_test[X_train.columns[17:]].copy()\n",
        "X_test_s2 = X_test[X_train.columns[:17]].copy()\n"
      ]
    },
    {
      "cell_type": "code",
      "execution_count": null,
      "metadata": {
        "id": "Dk2lDIC2QhW5",
        "colab": {
          "base_uri": "https://localhost:8080/"
        },
        "outputId": "625a9ddf-392a-4d3e-e4b5-21e8237e07a6"
      },
      "outputs": [
        {
          "output_type": "execute_result",
          "data": {
            "text/plain": [
              "array([[ 0.60942909, -0.15567936,  1.57197936, ...,  0.33817427,\n",
              "        -0.1118887 ,  0.17145747],\n",
              "       [ 0.80958432,  1.31004711, -1.26341451, ..., -0.41384132,\n",
              "         0.14046135, -0.3012106 ],\n",
              "       [-1.38204957, -1.11614   , -1.32057643, ...,  1.10876684,\n",
              "        -0.4919239 ,  0.71352351],\n",
              "       ...,\n",
              "       [-1.3850508 , -1.13589558,  0.43144668, ...,  0.45227546,\n",
              "        -0.28211742,  0.13471531],\n",
              "       [ 0.59052099, -0.151428  ,  1.62927122, ...,  1.23627858,\n",
              "        -0.1352037 ,  1.13527318],\n",
              "       [ 0.83068218,  1.29113237, -0.54692516, ..., -1.36741396,\n",
              "        -0.17375182, -1.54454051]])"
            ]
          },
          "metadata": {},
          "execution_count": 15
        }
      ],
      "source": [
        "from sklearn.preprocessing import StandardScaler\n",
        "scaler = StandardScaler()\n",
        "scaler.fit(X_train)\n",
        "\n",
        "scaler.transform(X_train)\n",
        "scaler.transform(X_test)"
      ]
    },
    {
      "cell_type": "code",
      "execution_count": null,
      "metadata": {
        "id": "Zk06bklRuNbH",
        "colab": {
          "base_uri": "https://localhost:8080/"
        },
        "outputId": "2126bdce-e5e6-423b-8b0b-e30a93105140"
      },
      "outputs": [
        {
          "output_type": "stream",
          "name": "stdout",
          "text": [
            "Fitting 3 folds for each of 30 candidates, totalling 90 fits\n",
            "[CV 1/3] END colsample_bytree=0.2, gamma=0.8, learning_rate=0.0005, max_depth=3, min_child_weight=1, n_estimators=800;, score=0.858 total time=   0.5s\n",
            "[CV 2/3] END colsample_bytree=0.2, gamma=0.8, learning_rate=0.0005, max_depth=3, min_child_weight=1, n_estimators=800;, score=0.868 total time=   0.5s\n",
            "[CV 3/3] END colsample_bytree=0.2, gamma=0.8, learning_rate=0.0005, max_depth=3, min_child_weight=1, n_estimators=800;, score=0.877 total time=   0.6s\n",
            "[CV 1/3] END colsample_bytree=0.2, gamma=1.2, learning_rate=0.01, max_depth=3, min_child_weight=1, n_estimators=600;, score=0.907 total time=   0.6s\n",
            "[CV 2/3] END colsample_bytree=0.2, gamma=1.2, learning_rate=0.01, max_depth=3, min_child_weight=1, n_estimators=600;, score=0.902 total time=   0.6s\n",
            "[CV 3/3] END colsample_bytree=0.2, gamma=1.2, learning_rate=0.01, max_depth=3, min_child_weight=1, n_estimators=600;, score=0.905 total time=   0.6s\n",
            "[CV 1/3] END colsample_bytree=0.6, gamma=1, learning_rate=0.001, max_depth=3, min_child_weight=1, n_estimators=700;, score=0.877 total time=   1.4s\n",
            "[CV 2/3] END colsample_bytree=0.6, gamma=1, learning_rate=0.001, max_depth=3, min_child_weight=1, n_estimators=700;, score=0.887 total time=   0.9s\n",
            "[CV 3/3] END colsample_bytree=0.6, gamma=1, learning_rate=0.001, max_depth=3, min_child_weight=1, n_estimators=700;, score=0.892 total time=   0.9s\n",
            "[CV 1/3] END colsample_bytree=0.4, gamma=0.8, learning_rate=0.0005, max_depth=3, min_child_weight=1, n_estimators=700;, score=0.868 total time=   0.7s\n",
            "[CV 2/3] END colsample_bytree=0.4, gamma=0.8, learning_rate=0.0005, max_depth=3, min_child_weight=1, n_estimators=700;, score=0.892 total time=   0.7s\n",
            "[CV 3/3] END colsample_bytree=0.4, gamma=0.8, learning_rate=0.0005, max_depth=3, min_child_weight=1, n_estimators=700;, score=0.877 total time=   0.7s\n",
            "[CV 1/3] END colsample_bytree=0.6, gamma=1, learning_rate=0.005, max_depth=3, min_child_weight=1, n_estimators=400;, score=0.905 total time=   0.5s\n",
            "[CV 2/3] END colsample_bytree=0.6, gamma=1, learning_rate=0.005, max_depth=3, min_child_weight=1, n_estimators=400;, score=0.900 total time=   0.5s\n",
            "[CV 3/3] END colsample_bytree=0.6, gamma=1, learning_rate=0.005, max_depth=3, min_child_weight=1, n_estimators=400;, score=0.890 total time=   0.6s\n",
            "[CV 1/3] END colsample_bytree=0.2, gamma=0.8, learning_rate=0.0005, max_depth=3, min_child_weight=1, n_estimators=400;, score=0.853 total time=   0.3s\n",
            "[CV 2/3] END colsample_bytree=0.2, gamma=0.8, learning_rate=0.0005, max_depth=3, min_child_weight=1, n_estimators=400;, score=0.875 total time=   0.3s\n",
            "[CV 3/3] END colsample_bytree=0.2, gamma=0.8, learning_rate=0.0005, max_depth=3, min_child_weight=1, n_estimators=400;, score=0.880 total time=   0.2s\n",
            "[CV 1/3] END colsample_bytree=0.2, gamma=1, learning_rate=0.01, max_depth=3, min_child_weight=1, n_estimators=800;, score=0.905 total time=   0.5s\n",
            "[CV 2/3] END colsample_bytree=0.2, gamma=1, learning_rate=0.01, max_depth=3, min_child_weight=1, n_estimators=800;, score=0.897 total time=   0.5s\n",
            "[CV 3/3] END colsample_bytree=0.2, gamma=1, learning_rate=0.01, max_depth=3, min_child_weight=1, n_estimators=800;, score=0.917 total time=   0.5s\n",
            "[CV 1/3] END colsample_bytree=0.4, gamma=0.8, learning_rate=0.005, max_depth=3, min_child_weight=1, n_estimators=700;, score=0.900 total time=   0.7s\n",
            "[CV 2/3] END colsample_bytree=0.4, gamma=0.8, learning_rate=0.005, max_depth=3, min_child_weight=1, n_estimators=700;, score=0.897 total time=   0.7s\n",
            "[CV 3/3] END colsample_bytree=0.4, gamma=0.8, learning_rate=0.005, max_depth=3, min_child_weight=1, n_estimators=700;, score=0.905 total time=   0.9s\n",
            "[CV 1/3] END colsample_bytree=0.4, gamma=1.2, learning_rate=0.001, max_depth=3, min_child_weight=1, n_estimators=700;, score=0.870 total time=   1.2s\n",
            "[CV 2/3] END colsample_bytree=0.4, gamma=1.2, learning_rate=0.001, max_depth=3, min_child_weight=1, n_estimators=700;, score=0.892 total time=   1.2s\n",
            "[CV 3/3] END colsample_bytree=0.4, gamma=1.2, learning_rate=0.001, max_depth=3, min_child_weight=1, n_estimators=700;, score=0.882 total time=   0.7s\n",
            "[CV 1/3] END colsample_bytree=0.4, gamma=1.2, learning_rate=0.0005, max_depth=3, min_child_weight=1, n_estimators=700;, score=0.868 total time=   0.7s\n",
            "[CV 2/3] END colsample_bytree=0.4, gamma=1.2, learning_rate=0.0005, max_depth=3, min_child_weight=1, n_estimators=700;, score=0.892 total time=   0.7s\n",
            "[CV 3/3] END colsample_bytree=0.4, gamma=1.2, learning_rate=0.0005, max_depth=3, min_child_weight=1, n_estimators=700;, score=0.877 total time=   0.7s\n",
            "[CV 1/3] END colsample_bytree=0.4, gamma=1, learning_rate=0.001, max_depth=3, min_child_weight=1, n_estimators=700;, score=0.870 total time=   0.7s\n",
            "[CV 2/3] END colsample_bytree=0.4, gamma=1, learning_rate=0.001, max_depth=3, min_child_weight=1, n_estimators=700;, score=0.892 total time=   0.7s\n",
            "[CV 3/3] END colsample_bytree=0.4, gamma=1, learning_rate=0.001, max_depth=3, min_child_weight=1, n_estimators=700;, score=0.882 total time=   0.7s\n",
            "[CV 1/3] END colsample_bytree=0.6, gamma=1, learning_rate=0.0005, max_depth=3, min_child_weight=1, n_estimators=800;, score=0.875 total time=   1.1s\n",
            "[CV 2/3] END colsample_bytree=0.6, gamma=1, learning_rate=0.0005, max_depth=3, min_child_weight=1, n_estimators=800;, score=0.887 total time=   1.1s\n",
            "[CV 3/3] END colsample_bytree=0.6, gamma=1, learning_rate=0.0005, max_depth=3, min_child_weight=1, n_estimators=800;, score=0.887 total time=   1.1s\n",
            "[CV 1/3] END colsample_bytree=0.4, gamma=0.8, learning_rate=0.005, max_depth=3, min_child_weight=1, n_estimators=800;, score=0.905 total time=   0.8s\n",
            "[CV 2/3] END colsample_bytree=0.4, gamma=0.8, learning_rate=0.005, max_depth=3, min_child_weight=1, n_estimators=800;, score=0.897 total time=   0.8s\n",
            "[CV 3/3] END colsample_bytree=0.4, gamma=0.8, learning_rate=0.005, max_depth=3, min_child_weight=1, n_estimators=800;, score=0.907 total time=   1.1s\n",
            "[CV 1/3] END colsample_bytree=0.6, gamma=1, learning_rate=0.01, max_depth=3, min_child_weight=1, n_estimators=600;, score=0.915 total time=   1.3s\n",
            "[CV 2/3] END colsample_bytree=0.6, gamma=1, learning_rate=0.01, max_depth=3, min_child_weight=1, n_estimators=600;, score=0.895 total time=   1.1s\n",
            "[CV 3/3] END colsample_bytree=0.6, gamma=1, learning_rate=0.01, max_depth=3, min_child_weight=1, n_estimators=600;, score=0.910 total time=   0.8s\n",
            "[CV 1/3] END colsample_bytree=0.2, gamma=1.2, learning_rate=0.005, max_depth=3, min_child_weight=1, n_estimators=400;, score=0.887 total time=   0.2s\n",
            "[CV 2/3] END colsample_bytree=0.2, gamma=1.2, learning_rate=0.005, max_depth=3, min_child_weight=1, n_estimators=400;, score=0.875 total time=   0.3s\n",
            "[CV 3/3] END colsample_bytree=0.2, gamma=1.2, learning_rate=0.005, max_depth=3, min_child_weight=1, n_estimators=400;, score=0.892 total time=   0.2s\n",
            "[CV 1/3] END colsample_bytree=0.2, gamma=0.8, learning_rate=0.0005, max_depth=3, min_child_weight=1, n_estimators=500;, score=0.860 total time=   0.3s\n",
            "[CV 2/3] END colsample_bytree=0.2, gamma=0.8, learning_rate=0.0005, max_depth=3, min_child_weight=1, n_estimators=500;, score=0.877 total time=   0.3s\n",
            "[CV 3/3] END colsample_bytree=0.2, gamma=0.8, learning_rate=0.0005, max_depth=3, min_child_weight=1, n_estimators=500;, score=0.880 total time=   0.3s\n",
            "[CV 1/3] END colsample_bytree=0.2, gamma=1.2, learning_rate=0.001, max_depth=3, min_child_weight=1, n_estimators=500;, score=0.865 total time=   0.3s\n",
            "[CV 2/3] END colsample_bytree=0.2, gamma=1.2, learning_rate=0.001, max_depth=3, min_child_weight=1, n_estimators=500;, score=0.870 total time=   0.3s\n",
            "[CV 3/3] END colsample_bytree=0.2, gamma=1.2, learning_rate=0.001, max_depth=3, min_child_weight=1, n_estimators=500;, score=0.880 total time=   0.3s\n",
            "[CV 1/3] END colsample_bytree=0.6, gamma=0.8, learning_rate=0.005, max_depth=3, min_child_weight=1, n_estimators=400;, score=0.905 total time=   0.6s\n",
            "[CV 2/3] END colsample_bytree=0.6, gamma=0.8, learning_rate=0.005, max_depth=3, min_child_weight=1, n_estimators=400;, score=0.900 total time=   0.6s\n",
            "[CV 3/3] END colsample_bytree=0.6, gamma=0.8, learning_rate=0.005, max_depth=3, min_child_weight=1, n_estimators=400;, score=0.892 total time=   0.5s\n",
            "[CV 1/3] END colsample_bytree=0.4, gamma=1, learning_rate=0.0005, max_depth=3, min_child_weight=1, n_estimators=500;, score=0.863 total time=   0.5s\n",
            "[CV 2/3] END colsample_bytree=0.4, gamma=1, learning_rate=0.0005, max_depth=3, min_child_weight=1, n_estimators=500;, score=0.885 total time=   0.5s\n",
            "[CV 3/3] END colsample_bytree=0.4, gamma=1, learning_rate=0.0005, max_depth=3, min_child_weight=1, n_estimators=500;, score=0.880 total time=   0.5s\n",
            "[CV 1/3] END colsample_bytree=0.2, gamma=1.2, learning_rate=0.0005, max_depth=3, min_child_weight=1, n_estimators=500;, score=0.860 total time=   0.3s\n",
            "[CV 2/3] END colsample_bytree=0.2, gamma=1.2, learning_rate=0.0005, max_depth=3, min_child_weight=1, n_estimators=500;, score=0.877 total time=   0.3s\n",
            "[CV 3/3] END colsample_bytree=0.2, gamma=1.2, learning_rate=0.0005, max_depth=3, min_child_weight=1, n_estimators=500;, score=0.880 total time=   0.3s\n",
            "[CV 1/3] END colsample_bytree=0.4, gamma=1, learning_rate=0.0005, max_depth=3, min_child_weight=1, n_estimators=600;, score=0.865 total time=   0.6s\n",
            "[CV 2/3] END colsample_bytree=0.4, gamma=1, learning_rate=0.0005, max_depth=3, min_child_weight=1, n_estimators=600;, score=0.890 total time=   0.6s\n",
            "[CV 3/3] END colsample_bytree=0.4, gamma=1, learning_rate=0.0005, max_depth=3, min_child_weight=1, n_estimators=600;, score=0.880 total time=   0.6s\n",
            "[CV 1/3] END colsample_bytree=0.6, gamma=0.8, learning_rate=0.01, max_depth=3, min_child_weight=1, n_estimators=400;, score=0.917 total time=   0.7s\n",
            "[CV 2/3] END colsample_bytree=0.6, gamma=0.8, learning_rate=0.01, max_depth=3, min_child_weight=1, n_estimators=400;, score=0.892 total time=   0.9s\n",
            "[CV 3/3] END colsample_bytree=0.6, gamma=0.8, learning_rate=0.01, max_depth=3, min_child_weight=1, n_estimators=400;, score=0.910 total time=   0.9s\n",
            "[CV 1/3] END colsample_bytree=0.6, gamma=1, learning_rate=0.01, max_depth=3, min_child_weight=1, n_estimators=700;, score=0.925 total time=   1.2s\n",
            "[CV 2/3] END colsample_bytree=0.6, gamma=1, learning_rate=0.01, max_depth=3, min_child_weight=1, n_estimators=700;, score=0.897 total time=   0.9s\n",
            "[CV 3/3] END colsample_bytree=0.6, gamma=1, learning_rate=0.01, max_depth=3, min_child_weight=1, n_estimators=700;, score=0.912 total time=   0.9s\n",
            "[CV 1/3] END colsample_bytree=0.2, gamma=1, learning_rate=0.001, max_depth=3, min_child_weight=1, n_estimators=400;, score=0.858 total time=   0.2s\n",
            "[CV 2/3] END colsample_bytree=0.2, gamma=1, learning_rate=0.001, max_depth=3, min_child_weight=1, n_estimators=400;, score=0.870 total time=   0.3s\n",
            "[CV 3/3] END colsample_bytree=0.2, gamma=1, learning_rate=0.001, max_depth=3, min_child_weight=1, n_estimators=400;, score=0.877 total time=   0.2s\n",
            "[CV 1/3] END colsample_bytree=0.2, gamma=0.8, learning_rate=0.005, max_depth=3, min_child_weight=1, n_estimators=800;, score=0.902 total time=   0.9s\n",
            "[CV 2/3] END colsample_bytree=0.2, gamma=0.8, learning_rate=0.005, max_depth=3, min_child_weight=1, n_estimators=800;, score=0.890 total time=   0.5s\n",
            "[CV 3/3] END colsample_bytree=0.2, gamma=0.8, learning_rate=0.005, max_depth=3, min_child_weight=1, n_estimators=800;, score=0.900 total time=   0.5s\n",
            "[CV 1/3] END colsample_bytree=0.6, gamma=1.2, learning_rate=0.001, max_depth=3, min_child_weight=1, n_estimators=600;, score=0.877 total time=   0.8s\n",
            "[CV 2/3] END colsample_bytree=0.6, gamma=1.2, learning_rate=0.001, max_depth=3, min_child_weight=1, n_estimators=600;, score=0.887 total time=   0.8s\n",
            "[CV 3/3] END colsample_bytree=0.6, gamma=1.2, learning_rate=0.001, max_depth=3, min_child_weight=1, n_estimators=600;, score=0.890 total time=   0.8s\n",
            "[CV 1/3] END colsample_bytree=0.4, gamma=0.8, learning_rate=0.01, max_depth=3, min_child_weight=1, n_estimators=400;, score=0.910 total time=   0.4s\n",
            "[CV 2/3] END colsample_bytree=0.4, gamma=0.8, learning_rate=0.01, max_depth=3, min_child_weight=1, n_estimators=400;, score=0.892 total time=   0.4s\n",
            "[CV 3/3] END colsample_bytree=0.4, gamma=0.8, learning_rate=0.01, max_depth=3, min_child_weight=1, n_estimators=400;, score=0.907 total time=   0.4s\n",
            "[CV 1/3] END colsample_bytree=0.2, gamma=0.8, learning_rate=0.0005, max_depth=3, min_child_weight=1, n_estimators=700;, score=0.858 total time=   0.4s\n",
            "[CV 2/3] END colsample_bytree=0.2, gamma=0.8, learning_rate=0.0005, max_depth=3, min_child_weight=1, n_estimators=700;, score=0.870 total time=   0.4s\n",
            "[CV 3/3] END colsample_bytree=0.2, gamma=0.8, learning_rate=0.0005, max_depth=3, min_child_weight=1, n_estimators=700;, score=0.877 total time=   0.4s\n",
            "[CV 1/3] END colsample_bytree=0.6, gamma=1, learning_rate=0.005, max_depth=3, min_child_weight=1, n_estimators=700;, score=0.915 total time=   1.5s\n",
            "[CV 2/3] END colsample_bytree=0.6, gamma=1, learning_rate=0.005, max_depth=3, min_child_weight=1, n_estimators=700;, score=0.895 total time=   1.5s\n",
            "[CV 3/3] END colsample_bytree=0.6, gamma=1, learning_rate=0.005, max_depth=3, min_child_weight=1, n_estimators=700;, score=0.900 total time=   1.0s\n",
            "[CV 1/3] END colsample_bytree=0.6, gamma=1.2, learning_rate=0.001, max_depth=3, min_child_weight=1, n_estimators=700;, score=0.877 total time=   0.9s\n",
            "[CV 2/3] END colsample_bytree=0.6, gamma=1.2, learning_rate=0.001, max_depth=3, min_child_weight=1, n_estimators=700;, score=0.887 total time=   0.9s\n",
            "[CV 3/3] END colsample_bytree=0.6, gamma=1.2, learning_rate=0.001, max_depth=3, min_child_weight=1, n_estimators=700;, score=0.892 total time=   1.0s\n",
            "Accuracy: 0.9166666666666666\n"
          ]
        }
      ],
      "source": [
        "\n",
        "\n",
        "# A parameter grid for XGBoost\n",
        "params = {\n",
        "        'n_estimators': [400, 500, 600, 700, 800],\n",
        "        'learning_rate': [ 0.01, 0.005, 0.001, 0.0005],\n",
        "        'min_child_weight': [1],\n",
        "        'gamma': [0.8, 1, 1.2],\n",
        "        'colsample_bytree': [0.2, 0.4, 0.6],\n",
        "        'max_depth': [ 3]\n",
        "        }\n",
        "\n",
        "xgb = XGBClassifier(objective='binary:logistic',\n",
        "                     nthread=1)\n",
        "\n",
        "folds = 3\n",
        "param_comb = 30\n",
        "\n",
        "skf = StratifiedKFold(n_splits=folds, shuffle = True, random_state = SEED)\n",
        "\n",
        "random_search = RandomizedSearchCV(xgb, param_distributions=params,\n",
        "                                   n_iter=param_comb, scoring='accuracy', cv=skf.split(X_train,y_train), verbose=3, random_state=SEED )\n",
        "\n",
        "\n",
        "random_search.fit(X_train, y_train)\n",
        "\n",
        "\n",
        "y_pred = random_search.predict(X_test)\n",
        "acc_score = accuracy_score(y_test, y_pred)\n",
        "print(\"Accuracy:\", acc_score)"
      ]
    },
    {
      "cell_type": "code",
      "execution_count": null,
      "metadata": {
        "colab": {
          "base_uri": "https://localhost:8080/",
          "height": 266
        },
        "id": "7r82j2UC6N_T",
        "outputId": "97d57d2d-c0e5-42b7-e176-ba4e988abbbb"
      },
      "outputs": [
        {
          "name": "stdout",
          "output_type": "stream",
          "text": [
            "{'subsample': 0.6, 'n_estimators': 500, 'min_child_weight': 1, 'max_depth': 3, 'gamma': 1, 'colsample_bytree': 0.6}\n"
          ]
        },
        {
          "data": {
            "text/html": [
              "<style>#sk-container-id-1 {color: black;background-color: white;}#sk-container-id-1 pre{padding: 0;}#sk-container-id-1 div.sk-toggleable {background-color: white;}#sk-container-id-1 label.sk-toggleable__label {cursor: pointer;display: block;width: 100%;margin-bottom: 0;padding: 0.3em;box-sizing: border-box;text-align: center;}#sk-container-id-1 label.sk-toggleable__label-arrow:before {content: \"▸\";float: left;margin-right: 0.25em;color: #696969;}#sk-container-id-1 label.sk-toggleable__label-arrow:hover:before {color: black;}#sk-container-id-1 div.sk-estimator:hover label.sk-toggleable__label-arrow:before {color: black;}#sk-container-id-1 div.sk-toggleable__content {max-height: 0;max-width: 0;overflow: hidden;text-align: left;background-color: #f0f8ff;}#sk-container-id-1 div.sk-toggleable__content pre {margin: 0.2em;color: black;border-radius: 0.25em;background-color: #f0f8ff;}#sk-container-id-1 input.sk-toggleable__control:checked~div.sk-toggleable__content {max-height: 200px;max-width: 100%;overflow: auto;}#sk-container-id-1 input.sk-toggleable__control:checked~label.sk-toggleable__label-arrow:before {content: \"▾\";}#sk-container-id-1 div.sk-estimator input.sk-toggleable__control:checked~label.sk-toggleable__label {background-color: #d4ebff;}#sk-container-id-1 div.sk-label input.sk-toggleable__control:checked~label.sk-toggleable__label {background-color: #d4ebff;}#sk-container-id-1 input.sk-hidden--visually {border: 0;clip: rect(1px 1px 1px 1px);clip: rect(1px, 1px, 1px, 1px);height: 1px;margin: -1px;overflow: hidden;padding: 0;position: absolute;width: 1px;}#sk-container-id-1 div.sk-estimator {font-family: monospace;background-color: #f0f8ff;border: 1px dotted black;border-radius: 0.25em;box-sizing: border-box;margin-bottom: 0.5em;}#sk-container-id-1 div.sk-estimator:hover {background-color: #d4ebff;}#sk-container-id-1 div.sk-parallel-item::after {content: \"\";width: 100%;border-bottom: 1px solid gray;flex-grow: 1;}#sk-container-id-1 div.sk-label:hover label.sk-toggleable__label {background-color: #d4ebff;}#sk-container-id-1 div.sk-serial::before {content: \"\";position: absolute;border-left: 1px solid gray;box-sizing: border-box;top: 0;bottom: 0;left: 50%;z-index: 0;}#sk-container-id-1 div.sk-serial {display: flex;flex-direction: column;align-items: center;background-color: white;padding-right: 0.2em;padding-left: 0.2em;position: relative;}#sk-container-id-1 div.sk-item {position: relative;z-index: 1;}#sk-container-id-1 div.sk-parallel {display: flex;align-items: stretch;justify-content: center;background-color: white;position: relative;}#sk-container-id-1 div.sk-item::before, #sk-container-id-1 div.sk-parallel-item::before {content: \"\";position: absolute;border-left: 1px solid gray;box-sizing: border-box;top: 0;bottom: 0;left: 50%;z-index: -1;}#sk-container-id-1 div.sk-parallel-item {display: flex;flex-direction: column;z-index: 1;position: relative;background-color: white;}#sk-container-id-1 div.sk-parallel-item:first-child::after {align-self: flex-end;width: 50%;}#sk-container-id-1 div.sk-parallel-item:last-child::after {align-self: flex-start;width: 50%;}#sk-container-id-1 div.sk-parallel-item:only-child::after {width: 0;}#sk-container-id-1 div.sk-dashed-wrapped {border: 1px dashed gray;margin: 0 0.4em 0.5em 0.4em;box-sizing: border-box;padding-bottom: 0.4em;background-color: white;}#sk-container-id-1 div.sk-label label {font-family: monospace;font-weight: bold;display: inline-block;line-height: 1.2em;}#sk-container-id-1 div.sk-label-container {text-align: center;}#sk-container-id-1 div.sk-container {/* jupyter's `normalize.less` sets `[hidden] { display: none; }` but bootstrap.min.css set `[hidden] { display: none !important; }` so we also need the `!important` here to be able to override the default hidden behavior on the sphinx rendered scikit-learn.org. See: https://github.com/scikit-learn/scikit-learn/issues/21755 */display: inline-block !important;position: relative;}#sk-container-id-1 div.sk-text-repr-fallback {display: none;}</style><div id=\"sk-container-id-1\" class=\"sk-top-container\"><div class=\"sk-text-repr-fallback\"><pre>XGBClassifier(base_score=None, booster=None, callbacks=None,\n",
              "              colsample_bylevel=None, colsample_bynode=None,\n",
              "              colsample_bytree=0.6, early_stopping_rounds=None,\n",
              "              enable_categorical=False, eval_metric=None, feature_types=None,\n",
              "              gamma=1, gpu_id=None, grow_policy=None, importance_type=None,\n",
              "              interaction_constraints=None, learning_rate=0.02, max_bin=None,\n",
              "              max_cat_threshold=None, max_cat_to_onehot=None,\n",
              "              max_delta_step=None, max_depth=3, max_leaves=None,\n",
              "              min_child_weight=1, missing=nan, monotone_constraints=None,\n",
              "              n_estimators=500, n_jobs=None, nthread=1, num_parallel_tree=None,\n",
              "              predictor=None, ...)</pre><b>In a Jupyter environment, please rerun this cell to show the HTML representation or trust the notebook. <br />On GitHub, the HTML representation is unable to render, please try loading this page with nbviewer.org.</b></div><div class=\"sk-container\" hidden><div class=\"sk-item\"><div class=\"sk-estimator sk-toggleable\"><input class=\"sk-toggleable__control sk-hidden--visually\" id=\"sk-estimator-id-1\" type=\"checkbox\" checked><label for=\"sk-estimator-id-1\" class=\"sk-toggleable__label sk-toggleable__label-arrow\">XGBClassifier</label><div class=\"sk-toggleable__content\"><pre>XGBClassifier(base_score=None, booster=None, callbacks=None,\n",
              "              colsample_bylevel=None, colsample_bynode=None,\n",
              "              colsample_bytree=0.6, early_stopping_rounds=None,\n",
              "              enable_categorical=False, eval_metric=None, feature_types=None,\n",
              "              gamma=1, gpu_id=None, grow_policy=None, importance_type=None,\n",
              "              interaction_constraints=None, learning_rate=0.02, max_bin=None,\n",
              "              max_cat_threshold=None, max_cat_to_onehot=None,\n",
              "              max_delta_step=None, max_depth=3, max_leaves=None,\n",
              "              min_child_weight=1, missing=nan, monotone_constraints=None,\n",
              "              n_estimators=500, n_jobs=None, nthread=1, num_parallel_tree=None,\n",
              "              predictor=None, ...)</pre></div></div></div></div></div>"
            ],
            "text/plain": [
              "XGBClassifier(base_score=None, booster=None, callbacks=None,\n",
              "              colsample_bylevel=None, colsample_bynode=None,\n",
              "              colsample_bytree=0.6, early_stopping_rounds=None,\n",
              "              enable_categorical=False, eval_metric=None, feature_types=None,\n",
              "              gamma=1, gpu_id=None, grow_policy=None, importance_type=None,\n",
              "              interaction_constraints=None, learning_rate=0.02, max_bin=None,\n",
              "              max_cat_threshold=None, max_cat_to_onehot=None,\n",
              "              max_delta_step=None, max_depth=3, max_leaves=None,\n",
              "              min_child_weight=1, missing=nan, monotone_constraints=None,\n",
              "              n_estimators=500, n_jobs=None, nthread=1, num_parallel_tree=None,\n",
              "              predictor=None, ...)"
            ]
          },
          "execution_count": 72,
          "metadata": {},
          "output_type": "execute_result"
        }
      ],
      "source": [
        "print(random_search.best_params_)\n",
        "xgb_par = XGBClassifier(learning_rate=0.02, objective='binary:logistic',\n",
        "                  nthread=1, subsample= 0.6, n_estimators= 500,\n",
        "                      min_child_weight= 1, max_depth= 3, gamma= 1, colsample_bytree= 0.6)\n",
        "xgb_par.fit(X,y)"
      ]
    },
    {
      "cell_type": "code",
      "execution_count": null,
      "metadata": {
        "colab": {
          "base_uri": "https://localhost:8080/",
          "height": 492
        },
        "id": "KqMbzsyIxc8C",
        "outputId": "3c30d193-b5d9-4ee1-81bc-bd71cfeda514"
      },
      "outputs": [
        {
          "data": {
            "image/png": "[encoded data removed]",
            "text/plain": [
              "<Figure size 700x500 with 1 Axes>"
            ]
          },
          "metadata": {},
          "output_type": "display_data"
        }
      ],
      "source": [
        "impo_df = pd.DataFrame({'feature': X.columns, 'importance': xgb_par.feature_importances_}).set_index('feature').sort_values(by = 'importance', ascending = False)\n",
        "impo_df = impo_df[:12].sort_values(by = 'importance', ascending = True)\n",
        "impo_df.plot(kind = 'barh', figsize = (7, 5))\n",
        "plt.legend(loc = 'center right')\n",
        "plt.title('Bar chart showing feature importance', fontsize = 14)\n",
        "plt.xlabel('Features', fontsize = 12)\n",
        "plt.show()"
      ]
    },
    {
      "cell_type": "markdown",
      "metadata": {
        "id": "lHKSRhu2lq99"
      },
      "source": [
        "# Submission"
      ]
    },
    {
      "cell_type": "code",
      "execution_count": null,
      "metadata": {
        "colab": {
          "base_uri": "https://localhost:8080/",
          "height": 206
        },
        "id": "W4otJOQei41i",
        "outputId": "82894f6a-b3d6-4332-b4bd-be5383958e06"
      },
      "outputs": [
        {
          "output_type": "execute_result",
          "data": {
            "text/plain": [
              "                ID  Target\n",
              "0  ID_9ZLHTVF6NSU7       1\n",
              "1  ID_LNN7BFCVEZKA       0\n",
              "2  ID_SOYSG7W04UH3       1\n",
              "3  ID_EAP7EXXV8ZDE       1\n",
              "4  ID_QPRX1TUQVGHU       0"
            ],
            "text/html": [
              "\n",
              "  <div id=\"df-2c3a1fb5-4fe2-4baa-bdbb-cf7e5c04dfd5\" class=\"colab-df-container\">\n",
              "    <div>\n",
              "<style scoped>\n",
              "    .dataframe tbody tr th:only-of-type {\n",
              "        vertical-align: middle;\n",
              "    }\n",
              "\n",
              "    .dataframe tbody tr th {\n",
              "        vertical-align: top;\n",
              "    }\n",
              "\n",
              "    .dataframe thead th {\n",
              "        text-align: right;\n",
              "    }\n",
              "</style>\n",
              "<table border=\"1\" class=\"dataframe\">\n",
              "  <thead>\n",
              "    <tr style=\"text-align: right;\">\n",
              "      <th></th>\n",
              "      <th>ID</th>\n",
              "      <th>Target</th>\n",
              "    </tr>\n",
              "  </thead>\n",
              "  <tbody>\n",
              "    <tr>\n",
              "      <th>0</th>\n",
              "      <td>ID_9ZLHTVF6NSU7</td>\n",
              "      <td>1</td>\n",
              "    </tr>\n",
              "    <tr>\n",
              "      <th>1</th>\n",
              "      <td>ID_LNN7BFCVEZKA</td>\n",
              "      <td>0</td>\n",
              "    </tr>\n",
              "    <tr>\n",
              "      <th>2</th>\n",
              "      <td>ID_SOYSG7W04UH3</td>\n",
              "      <td>1</td>\n",
              "    </tr>\n",
              "    <tr>\n",
              "      <th>3</th>\n",
              "      <td>ID_EAP7EXXV8ZDE</td>\n",
              "      <td>1</td>\n",
              "    </tr>\n",
              "    <tr>\n",
              "      <th>4</th>\n",
              "      <td>ID_QPRX1TUQVGHU</td>\n",
              "      <td>0</td>\n",
              "    </tr>\n",
              "  </tbody>\n",
              "</table>\n",
              "</div>\n",
              "    <div class=\"colab-df-buttons\">\n",
              "\n",
              "  <div class=\"colab-df-container\">\n",
              "    <button class=\"colab-df-convert\" onclick=\"convertToInteractive('df-2c3a1fb5-4fe2-4baa-bdbb-cf7e5c04dfd5')\"\n",
              "            title=\"Convert this dataframe to an interactive table.\"\n",
              "            style=\"display:none;\">\n",
              "\n",
              "  <svg xmlns=\"http://www.w3.org/2000/svg\" height=\"24px\" viewBox=\"0 -960 960 960\">\n",
              "    <path d=\"M120-120v-720h720v720H120Zm60-500h600v-160H180v160Zm220 220h160v-160H400v160Zm0 220h160v-160H400v160ZM180-400h160v-160H180v160Zm440 0h160v-160H620v160ZM180-180h160v-160H180v160Zm440 0h160v-160H620v160Z\"/>\n",
              "  </svg>\n",
              "    </button>\n",
              "\n",
              "  <style>\n",
              "    .colab-df-container {\n",
              "      display:flex;\n",
              "      gap: 12px;\n",
              "    }\n",
              "\n",
              "    .colab-df-convert {\n",
              "      background-color: #E8F0FE;\n",
              "      border: none;\n",
              "      border-radius: 50%;\n",
              "      cursor: pointer;\n",
              "      display: none;\n",
              "      fill: #1967D2;\n",
              "      height: 32px;\n",
              "      padding: 0 0 0 0;\n",
              "      width: 32px;\n",
              "    }\n",
              "\n",
              "    .colab-df-convert:hover {\n",
              "      background-color: #E2EBFA;\n",
              "      box-shadow: 0px 1px 2px rgba(60, 64, 67, 0.3), 0px 1px 3px 1px rgba(60, 64, 67, 0.15);\n",
              "      fill: #174EA6;\n",
              "    }\n",
              "\n",
              "    .colab-df-buttons div {\n",
              "      margin-bottom: 4px;\n",
              "    }\n",
              "\n",
              "    [theme=dark] .colab-df-convert {\n",
              "      background-color: #3B4455;\n",
              "      fill: #D2E3FC;\n",
              "    }\n",
              "\n",
              "    [theme=dark] .colab-df-convert:hover {\n",
              "      background-color: #434B5C;\n",
              "      box-shadow: 0px 1px 3px 1px rgba(0, 0, 0, 0.15);\n",
              "      filter: drop-shadow(0px 1px 2px rgba(0, 0, 0, 0.3));\n",
              "      fill: #FFFFFF;\n",
              "    }\n",
              "  </style>\n",
              "\n",
              "    <script>\n",
              "      const buttonEl =\n",
              "        document.querySelector('#df-2c3a1fb5-4fe2-4baa-bdbb-cf7e5c04dfd5 button.colab-df-convert');\n",
              "      buttonEl.style.display =\n",
              "        google.colab.kernel.accessAllowed ? 'block' : 'none';\n",
              "\n",
              "      async function convertToInteractive(key) {\n",
              "        const element = document.querySelector('#df-2c3a1fb5-4fe2-4baa-bdbb-cf7e5c04dfd5');\n",
              "        const dataTable =\n",
              "          await google.colab.kernel.invokeFunction('convertToInteractive',\n",
              "                                                    [key], {});\n",
              "        if (!dataTable) return;\n",
              "\n",
              "        const docLinkHtml = 'Like what you see? Visit the ' +\n",
              "          '<a target=\"_blank\" href=https://colab.research.google.com/notebooks/data_table.ipynb>data table notebook</a>'\n",
              "          + ' to learn more about interactive tables.';\n",
              "        element.innerHTML = '';\n",
              "        dataTable['output_type'] = 'display_data';\n",
              "        await google.colab.output.renderOutput(dataTable, element);\n",
              "        const docLink = document.createElement('div');\n",
              "        docLink.innerHTML = docLinkHtml;\n",
              "        element.appendChild(docLink);\n",
              "      }\n",
              "    </script>\n",
              "  </div>\n",
              "\n",
              "\n",
              "<div id=\"df-0eed955c-f013-4abc-9341-f023040f494a\">\n",
              "  <button class=\"colab-df-quickchart\" onclick=\"quickchart('df-0eed955c-f013-4abc-9341-f023040f494a')\"\n",
              "            title=\"Suggest charts.\"\n",
              "            style=\"display:none;\">\n",
              "\n",
              "<svg xmlns=\"http://www.w3.org/2000/svg\" height=\"24px\"viewBox=\"0 0 24 24\"\n",
              "     width=\"24px\">\n",
              "    <g>\n",
              "        <path d=\"M19 3H5c-1.1 0-2 .9-2 2v14c0 1.1.9 2 2 2h14c1.1 0 2-.9 2-2V5c0-1.1-.9-2-2-2zM9 17H7v-7h2v7zm4 0h-2V7h2v10zm4 0h-2v-4h2v4z\"/>\n",
              "    </g>\n",
              "</svg>\n",
              "  </button>\n",
              "\n",
              "<style>\n",
              "  .colab-df-quickchart {\n",
              "      --bg-color: #E8F0FE;\n",
              "      --fill-color: #1967D2;\n",
              "      --hover-bg-color: #E2EBFA;\n",
              "      --hover-fill-color: #174EA6;\n",
              "      --disabled-fill-color: #AAA;\n",
              "      --disabled-bg-color: #DDD;\n",
              "  }\n",
              "\n",
              "  [theme=dark] .colab-df-quickchart {\n",
              "      --bg-color: #3B4455;\n",
              "      --fill-color: #D2E3FC;\n",
              "      --hover-bg-color: #434B5C;\n",
              "      --hover-fill-color: #FFFFFF;\n",
              "      --disabled-bg-color: #3B4455;\n",
              "      --disabled-fill-color: #666;\n",
              "  }\n",
              "\n",
              "  .colab-df-quickchart {\n",
              "    background-color: var(--bg-color);\n",
              "    border: none;\n",
              "    border-radius: 50%;\n",
              "    cursor: pointer;\n",
              "    display: none;\n",
              "    fill: var(--fill-color);\n",
              "    height: 32px;\n",
              "    padding: 0;\n",
              "    width: 32px;\n",
              "  }\n",
              "\n",
              "  .colab-df-quickchart:hover {\n",
              "    background-color: var(--hover-bg-color);\n",
              "    box-shadow: 0 1px 2px rgba(60, 64, 67, 0.3), 0 1px 3px 1px rgba(60, 64, 67, 0.15);\n",
              "    fill: var(--button-hover-fill-color);\n",
              "  }\n",
              "\n",
              "  .colab-df-quickchart-complete:disabled,\n",
              "  .colab-df-quickchart-complete:disabled:hover {\n",
              "    background-color: var(--disabled-bg-color);\n",
              "    fill: var(--disabled-fill-color);\n",
              "    box-shadow: none;\n",
              "  }\n",
              "\n",
              "  .colab-df-spinner {\n",
              "    border: 2px solid var(--fill-color);\n",
              "    border-color: transparent;\n",
              "    border-bottom-color: var(--fill-color);\n",
              "    animation:\n",
              "      spin 1s steps(1) infinite;\n",
              "  }\n",
              "\n",
              "  @keyframes spin {\n",
              "    0% {\n",
              "      border-color: transparent;\n",
              "      border-bottom-color: var(--fill-color);\n",
              "      border-left-color: var(--fill-color);\n",
              "    }\n",
              "    20% {\n",
              "      border-color: transparent;\n",
              "      border-left-color: var(--fill-color);\n",
              "      border-top-color: var(--fill-color);\n",
              "    }\n",
              "    30% {\n",
              "      border-color: transparent;\n",
              "      border-left-color: var(--fill-color);\n",
              "      border-top-color: var(--fill-color);\n",
              "      border-right-color: var(--fill-color);\n",
              "    }\n",
              "    40% {\n",
              "      border-color: transparent;\n",
              "      border-right-color: var(--fill-color);\n",
              "      border-top-color: var(--fill-color);\n",
              "    }\n",
              "    60% {\n",
              "      border-color: transparent;\n",
              "      border-right-color: var(--fill-color);\n",
              "    }\n",
              "    80% {\n",
              "      border-color: transparent;\n",
              "      border-right-color: var(--fill-color);\n",
              "      border-bottom-color: var(--fill-color);\n",
              "    }\n",
              "    90% {\n",
              "      border-color: transparent;\n",
              "      border-bottom-color: var(--fill-color);\n",
              "    }\n",
              "  }\n",
              "</style>\n",
              "\n",
              "  <script>\n",
              "    async function quickchart(key) {\n",
              "      const quickchartButtonEl =\n",
              "        document.querySelector('#' + key + ' button');\n",
              "      quickchartButtonEl.disabled = true;  // To prevent multiple clicks.\n",
              "      quickchartButtonEl.classList.add('colab-df-spinner');\n",
              "      try {\n",
              "        const charts = await google.colab.kernel.invokeFunction(\n",
              "            'suggestCharts', [key], {});\n",
              "      } catch (error) {\n",
              "        console.error('Error during call to suggestCharts:', error);\n",
              "      }\n",
              "      quickchartButtonEl.classList.remove('colab-df-spinner');\n",
              "      quickchartButtonEl.classList.add('colab-df-quickchart-complete');\n",
              "    }\n",
              "    (() => {\n",
              "      let quickchartButtonEl =\n",
              "        document.querySelector('#df-0eed955c-f013-4abc-9341-f023040f494a button');\n",
              "      quickchartButtonEl.style.display =\n",
              "        google.colab.kernel.accessAllowed ? 'block' : 'none';\n",
              "    })();\n",
              "  </script>\n",
              "</div>\n",
              "    </div>\n",
              "  </div>\n"
            ]
          },
          "metadata": {},
          "execution_count": 19
        }
      ],
      "source": [
        "# Make prediction on the test set\n",
        "test_df = test_data.drop(['ID', 'country'], axis = 1).fillna(0)\n",
        "predictions = random_search.predict(test_df)\n",
        "\n",
        "# # Create a submission file\n",
        "sub_file = pd.DataFrame({'ID': test_data.ID, 'Target': predictions})\n",
        "sub_file.head()"
      ]
    },
    {
      "cell_type": "code",
      "execution_count": null,
      "metadata": {
        "id": "g2fBkbKAwB8k"
      },
      "outputs": [],
      "source": [
        "sub_file.to_csv(path_drive + 'sub3.csv', index = False)"
      ]
    },
    {
      "cell_type": "code",
      "execution_count": null,
      "metadata": {
        "id": "gqDhVzSTwG2I"
      },
      "outputs": [],
      "source": [
        "\n",
        "random_search_all = RandomizedSearchCV(xgb, param_distributions=params,\n",
        "                                   n_iter=param_comb, scoring='accuracy', cv=skf.split(X,y), verbose=3, random_state=SEED )\n",
        "\n",
        "\n",
        "random_search_all.fit(X, y)\n",
        "\n",
        "\n",
        "y_pred_all = random_search_all.predict(X_test)\n",
        "acc_score_all = accuracy_score(y_test, y_pred)\n",
        "print(\"Accuracy:\", acc_score_all)\n"
      ]
    },
    {
      "cell_type": "code",
      "source": [
        "print(random_search_all.best_params_)"
      ],
      "metadata": {
        "id": "k38mxlSZWtv4"
      },
      "execution_count": null,
      "outputs": []
    },
    {
      "cell_type": "code",
      "source": [],
      "metadata": {
        "id": "Y_IaOJ-1Z_tt"
      },
      "execution_count": null,
      "outputs": []
    }
  ],
  "metadata": {
    "colab": {
      "collapsed_sections": [
        "98zEPNaCEUOA",
        "qlzR9aD8EZwT"
      ],
      "provenance": []
    },
    "kernelspec": {
      "display_name": "Python 3",
      "name": "python3"
    },
    "language_info": {
      "name": "python"
    },
    "widgets": {
      "application/vnd.jupyter.widget-state+json": {
        "81ac0a709b2f4a66aa90d5bd5291ddfc": {
          "model_module": "jupyter-leaflet",
          "model_name": "LeafletMapModel",
          "model_module_version": "^0.17",
          "state": {
            "_dom_classes": [],
            "_model_module": "jupyter-leaflet",
            "_model_module_version": "^0.17",
            "_model_name": "LeafletMapModel",
            "_view_count": null,
            "_view_module": "jupyter-leaflet",
            "_view_module_version": "^0.17",
            "_view_name": "LeafletMapView",
            "bottom": 454,
            "bounce_at_zoom_limits": true,
            "box_zoom": true,
            "center": [
              20,
              0
            ],
            "close_popup_on_click": true,
            "controls": [
              "IPY_MODEL_d4c26699c0fe4c23b759511719aa6845",
              "IPY_MODEL_eeb4c86916fd43ad89c8236d7eec3377",
              "IPY_MODEL_2dea5618961e45969dfa7719023dbd33",
              "IPY_MODEL_ba346f3b30b1441ba331690f6a91881c",
              "IPY_MODEL_1a258f2695924501bbf4ea5ebf5393e9",
              "IPY_MODEL_e9664c99d6d347158555d262efe09291",
              "IPY_MODEL_d2efa1ac49354aaea4948bb2edc9a26d",
              "IPY_MODEL_84a5399dcbf84a0d8e5601139a2bccb5"
            ],
            "crs": {
              "name": "EPSG3857",
              "custom": false
            },
            "default_style": "IPY_MODEL_b2b1fda1e8814794b15169549c5f644b",
            "double_click_zoom": true,
            "dragging": true,
            "dragging_style": "IPY_MODEL_f9ce19bab1b046a0b16a6e89426852c6",
            "east": 0,
            "fullscreen": false,
            "inertia": true,
            "inertia_deceleration": 3000,
            "inertia_max_speed": 1500,
            "interpolation": "bilinear",
            "keyboard": true,
            "keyboard_pan_offset": 80,
            "keyboard_zoom_offset": 1,
            "layers": [
              "IPY_MODEL_46637cc455194294921ca4285017d3e2",
              "IPY_MODEL_1715e63b4c7544f4b1d0dacf4a9ec18e",
              "IPY_MODEL_756ad0ca3bfe4abb91532856b37f51d1",
              "IPY_MODEL_7b5535fa50e4449fbbecfefcac017233"
            ],
            "layout": "IPY_MODEL_70da4c8923804181b0597dc080873b01",
            "left": 512,
            "max_zoom": 24,
            "min_zoom": null,
            "modisdate": "2023-10-01",
            "north": 19.973348786110613,
            "options": [
              "bounce_at_zoom_limits",
              "box_zoom",
              "center",
              "close_popup_on_click",
              "double_click_zoom",
              "dragging",
              "fullscreen",
              "inertia",
              "inertia_deceleration",
              "inertia_max_speed",
              "interpolation",
              "keyboard",
              "keyboard_pan_offset",
              "keyboard_zoom_offset",
              "max_zoom",
              "min_zoom",
              "prefer_canvas",
              "scroll_wheel_zoom",
              "tap",
              "tap_tolerance",
              "touch_zoom",
              "world_copy_jump",
              "zoom",
              "zoom_animation_threshold",
              "zoom_delta",
              "zoom_snap"
            ],
            "panes": {},
            "prefer_canvas": false,
            "right": 512,
            "scroll_wheel_zoom": true,
            "south": 19.973348786110613,
            "style": "IPY_MODEL_42b5210e17fa41718cd39c6521d72285",
            "tap": true,
            "tap_tolerance": 15,
            "top": 454,
            "touch_zoom": true,
            "west": 0,
            "window_url": "https://zr2otqe0pvd-496ff2e9c6d22116-0-colab.googleusercontent.com/outputframe.html?vrz=colab_20230928-060113_RC00_569118767",
            "world_copy_jump": false,
            "zoom": 2,
            "zoom_animation_threshold": 4,
            "zoom_delta": 1,
            "zoom_snap": 1
          }
        },
        "d4c26699c0fe4c23b759511719aa6845": {
          "model_module": "jupyter-leaflet",
          "model_name": "LeafletWidgetControlModel",
          "model_module_version": "^0.17",
          "state": {
            "_model_module": "jupyter-leaflet",
            "_model_module_version": "^0.17",
            "_model_name": "LeafletWidgetControlModel",
            "_view_count": null,
            "_view_module": "jupyter-leaflet",
            "_view_module_version": "^0.17",
            "_view_name": "LeafletWidgetControlView",
            "max_height": null,
            "max_width": null,
            "min_height": null,
            "min_width": null,
            "options": [
              "position",
              "transparent_bg"
            ],
            "position": "topleft",
            "transparent_bg": false,
            "widget": "IPY_MODEL_e417244d7f8946ad93a50118e0a9e8a4"
          }
        },
        "eeb4c86916fd43ad89c8236d7eec3377": {
          "model_module": "jupyter-leaflet",
          "model_name": "LeafletZoomControlModel",
          "model_module_version": "^0.17",
          "state": {
            "_model_module": "jupyter-leaflet",
            "_model_module_version": "^0.17",
            "_model_name": "LeafletZoomControlModel",
            "_view_count": null,
            "_view_module": "jupyter-leaflet",
            "_view_module_version": "^0.17",
            "_view_name": "LeafletZoomControlView",
            "options": [
              "position",
              "zoom_in_text",
              "zoom_in_title",
              "zoom_out_text",
              "zoom_out_title"
            ],
            "position": "topleft",
            "zoom_in_text": "+",
            "zoom_in_title": "Zoom in",
            "zoom_out_text": "-",
            "zoom_out_title": "Zoom out"
          }
        },
        "2dea5618961e45969dfa7719023dbd33": {
          "model_module": "jupyter-leaflet",
          "model_name": "LeafletFullScreenControlModel",
          "model_module_version": "^0.17",
          "state": {
            "_model_module": "jupyter-leaflet",
            "_model_module_version": "^0.17",
            "_model_name": "LeafletFullScreenControlModel",
            "_view_count": null,
            "_view_module": "jupyter-leaflet",
            "_view_module_version": "^0.17",
            "_view_name": "LeafletFullScreenControlView",
            "options": [
              "position"
            ],
            "position": "topleft"
          }
        },
        "ba346f3b30b1441ba331690f6a91881c": {
          "model_module": "jupyter-leaflet",
          "model_name": "LeafletDrawControlModel",
          "model_module_version": "^0.17",
          "state": {
            "_model_module": "jupyter-leaflet",
            "_model_module_version": "^0.17",
            "_model_name": "LeafletDrawControlModel",
            "_view_count": null,
            "_view_module": "jupyter-leaflet",
            "_view_module_version": "^0.17",
            "_view_name": "LeafletDrawControlView",
            "circle": {},
            "circlemarker": {},
            "data": [],
            "edit": true,
            "marker": {
              "shapeOptions": {
                "color": "#3388ff"
              }
            },
            "options": [
              "position"
            ],
            "polygon": {
              "shapeOptions": {}
            },
            "polyline": {
              "shapeOptions": {}
            },
            "position": "topleft",
            "rectangle": {
              "shapeOptions": {
                "color": "#3388ff"
              }
            },
            "remove": true
          }
        },
        "1a258f2695924501bbf4ea5ebf5393e9": {
          "model_module": "jupyter-leaflet",
          "model_name": "LeafletScaleControlModel",
          "model_module_version": "^0.17",
          "state": {
            "_model_module": "jupyter-leaflet",
            "_model_module_version": "^0.17",
            "_model_name": "LeafletScaleControlModel",
            "_view_count": null,
            "_view_module": "jupyter-leaflet",
            "_view_module_version": "^0.17",
            "_view_name": "LeafletScaleControlView",
            "imperial": true,
            "max_width": 100,
            "metric": true,
            "options": [
              "imperial",
              "max_width",
              "metric",
              "position",
              "update_when_idle"
            ],
            "position": "bottomleft",
            "update_when_idle": false
          }
        },
        "e9664c99d6d347158555d262efe09291": {
          "model_module": "jupyter-leaflet",
          "model_name": "LeafletMeasureControlModel",
          "model_module_version": "^0.17",
          "state": {
            "_custom_units": {},
            "_model_module": "jupyter-leaflet",
            "_model_module_version": "^0.17",
            "_model_name": "LeafletMeasureControlModel",
            "_view_count": null,
            "_view_module": "jupyter-leaflet",
            "_view_module_version": "^0.17",
            "_view_name": "LeafletMeasureControlView",
            "active_color": "orange",
            "capture_z_index": 10000,
            "completed_color": "#C8F2BE",
            "options": [
              "active_color",
              "capture_z_index",
              "completed_color",
              "popup_options",
              "position",
              "primary_area_unit",
              "primary_length_unit",
              "secondary_area_unit",
              "secondary_length_unit"
            ],
            "popup_options": {
              "className": "leaflet-measure-resultpopup",
              "autoPanPadding": [
                10,
                10
              ]
            },
            "position": "bottomleft",
            "primary_area_unit": "acres",
            "primary_length_unit": "kilometers",
            "secondary_area_unit": null,
            "secondary_length_unit": null
          }
        },
        "d2efa1ac49354aaea4948bb2edc9a26d": {
          "model_module": "jupyter-leaflet",
          "model_name": "LeafletWidgetControlModel",
          "model_module_version": "^0.17",
          "state": {
            "_model_module": "jupyter-leaflet",
            "_model_module_version": "^0.17",
            "_model_name": "LeafletWidgetControlModel",
            "_view_count": null,
            "_view_module": "jupyter-leaflet",
            "_view_module_version": "^0.17",
            "_view_name": "LeafletWidgetControlView",
            "max_height": null,
            "max_width": null,
            "min_height": null,
            "min_width": null,
            "options": [
              "position",
              "transparent_bg"
            ],
            "position": "topright",
            "transparent_bg": false,
            "widget": "IPY_MODEL_e0fb5083deec49d5961b13c5473a5299"
          }
        },
        "84a5399dcbf84a0d8e5601139a2bccb5": {
          "model_module": "jupyter-leaflet",
          "model_name": "LeafletAttributionControlModel",
          "model_module_version": "^0.17",
          "state": {
            "_model_module": "jupyter-leaflet",
            "_model_module_version": "^0.17",
            "_model_name": "LeafletAttributionControlModel",
            "_view_count": null,
            "_view_module": "jupyter-leaflet",
            "_view_module_version": "^0.17",
            "_view_name": "LeafletAttributionControlView",
            "options": [
              "position",
              "prefix"
            ],
            "position": "bottomright",
            "prefix": "ipyleaflet"
          }
        },
        "b2b1fda1e8814794b15169549c5f644b": {
          "model_module": "jupyter-leaflet",
          "model_name": "LeafletMapStyleModel",
          "model_module_version": "^0.17",
          "state": {
            "_model_module": "jupyter-leaflet",
            "_model_module_version": "^0.17",
            "_model_name": "LeafletMapStyleModel",
            "_view_count": null,
            "_view_module": "@jupyter-widgets/base",
            "_view_module_version": "1.2.0",
            "_view_name": "StyleView",
            "cursor": "grab"
          }
        },
        "f9ce19bab1b046a0b16a6e89426852c6": {
          "model_module": "jupyter-leaflet",
          "model_name": "LeafletMapStyleModel",
          "model_module_version": "^0.17",
          "state": {
            "_model_module": "jupyter-leaflet",
            "_model_module_version": "^0.17",
            "_model_name": "LeafletMapStyleModel",
            "_view_count": null,
            "_view_module": "@jupyter-widgets/base",
            "_view_module_version": "1.2.0",
            "_view_name": "StyleView",
            "cursor": "move"
          }
        },
        "46637cc455194294921ca4285017d3e2": {
          "model_module": "jupyter-leaflet",
          "model_name": "LeafletTileLayerModel",
          "model_module_version": "^0.17",
          "state": {
            "_model_module": "jupyter-leaflet",
            "_model_module_version": "^0.17",
            "_model_name": "LeafletTileLayerModel",
            "_view_count": null,
            "_view_module": "jupyter-leaflet",
            "_view_module_version": "^0.17",
            "_view_name": "LeafletTileLayerView",
            "attribution": "&copy; <a href=\"https://www.openstreetmap.org/copyright\">OpenStreetMap</a> contributors",
            "base": true,
            "bottom": true,
            "bounds": null,
            "detect_retina": false,
            "loading": false,
            "max_native_zoom": null,
            "max_zoom": 19,
            "min_native_zoom": null,
            "min_zoom": 1,
            "name": "OpenStreetMap.Mapnik",
            "no_wrap": false,
            "opacity": 1,
            "options": [
              "attribution",
              "bounds",
              "detect_retina",
              "max_native_zoom",
              "max_zoom",
              "min_native_zoom",
              "min_zoom",
              "no_wrap",
              "tile_size",
              "tms",
              "zoom_offset"
            ],
            "pane": "",
            "popup": null,
            "popup_max_height": null,
            "popup_max_width": 300,
            "popup_min_width": 50,
            "show_loading": false,
            "subitems": [],
            "tile_size": 256,
            "tms": false,
            "url": "https://tile.openstreetmap.org/{z}/{x}/{y}.png",
            "visible": true,
            "zoom_offset": 0
          }
        },
        "1715e63b4c7544f4b1d0dacf4a9ec18e": {
          "model_module": "jupyter-leaflet",
          "model_name": "LeafletTileLayerModel",
          "model_module_version": "^0.17",
          "state": {
            "_model_module": "jupyter-leaflet",
            "_model_module_version": "^0.17",
            "_model_name": "LeafletTileLayerModel",
            "_view_count": null,
            "_view_module": "jupyter-leaflet",
            "_view_module_version": "^0.17",
            "_view_name": "LeafletTileLayerView",
            "attribution": "Google Earth Engine",
            "base": false,
            "bottom": true,
            "bounds": null,
            "detect_retina": false,
            "loading": false,
            "max_native_zoom": null,
            "max_zoom": 24,
            "min_native_zoom": null,
            "min_zoom": 0,
            "name": "Layer 2",
            "no_wrap": false,
            "opacity": 1,
            "options": [
              "attribution",
              "bounds",
              "detect_retina",
              "max_native_zoom",
              "max_zoom",
              "min_native_zoom",
              "min_zoom",
              "no_wrap",
              "tile_size",
              "tms",
              "zoom_offset"
            ],
            "pane": "",
            "popup": null,
            "popup_max_height": null,
            "popup_max_width": 300,
            "popup_min_width": 50,
            "show_loading": false,
            "subitems": [],
            "tile_size": 256,
            "tms": false,
            "url": "https://earthengine.googleapis.com/v1/projects/earthengine-legacy/maps/2a3afe236e6fc6401d1051d0048f7432-6138c9aba8a0c780c21db3311060ae60/tiles/{z}/{x}/{y}",
            "visible": true,
            "zoom_offset": 0
          }
        },
        "756ad0ca3bfe4abb91532856b37f51d1": {
          "model_module": "jupyter-leaflet",
          "model_name": "LeafletTileLayerModel",
          "model_module_version": "^0.17",
          "state": {
            "_model_module": "jupyter-leaflet",
            "_model_module_version": "^0.17",
            "_model_name": "LeafletTileLayerModel",
            "_view_count": null,
            "_view_module": "jupyter-leaflet",
            "_view_module_version": "^0.17",
            "_view_name": "LeafletTileLayerView",
            "attribution": "Google Earth Engine",
            "base": false,
            "bottom": true,
            "bounds": null,
            "detect_retina": false,
            "loading": false,
            "max_native_zoom": null,
            "max_zoom": 24,
            "min_native_zoom": null,
            "min_zoom": 0,
            "name": "Layer 3",
            "no_wrap": false,
            "opacity": 1,
            "options": [
              "attribution",
              "bounds",
              "detect_retina",
              "max_native_zoom",
              "max_zoom",
              "min_native_zoom",
              "min_zoom",
              "no_wrap",
              "tile_size",
              "tms",
              "zoom_offset"
            ],
            "pane": "",
            "popup": null,
            "popup_max_height": null,
            "popup_max_width": 300,
            "popup_min_width": 50,
            "show_loading": false,
            "subitems": [],
            "tile_size": 256,
            "tms": false,
            "url": "https://earthengine.googleapis.com/v1/projects/earthengine-legacy/maps/a1c94ed71e48272e90eae771672ee045-24b6cf067b7995d035d97aca09ab036f/tiles/{z}/{x}/{y}",
            "visible": true,
            "zoom_offset": 0
          }
        },
        "7b5535fa50e4449fbbecfefcac017233": {
          "model_module": "jupyter-leaflet",
          "model_name": "LeafletTileLayerModel",
          "model_module_version": "^0.17",
          "state": {
            "_model_module": "jupyter-leaflet",
            "_model_module_version": "^0.17",
            "_model_name": "LeafletTileLayerModel",
            "_view_count": null,
            "_view_module": "jupyter-leaflet",
            "_view_module_version": "^0.17",
            "_view_name": "LeafletTileLayerView",
            "attribution": "Google Earth Engine",
            "base": false,
            "bottom": true,
            "bounds": null,
            "detect_retina": false,
            "loading": false,
            "max_native_zoom": null,
            "max_zoom": 24,
            "min_native_zoom": null,
            "min_zoom": 0,
            "name": "Layer 4",
            "no_wrap": false,
            "opacity": 1,
            "options": [
              "attribution",
              "bounds",
              "detect_retina",
              "max_native_zoom",
              "max_zoom",
              "min_native_zoom",
              "min_zoom",
              "no_wrap",
              "tile_size",
              "tms",
              "zoom_offset"
            ],
            "pane": "",
            "popup": null,
            "popup_max_height": null,
            "popup_max_width": 300,
            "popup_min_width": 50,
            "show_loading": false,
            "subitems": [],
            "tile_size": 256,
            "tms": false,
            "url": "https://earthengine.googleapis.com/v1/projects/earthengine-legacy/maps/508a327921a2447ceddefbb62ba614d3-3f4c60a29b3bdf52c5da52d9bddee041/tiles/{z}/{x}/{y}",
            "visible": true,
            "zoom_offset": 0
          }
        },
        "70da4c8923804181b0597dc080873b01": {
          "model_module": "@jupyter-widgets/base",
          "model_name": "LayoutModel",
          "model_module_version": "1.2.0",
          "state": {
            "_model_module": "@jupyter-widgets/base",
            "_model_module_version": "1.2.0",
            "_model_name": "LayoutModel",
            "_view_count": null,
            "_view_module": "@jupyter-widgets/base",
            "_view_module_version": "1.2.0",
            "_view_name": "LayoutView",
            "align_content": null,
            "align_items": null,
            "align_self": null,
            "border": null,
            "bottom": null,
            "display": null,
            "flex": null,
            "flex_flow": null,
            "grid_area": null,
            "grid_auto_columns": null,
            "grid_auto_flow": null,
            "grid_auto_rows": null,
            "grid_column": null,
            "grid_gap": null,
            "grid_row": null,
            "grid_template_areas": null,
            "grid_template_columns": null,
            "grid_template_rows": null,
            "height": "600px",
            "justify_content": null,
            "justify_items": null,
            "left": null,
            "margin": null,
            "max_height": null,
            "max_width": null,
            "min_height": null,
            "min_width": null,
            "object_fit": null,
            "object_position": null,
            "order": null,
            "overflow": null,
            "overflow_x": null,
            "overflow_y": null,
            "padding": null,
            "right": null,
            "top": null,
            "visibility": null,
            "width": null
          }
        },
        "42b5210e17fa41718cd39c6521d72285": {
          "model_module": "jupyter-leaflet",
          "model_name": "LeafletMapStyleModel",
          "model_module_version": "^0.17",
          "state": {
            "_model_module": "jupyter-leaflet",
            "_model_module_version": "^0.17",
            "_model_name": "LeafletMapStyleModel",
            "_view_count": null,
            "_view_module": "@jupyter-widgets/base",
            "_view_module_version": "1.2.0",
            "_view_name": "StyleView",
            "cursor": "grab"
          }
        },
        "e417244d7f8946ad93a50118e0a9e8a4": {
          "model_module": "@jupyter-widgets/controls",
          "model_name": "HBoxModel",
          "model_module_version": "1.5.0",
          "state": {
            "_dom_classes": [],
            "_model_module": "@jupyter-widgets/controls",
            "_model_module_version": "1.5.0",
            "_model_name": "HBoxModel",
            "_view_count": null,
            "_view_module": "@jupyter-widgets/controls",
            "_view_module_version": "1.5.0",
            "_view_name": "HBoxView",
            "box_style": "",
            "children": [
              "IPY_MODEL_d22bf59483334df896341db759a13570"
            ],
            "layout": "IPY_MODEL_794cc5e589f24735abeb2e338fe0712b"
          }
        },
        "e0fb5083deec49d5961b13c5473a5299": {
          "model_module": "@jupyter-widgets/controls",
          "model_name": "VBoxModel",
          "model_module_version": "1.5.0",
          "state": {
            "_dom_classes": [],
            "_model_module": "@jupyter-widgets/controls",
            "_model_module_version": "1.5.0",
            "_model_name": "VBoxModel",
            "_view_count": null,
            "_view_module": "@jupyter-widgets/controls",
            "_view_module_version": "1.5.0",
            "_view_name": "VBoxView",
            "box_style": "",
            "children": [
              "IPY_MODEL_b3f6528280b44706af9dd08f96244f69"
            ],
            "layout": "IPY_MODEL_176d8c77259d4ec28863170d7af58ab4"
          }
        },
        "d22bf59483334df896341db759a13570": {
          "model_module": "@jupyter-widgets/controls",
          "model_name": "ToggleButtonModel",
          "model_module_version": "1.5.0",
          "state": {
            "_dom_classes": [],
            "_model_module": "@jupyter-widgets/controls",
            "_model_module_version": "1.5.0",
            "_model_name": "ToggleButtonModel",
            "_view_count": null,
            "_view_module": "@jupyter-widgets/controls",
            "_view_module_version": "1.5.0",
            "_view_name": "ToggleButtonView",
            "button_style": "",
            "description": "",
            "description_tooltip": null,
            "disabled": false,
            "icon": "globe",
            "layout": "IPY_MODEL_b8bc36772b1e462e9964aab43d906441",
            "style": "IPY_MODEL_0a2863b7b17c4d5db7d1bc25d81ce792",
            "tooltip": "Search location/data",
            "value": false
          }
        },
        "794cc5e589f24735abeb2e338fe0712b": {
          "model_module": "@jupyter-widgets/base",
          "model_name": "LayoutModel",
          "model_module_version": "1.2.0",
          "state": {
            "_model_module": "@jupyter-widgets/base",
            "_model_module_version": "1.2.0",
            "_model_name": "LayoutModel",
            "_view_count": null,
            "_view_module": "@jupyter-widgets/base",
            "_view_module_version": "1.2.0",
            "_view_name": "LayoutView",
            "align_content": null,
            "align_items": null,
            "align_self": null,
            "border": null,
            "bottom": null,
            "display": null,
            "flex": null,
            "flex_flow": null,
            "grid_area": null,
            "grid_auto_columns": null,
            "grid_auto_flow": null,
            "grid_auto_rows": null,
            "grid_column": null,
            "grid_gap": null,
            "grid_row": null,
            "grid_template_areas": null,
            "grid_template_columns": null,
            "grid_template_rows": null,
            "height": null,
            "justify_content": null,
            "justify_items": null,
            "left": null,
            "margin": null,
            "max_height": null,
            "max_width": null,
            "min_height": null,
            "min_width": null,
            "object_fit": null,
            "object_position": null,
            "order": null,
            "overflow": null,
            "overflow_x": null,
            "overflow_y": null,
            "padding": null,
            "right": null,
            "top": null,
            "visibility": null,
            "width": null
          }
        },
        "b3f6528280b44706af9dd08f96244f69": {
          "model_module": "@jupyter-widgets/controls",
          "model_name": "ToggleButtonModel",
          "model_module_version": "1.5.0",
          "state": {
            "_dom_classes": [],
            "_model_module": "@jupyter-widgets/controls",
            "_model_module_version": "1.5.0",
            "_model_name": "ToggleButtonModel",
            "_view_count": null,
            "_view_module": "@jupyter-widgets/controls",
            "_view_module_version": "1.5.0",
            "_view_name": "ToggleButtonView",
            "button_style": "",
            "description": "",
            "description_tooltip": null,
            "disabled": false,
            "icon": "wrench",
            "layout": "IPY_MODEL_858f4fa9230a4993864f65d4fb5a4fe8",
            "style": "IPY_MODEL_da2854dd11004c6a8b227716fb3bf2f6",
            "tooltip": "Toolbar",
            "value": false
          }
        },
        "176d8c77259d4ec28863170d7af58ab4": {
          "model_module": "@jupyter-widgets/base",
          "model_name": "LayoutModel",
          "model_module_version": "1.2.0",
          "state": {
            "_model_module": "@jupyter-widgets/base",
            "_model_module_version": "1.2.0",
            "_model_name": "LayoutModel",
            "_view_count": null,
            "_view_module": "@jupyter-widgets/base",
            "_view_module_version": "1.2.0",
            "_view_name": "LayoutView",
            "align_content": null,
            "align_items": null,
            "align_self": null,
            "border": null,
            "bottom": null,
            "display": null,
            "flex": null,
            "flex_flow": null,
            "grid_area": null,
            "grid_auto_columns": null,
            "grid_auto_flow": null,
            "grid_auto_rows": null,
            "grid_column": null,
            "grid_gap": null,
            "grid_row": null,
            "grid_template_areas": null,
            "grid_template_columns": null,
            "grid_template_rows": null,
            "height": null,
            "justify_content": null,
            "justify_items": null,
            "left": null,
            "margin": null,
            "max_height": null,
            "max_width": null,
            "min_height": null,
            "min_width": null,
            "object_fit": null,
            "object_position": null,
            "order": null,
            "overflow": null,
            "overflow_x": null,
            "overflow_y": null,
            "padding": null,
            "right": null,
            "top": null,
            "visibility": null,
            "width": null
          }
        },
        "b8bc36772b1e462e9964aab43d906441": {
          "model_module": "@jupyter-widgets/base",
          "model_name": "LayoutModel",
          "model_module_version": "1.2.0",
          "state": {
            "_model_module": "@jupyter-widgets/base",
            "_model_module_version": "1.2.0",
            "_model_name": "LayoutModel",
            "_view_count": null,
            "_view_module": "@jupyter-widgets/base",
            "_view_module_version": "1.2.0",
            "_view_name": "LayoutView",
            "align_content": null,
            "align_items": null,
            "align_self": null,
            "border": null,
            "bottom": null,
            "display": null,
            "flex": null,
            "flex_flow": null,
            "grid_area": null,
            "grid_auto_columns": null,
            "grid_auto_flow": null,
            "grid_auto_rows": null,
            "grid_column": null,
            "grid_gap": null,
            "grid_row": null,
            "grid_template_areas": null,
            "grid_template_columns": null,
            "grid_template_rows": null,
            "height": "28px",
            "justify_content": null,
            "justify_items": null,
            "left": null,
            "margin": null,
            "max_height": null,
            "max_width": null,
            "min_height": null,
            "min_width": null,
            "object_fit": null,
            "object_position": null,
            "order": null,
            "overflow": null,
            "overflow_x": null,
            "overflow_y": null,
            "padding": "0px 0px 0px 4px",
            "right": null,
            "top": null,
            "visibility": null,
            "width": "28px"
          }
        },
        "0a2863b7b17c4d5db7d1bc25d81ce792": {
          "model_module": "@jupyter-widgets/controls",
          "model_name": "DescriptionStyleModel",
          "model_module_version": "1.5.0",
          "state": {
            "_model_module": "@jupyter-widgets/controls",
            "_model_module_version": "1.5.0",
            "_model_name": "DescriptionStyleModel",
            "_view_count": null,
            "_view_module": "@jupyter-widgets/base",
            "_view_module_version": "1.2.0",
            "_view_name": "StyleView",
            "description_width": ""
          }
        },
        "858f4fa9230a4993864f65d4fb5a4fe8": {
          "model_module": "@jupyter-widgets/base",
          "model_name": "LayoutModel",
          "model_module_version": "1.2.0",
          "state": {
            "_model_module": "@jupyter-widgets/base",
            "_model_module_version": "1.2.0",
            "_model_name": "LayoutModel",
            "_view_count": null,
            "_view_module": "@jupyter-widgets/base",
            "_view_module_version": "1.2.0",
            "_view_name": "LayoutView",
            "align_content": null,
            "align_items": null,
            "align_self": null,
            "border": null,
            "bottom": null,
            "display": null,
            "flex": null,
            "flex_flow": null,
            "grid_area": null,
            "grid_auto_columns": null,
            "grid_auto_flow": null,
            "grid_auto_rows": null,
            "grid_column": null,
            "grid_gap": null,
            "grid_row": null,
            "grid_template_areas": null,
            "grid_template_columns": null,
            "grid_template_rows": null,
            "height": "28px",
            "justify_content": null,
            "justify_items": null,
            "left": null,
            "margin": null,
            "max_height": null,
            "max_width": null,
            "min_height": null,
            "min_width": null,
            "object_fit": null,
            "object_position": null,
            "order": null,
            "overflow": null,
            "overflow_x": null,
            "overflow_y": null,
            "padding": "0px 0px 0px 4px",
            "right": null,
            "top": null,
            "visibility": null,
            "width": "28px"
          }
        },
        "da2854dd11004c6a8b227716fb3bf2f6": {
          "model_module": "@jupyter-widgets/controls",
          "model_name": "DescriptionStyleModel",
          "model_module_version": "1.5.0",
          "state": {
            "_model_module": "@jupyter-widgets/controls",
            "_model_module_version": "1.5.0",
            "_model_name": "DescriptionStyleModel",
            "_view_count": null,
            "_view_module": "@jupyter-widgets/base",
            "_view_module_version": "1.2.0",
            "_view_name": "StyleView",
            "description_width": ""
          }
        }
      }
    }
  },
  "nbformat": 4,
  "nbformat_minor": 0
}