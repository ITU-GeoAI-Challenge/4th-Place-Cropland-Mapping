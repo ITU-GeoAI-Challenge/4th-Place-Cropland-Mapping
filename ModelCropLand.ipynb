{
  "nbformat": 4,
  "nbformat_minor": 0,
  "metadata": {
    "colab": {
      "provenance": []
    },
    "kernelspec": {
      "name": "python3",
      "display_name": "Python 3"
    },
    "language_info": {
      "name": "python"
    }
  },
  "cells": [
    {
      "cell_type": "code",
      "execution_count": 13,
      "metadata": {
        "id": "MDTew3STZ8W5"
      },
      "outputs": [],
      "source": [
        "import ee\n",
        "import numpy as np\n",
        "import pandas as pd\n",
        "import random\n",
        "from sklearn.model_selection import train_test_split\n",
        "from sklearn.metrics import accuracy_score\n",
        "from sklearn.ensemble import RandomForestClassifier\n",
        "import random\n",
        "import matplotlib.pyplot as plt\n",
        "from sklearn.model_selection import RandomizedSearchCV, GridSearchCV\n",
        "from sklearn.model_selection import StratifiedKFold\n",
        "from xgboost import XGBClassifier\n",
        "\n",
        "\n",
        "SEED = 42\n",
        "random.seed(SEED)\n",
        "np.random.seed(SEED)"
      ]
    },
    {
      "cell_type": "code",
      "source": [
        "from google.colab import drive\n",
        "drive.mount('/content/drive/')\n",
        "path_drive = r'drive/MyDrive/CropLand/'"
      ],
      "metadata": {
        "colab": {
          "base_uri": "https://localhost:8080/"
        },
        "id": "J_oapZybaIcR",
        "outputId": "953e5225-c482-41f0-8a95-024c05c5165a"
      },
      "execution_count": 14,
      "outputs": [
        {
          "output_type": "stream",
          "name": "stdout",
          "text": [
            "Drive already mounted at /content/drive/; to attempt to forcibly remount, call drive.mount(\"/content/drive/\", force_remount=True).\n"
          ]
        }
      ]
    },
    {
      "cell_type": "code",
      "source": [
        "train_data = pd.read_csv(path_drive + 'train_sen1_sen2.csv')\n",
        "test_data = pd.read_csv(path_drive + 'test_sen1_sen2.csv')"
      ],
      "metadata": {
        "id": "BFfN7U7vaKnF"
      },
      "execution_count": 15,
      "outputs": []
    },
    {
      "cell_type": "code",
      "source": [
        "train_data.columns"
      ],
      "metadata": {
        "colab": {
          "base_uri": "https://localhost:8080/"
        },
        "id": "gVrMlaweaSAn",
        "outputId": "383a7a25-94dc-4b65-d4bc-6cecb0a97887"
      },
      "execution_count": 16,
      "outputs": [
        {
          "output_type": "execute_result",
          "data": {
            "text/plain": [
              "Index(['ID', 'Lat', 'Lon', 'Target', 'country', 'NDVI_change', 'NDWI_change',\n",
              "       'RNDVI_change', 'BI_change', 'NDMI_change', 'SR_change', 'NDVI', 'NDWI',\n",
              "       'RNDVI', 'BI', 'NDMI', 'SR', 'B2', 'B3', 'B4', 'VV_change_asc',\n",
              "       'VH_change_asc', 'VH/VH_change_asc', 'VV+VH_change_asc', 'VV_asc',\n",
              "       'VH_asc', 'VH/VH_asc', 'VV+VH_asc', 'VV_change_des', 'VH_change_des',\n",
              "       'VH/VH_change_des', 'VV+VH_change_des', 'VV_des', 'VH_des', 'VH/VH_des',\n",
              "       'VV+VH_des'],\n",
              "      dtype='object')"
            ]
          },
          "metadata": {},
          "execution_count": 16
        }
      ]
    },
    {
      "cell_type": "code",
      "source": [
        "def create_X_y_country(pd, country):\n",
        "  X = pd[pd['country'] == country].copy()\n",
        "  y = X['Target'].copy()\n",
        "\n",
        "  X = X.drop(columns = ['ID', 'Lat', 'Lon', 'Target', 'country'])\n",
        "\n",
        "  return scaler.transform(X), y\n",
        "\n",
        "y_train = train_data['Target']\n",
        "X_train = train_data.drop(columns = ['ID', 'Lat', 'Lon', 'Target', 'country'])\n",
        "\n",
        "from sklearn.preprocessing import StandardScaler\n",
        "scaler = StandardScaler()\n",
        "scaler.fit(X_train)\n",
        "X_train = scaler.transform(X_train)\n",
        "\n",
        "X_train_afg, y_train_afg    = create_X_y_country(train_data, 'Afghanistan')\n",
        "X_train_iran, y_train_iran  = create_X_y_country(train_data, 'Iran')\n",
        "X_train_sudan, y_train_sudan = create_X_y_country(train_data, 'Sudan')\n",
        "\n",
        "\n",
        "X_test_afg    = test_data[test_data['country'] == 'Afghanistan'].drop(columns = ['ID', 'Lat', 'Lon', 'country'])\n",
        "X_test_iran   = test_data[test_data['country'] == 'Iran'].drop(columns = ['ID', 'Lat', 'Lon', 'country'])\n",
        "X_test_sudan  = test_data[test_data['country'] == 'Sudan'].drop(columns = ['ID', 'Lat', 'Lon',  'country'])"
      ],
      "metadata": {
        "id": "jjGyTwq8bJY3"
      },
      "execution_count": 54,
      "outputs": []
    },
    {
      "cell_type": "code",
      "source": [
        "def create_xgb_model(X_now,y_now, parameters, folds, param_comb):\n",
        "\n",
        "  model = XGBClassifier(objective= 'binary:logistic', nthread = 1)\n",
        "\n",
        "  random_search = RandomizedSearchCV(model, param_distributions=parameters,\n",
        "                                   n_iter=param_comb, scoring='accuracy', cv=skf.split(X_now, y_now), verbose=1, random_state=SEED )\n",
        "\n",
        "  random_search.fit(X_now, y_now)\n",
        "\n",
        "  print(random_search.best_score_)\n",
        "\n",
        "  return random_search\n",
        "\n",
        "\n",
        "\n",
        "\n",
        "# A parameter grid for XGBoost\n",
        "params = {\n",
        "        'n_estimators': [400, 500, 600, 700, 800],\n",
        "        'learning_rate': [ 0.01, 0.005],\n",
        "        'gamma': [0.8, 1, 1.2, 1.5],\n",
        "        'colsample_bytree': [0.2, 0.4, 0.6, 0.8, 1],\n",
        "        'max_depth': [3, 5, 7, 10]\n",
        "        }\n",
        "folds = 3\n",
        "\n",
        "skf = StratifiedKFold(n_splits=folds, shuffle = True, random_state = SEED)\n"
      ],
      "metadata": {
        "id": "Yctpnhqmbr8n"
      },
      "execution_count": 38,
      "outputs": []
    },
    {
      "cell_type": "code",
      "source": [
        "r_s_afg = create_xgb_model(X_train_afg, y_train_afg, params, 3, 20)\n",
        "r_s_iran = create_xgb_model(X_train_iran, y_train_iran, params, 3, 20)\n",
        "r_s_sudan = create_xgb_model(X_train_sudan, y_train_sudan, params, 3, 20)\n",
        "r_s_all = create_xgb_model(X_train, y_train, params, 3, 20)"
      ],
      "metadata": {
        "colab": {
          "base_uri": "https://localhost:8080/"
        },
        "id": "OyDPt-QqC6_n",
        "outputId": "68013d52-7b8a-4780-fb3f-26a03993d077"
      },
      "execution_count": 62,
      "outputs": [
        {
          "output_type": "stream",
          "name": "stdout",
          "text": [
            "Fitting 3 folds for each of 20 candidates, totalling 60 fits\n",
            "0.848026837890484\n",
            "Fitting 3 folds for each of 20 candidates, totalling 60 fits\n",
            "0.9579996633239545\n",
            "Fitting 3 folds for each of 20 candidates, totalling 60 fits\n",
            "0.9760238559026525\n",
            "Fitting 3 folds for each of 20 candidates, totalling 60 fits\n",
            "0.9126666666666666\n"
          ]
        }
      ]
    },
    {
      "cell_type": "code",
      "source": [
        "print(type(X_train_afg))"
      ],
      "metadata": {
        "colab": {
          "base_uri": "https://localhost:8080/"
        },
        "id": "TObzJKARLbV-",
        "outputId": "18be07c9-8f5e-4b1f-a73e-e006e9a1c196"
      },
      "execution_count": 55,
      "outputs": [
        {
          "output_type": "stream",
          "name": "stdout",
          "text": [
            "<class 'numpy.ndarray'>\n"
          ]
        }
      ]
    },
    {
      "cell_type": "code",
      "source": [
        "#only ascending\n",
        "r_s_all_asc = create_xgb_model(X_train[: , : -8], y_train, params, 3, 20)\n",
        "r_s_afg_asc = create_xgb_model(X_train_afg[:,:-8], y_train_afg, params, 3, 20)\n",
        "r_s_iran_asc = create_xgb_model(X_train_iran[:,:-8], y_train_iran, params, 3, 20)\n",
        "r_s_sudan_asc = create_xgb_model(X_train_sudan[:,:-8], y_train_sudan, params, 3, 20)"
      ],
      "metadata": {
        "colab": {
          "base_uri": "https://localhost:8080/"
        },
        "id": "ufr7sKfPEH0V",
        "outputId": "4247ac5e-b9b7-424d-fd2a-10fa8c6cfc13"
      },
      "execution_count": 56,
      "outputs": [
        {
          "output_type": "stream",
          "name": "stdout",
          "text": [
            "Fitting 3 folds for each of 20 candidates, totalling 60 fits\n",
            "0.9093333333333334\n",
            "Fitting 3 folds for each of 20 candidates, totalling 60 fits\n",
            "0.831998653295818\n",
            "Fitting 3 folds for each of 20 candidates, totalling 60 fits\n",
            "0.9600076954524686\n",
            "Fitting 3 folds for each of 20 candidates, totalling 60 fits\n",
            "0.9760238559026525\n"
          ]
        }
      ]
    },
    {
      "cell_type": "code",
      "source": [
        "import lightgbm\n",
        "!pip install catboost\n",
        "import catboost"
      ],
      "metadata": {
        "id": "ANxCH-Jm_CZ4"
      },
      "execution_count": null,
      "outputs": []
    },
    {
      "cell_type": "code",
      "source": [
        "def create_lgbm_model(X_now,y_now, parameters, folds, param_comb):\n",
        "\n",
        "  model = lightgbm.LGBMClassifier(boosting_type='gbdt',  objective='binary', metric='auc')\n",
        "\n",
        "  random_search = RandomizedSearchCV(model, param_distributions=parameters,\n",
        "                                   n_iter=param_comb, scoring='accuracy', cv=skf.split(X_now, y_now), verbose=0, random_state=SEED )\n",
        "\n",
        "  random_search.fit(X_now, y_now)\n",
        "\n",
        "  print(random_search.best_score_)\n",
        "\n",
        "  return random_search\n",
        "\n",
        "\n",
        "param_grid_lgbm = {\n",
        "    'num_leaves': [18, 31, 127],\n",
        "    'reg_alpha': [0.1, 0.5, 0.8],\n",
        "    'min_data_in_leaf': [30, 50, 100, 300, 400],\n",
        "    'lambda_l1': [0, 1, 1.5],\n",
        "    'lambda_l2': [0, 1],\n",
        "    'learning_rate': [0.1, 0.05, 0.01],\n",
        "    'max_bin': [255, 400, 500]\n",
        "    }\n",
        "\n",
        "r_s_lgbm_afg = create_lgbm_model(X_train_afg, y_train_afg, param_grid_lgbm, 3, 20)\n",
        "r_s_lgbm_iran = create_lgbm_model(X_train_iran, y_train_iran, param_grid_lgbm, 3, 20)\n",
        "r_s_lgbm_sudan = create_lgbm_model(X_train_sudan, y_train_sudan, param_grid_lgbm, 3, 20)\n",
        "r_s_lgbm_all = create_lgbm_model(X_train, y_train, param_grid_lgbm, 3, 20)"
      ],
      "metadata": {
        "id": "6kyGNp2S_C3P"
      },
      "execution_count": null,
      "outputs": []
    },
    {
      "cell_type": "code",
      "source": [
        "r_s_lgbm_afg_asc = create_lgbm_model(X_train_afg[:,:-8], y_train_afg, param_grid_lgbm, 3, 20)\n",
        "r_s_lgbm_iran_asc = create_lgbm_model(X_train_iran[:,:-8], y_train_iran, param_grid_lgbm, 3, 20)\n",
        "r_s_lgbm_sudan_asc = create_lgbm_model(X_train_sudan[:,:-8], y_train_sudan, param_grid_lgbm, 3, 20)\n",
        "r_s_lgbm_all_asc = create_lgbm_model(X_train[:,:-8], y_train, param_grid_lgbm, 3, 20)"
      ],
      "metadata": {
        "id": "s0nFFK90JEAo"
      },
      "execution_count": null,
      "outputs": []
    },
    {
      "cell_type": "code",
      "source": [
        "from catboost import CatBoostClassifier\n",
        "\n",
        "\n",
        "def create_cat_model(X_now,y_now, parameters, folds, param_comb):\n",
        "\n",
        "  model = CatBoostClassifier()\n",
        "\n",
        "  random_search = RandomizedSearchCV(model, param_distributions=parameters,\n",
        "                                   n_iter=param_comb, scoring='accuracy', cv=skf.split(X_now, y_now), verbose=0, random_state=SEED )\n",
        "\n",
        "  random_search.fit(X_now, y_now)\n",
        "\n",
        "  print(random_search.best_score_)\n",
        "\n",
        "  return random_search\n",
        "\n",
        "\n",
        "params_cat = {\n",
        "    'iterations' : [2, 4, 6, 20, 50],\n",
        "    'learning_rate' : [1, 0.1, 0.01],\n",
        "    'depth' : [2, 4, 8, 10],\n",
        "    'l2_leaf_reg': [0.1, 0.8, 1]\n",
        "}\n",
        "\n",
        "\n",
        "r_s_cat_afg = create_cat_model(X_train_afg, y_train_afg, params_cat, 3, 20)\n",
        "r_s_cat_iran = create_cat_model(X_train_iran, y_train_iran, params_cat, 3, 20)\n",
        "r_s_cat_sudan = create_cat_model(X_train_sudan, y_train_sudan, params_cat, 3, 20)\n",
        "r_s_cat_all = create_cat_model(X_train, y_train, params_cat, 3, 20)"
      ],
      "metadata": {
        "id": "NAXzoYg0KsC0"
      },
      "execution_count": null,
      "outputs": []
    },
    {
      "cell_type": "code",
      "source": [
        "model_dict = {\n",
        "    'Afghanistan': [r_s_afg, r_s_lgbm_afg, r_s_cat_afg],\n",
        "    'Iran': [r_s_iran, r_s_lgbm_iran, r_s_cat_iran],\n",
        "    'Sudan': [r_s_sudan, r_s_lgbm_sudan, r_s_cat_sudan]\n",
        "}\n",
        "\n",
        "country_test = test_data['country'].copy()\n",
        "ID = test_data['ID'].copy()\n",
        "\n",
        "X_test = test_data.drop(columns = ['ID', 'Lat', 'Lon',  'country'])\n",
        "X_test = scaler.transform(X_test)\n",
        "predictions = []\n",
        "for i, el in enumerate(X_test):\n",
        "  p1 = r_s_cat_all.predict([el])\n",
        "  p2 = r_s_all.predict([el])\n",
        "  p3 = r_s_lgbm_all.predict([el])\n",
        "\n",
        "  preds = [p1, p2, p3]\n",
        "\n",
        "  for m in model_dict[country_test[i]]:\n",
        "    preds.append(m.predict([el]))\n",
        "\n",
        "  weighted_pred = sum(preds)/(len(preds))\n",
        "\n",
        "  if weighted_pred >= 0.5:\n",
        "    predictions.append(1)\n",
        "\n",
        "  else:\n",
        "    predictions.append(0)\n",
        "\n",
        "\n",
        "\n"
      ],
      "metadata": {
        "id": "YFIbZZIENmKL"
      },
      "execution_count": null,
      "outputs": []
    },
    {
      "cell_type": "code",
      "source": [
        "# # Create a submission file\n",
        "sub_file = pd.DataFrame({'ID': test_data.ID, 'Target': predictions})\n",
        "sub_file.head()"
      ],
      "metadata": {
        "colab": {
          "base_uri": "https://localhost:8080/",
          "height": 206
        },
        "id": "hygqveLsQpZA",
        "outputId": "0cc44500-4117-47e8-a37e-4f2487c1b791"
      },
      "execution_count": 74,
      "outputs": [
        {
          "output_type": "execute_result",
          "data": {
            "text/plain": [
              "                ID  Target\n",
              "0  ID_9ZLHTVF6NSU7       1\n",
              "1  ID_LNN7BFCVEZKA       0\n",
              "2  ID_SOYSG7W04UH3       1\n",
              "3  ID_EAP7EXXV8ZDE       1\n",
              "4  ID_QPRX1TUQVGHU       0"
            ],
            "text/html": [
              "\n",
              "  <div id=\"df-86337714-68b7-4452-819d-12829a1879ab\" class=\"colab-df-container\">\n",
              "    <div>\n",
              "<style scoped>\n",
              "    .dataframe tbody tr th:only-of-type {\n",
              "        vertical-align: middle;\n",
              "    }\n",
              "\n",
              "    .dataframe tbody tr th {\n",
              "        vertical-align: top;\n",
              "    }\n",
              "\n",
              "    .dataframe thead th {\n",
              "        text-align: right;\n",
              "    }\n",
              "</style>\n",
              "<table border=\"1\" class=\"dataframe\">\n",
              "  <thead>\n",
              "    <tr style=\"text-align: right;\">\n",
              "      <th></th>\n",
              "      <th>ID</th>\n",
              "      <th>Target</th>\n",
              "    </tr>\n",
              "  </thead>\n",
              "  <tbody>\n",
              "    <tr>\n",
              "      <th>0</th>\n",
              "      <td>ID_9ZLHTVF6NSU7</td>\n",
              "      <td>1</td>\n",
              "    </tr>\n",
              "    <tr>\n",
              "      <th>1</th>\n",
              "      <td>ID_LNN7BFCVEZKA</td>\n",
              "      <td>0</td>\n",
              "    </tr>\n",
              "    <tr>\n",
              "      <th>2</th>\n",
              "      <td>ID_SOYSG7W04UH3</td>\n",
              "      <td>1</td>\n",
              "    </tr>\n",
              "    <tr>\n",
              "      <th>3</th>\n",
              "      <td>ID_EAP7EXXV8ZDE</td>\n",
              "      <td>1</td>\n",
              "    </tr>\n",
              "    <tr>\n",
              "      <th>4</th>\n",
              "      <td>ID_QPRX1TUQVGHU</td>\n",
              "      <td>0</td>\n",
              "    </tr>\n",
              "  </tbody>\n",
              "</table>\n",
              "</div>\n",
              "    <div class=\"colab-df-buttons\">\n",
              "\n",
              "  <div class=\"colab-df-container\">\n",
              "    <button class=\"colab-df-convert\" onclick=\"convertToInteractive('df-86337714-68b7-4452-819d-12829a1879ab')\"\n",
              "            title=\"Convert this dataframe to an interactive table.\"\n",
              "            style=\"display:none;\">\n",
              "\n",
              "  <svg xmlns=\"http://www.w3.org/2000/svg\" height=\"24px\" viewBox=\"0 -960 960 960\">\n",
              "    <path d=\"M120-120v-720h720v720H120Zm60-500h600v-160H180v160Zm220 220h160v-160H400v160Zm0 220h160v-160H400v160ZM180-400h160v-160H180v160Zm440 0h160v-160H620v160ZM180-180h160v-160H180v160Zm440 0h160v-160H620v160Z\"/>\n",
              "  </svg>\n",
              "    </button>\n",
              "\n",
              "  <style>\n",
              "    .colab-df-container {\n",
              "      display:flex;\n",
              "      gap: 12px;\n",
              "    }\n",
              "\n",
              "    .colab-df-convert {\n",
              "      background-color: #E8F0FE;\n",
              "      border: none;\n",
              "      border-radius: 50%;\n",
              "      cursor: pointer;\n",
              "      display: none;\n",
              "      fill: #1967D2;\n",
              "      height: 32px;\n",
              "      padding: 0 0 0 0;\n",
              "      width: 32px;\n",
              "    }\n",
              "\n",
              "    .colab-df-convert:hover {\n",
              "      background-color: #E2EBFA;\n",
              "      box-shadow: 0px 1px 2px rgba(60, 64, 67, 0.3), 0px 1px 3px 1px rgba(60, 64, 67, 0.15);\n",
              "      fill: #174EA6;\n",
              "    }\n",
              "\n",
              "    .colab-df-buttons div {\n",
              "      margin-bottom: 4px;\n",
              "    }\n",
              "\n",
              "    [theme=dark] .colab-df-convert {\n",
              "      background-color: #3B4455;\n",
              "      fill: #D2E3FC;\n",
              "    }\n",
              "\n",
              "    [theme=dark] .colab-df-convert:hover {\n",
              "      background-color: #434B5C;\n",
              "      box-shadow: 0px 1px 3px 1px rgba(0, 0, 0, 0.15);\n",
              "      filter: drop-shadow(0px 1px 2px rgba(0, 0, 0, 0.3));\n",
              "      fill: #FFFFFF;\n",
              "    }\n",
              "  </style>\n",
              "\n",
              "    <script>\n",
              "      const buttonEl =\n",
              "        document.querySelector('#df-86337714-68b7-4452-819d-12829a1879ab button.colab-df-convert');\n",
              "      buttonEl.style.display =\n",
              "        google.colab.kernel.accessAllowed ? 'block' : 'none';\n",
              "\n",
              "      async function convertToInteractive(key) {\n",
              "        const element = document.querySelector('#df-86337714-68b7-4452-819d-12829a1879ab');\n",
              "        const dataTable =\n",
              "          await google.colab.kernel.invokeFunction('convertToInteractive',\n",
              "                                                    [key], {});\n",
              "        if (!dataTable) return;\n",
              "\n",
              "        const docLinkHtml = 'Like what you see? Visit the ' +\n",
              "          '<a target=\"_blank\" href=https://colab.research.google.com/notebooks/data_table.ipynb>data table notebook</a>'\n",
              "          + ' to learn more about interactive tables.';\n",
              "        element.innerHTML = '';\n",
              "        dataTable['output_type'] = 'display_data';\n",
              "        await google.colab.output.renderOutput(dataTable, element);\n",
              "        const docLink = document.createElement('div');\n",
              "        docLink.innerHTML = docLinkHtml;\n",
              "        element.appendChild(docLink);\n",
              "      }\n",
              "    </script>\n",
              "  </div>\n",
              "\n",
              "\n",
              "<div id=\"df-ca6588ad-b20c-4573-b781-c282ae52194f\">\n",
              "  <button class=\"colab-df-quickchart\" onclick=\"quickchart('df-ca6588ad-b20c-4573-b781-c282ae52194f')\"\n",
              "            title=\"Suggest charts.\"\n",
              "            style=\"display:none;\">\n",
              "\n",
              "<svg xmlns=\"http://www.w3.org/2000/svg\" height=\"24px\"viewBox=\"0 0 24 24\"\n",
              "     width=\"24px\">\n",
              "    <g>\n",
              "        <path d=\"M19 3H5c-1.1 0-2 .9-2 2v14c0 1.1.9 2 2 2h14c1.1 0 2-.9 2-2V5c0-1.1-.9-2-2-2zM9 17H7v-7h2v7zm4 0h-2V7h2v10zm4 0h-2v-4h2v4z\"/>\n",
              "    </g>\n",
              "</svg>\n",
              "  </button>\n",
              "\n",
              "<style>\n",
              "  .colab-df-quickchart {\n",
              "      --bg-color: #E8F0FE;\n",
              "      --fill-color: #1967D2;\n",
              "      --hover-bg-color: #E2EBFA;\n",
              "      --hover-fill-color: #174EA6;\n",
              "      --disabled-fill-color: #AAA;\n",
              "      --disabled-bg-color: #DDD;\n",
              "  }\n",
              "\n",
              "  [theme=dark] .colab-df-quickchart {\n",
              "      --bg-color: #3B4455;\n",
              "      --fill-color: #D2E3FC;\n",
              "      --hover-bg-color: #434B5C;\n",
              "      --hover-fill-color: #FFFFFF;\n",
              "      --disabled-bg-color: #3B4455;\n",
              "      --disabled-fill-color: #666;\n",
              "  }\n",
              "\n",
              "  .colab-df-quickchart {\n",
              "    background-color: var(--bg-color);\n",
              "    border: none;\n",
              "    border-radius: 50%;\n",
              "    cursor: pointer;\n",
              "    display: none;\n",
              "    fill: var(--fill-color);\n",
              "    height: 32px;\n",
              "    padding: 0;\n",
              "    width: 32px;\n",
              "  }\n",
              "\n",
              "  .colab-df-quickchart:hover {\n",
              "    background-color: var(--hover-bg-color);\n",
              "    box-shadow: 0 1px 2px rgba(60, 64, 67, 0.3), 0 1px 3px 1px rgba(60, 64, 67, 0.15);\n",
              "    fill: var(--button-hover-fill-color);\n",
              "  }\n",
              "\n",
              "  .colab-df-quickchart-complete:disabled,\n",
              "  .colab-df-quickchart-complete:disabled:hover {\n",
              "    background-color: var(--disabled-bg-color);\n",
              "    fill: var(--disabled-fill-color);\n",
              "    box-shadow: none;\n",
              "  }\n",
              "\n",
              "  .colab-df-spinner {\n",
              "    border: 2px solid var(--fill-color);\n",
              "    border-color: transparent;\n",
              "    border-bottom-color: var(--fill-color);\n",
              "    animation:\n",
              "      spin 1s steps(1) infinite;\n",
              "  }\n",
              "\n",
              "  @keyframes spin {\n",
              "    0% {\n",
              "      border-color: transparent;\n",
              "      border-bottom-color: var(--fill-color);\n",
              "      border-left-color: var(--fill-color);\n",
              "    }\n",
              "    20% {\n",
              "      border-color: transparent;\n",
              "      border-left-color: var(--fill-color);\n",
              "      border-top-color: var(--fill-color);\n",
              "    }\n",
              "    30% {\n",
              "      border-color: transparent;\n",
              "      border-left-color: var(--fill-color);\n",
              "      border-top-color: var(--fill-color);\n",
              "      border-right-color: var(--fill-color);\n",
              "    }\n",
              "    40% {\n",
              "      border-color: transparent;\n",
              "      border-right-color: var(--fill-color);\n",
              "      border-top-color: var(--fill-color);\n",
              "    }\n",
              "    60% {\n",
              "      border-color: transparent;\n",
              "      border-right-color: var(--fill-color);\n",
              "    }\n",
              "    80% {\n",
              "      border-color: transparent;\n",
              "      border-right-color: var(--fill-color);\n",
              "      border-bottom-color: var(--fill-color);\n",
              "    }\n",
              "    90% {\n",
              "      border-color: transparent;\n",
              "      border-bottom-color: var(--fill-color);\n",
              "    }\n",
              "  }\n",
              "</style>\n",
              "\n",
              "  <script>\n",
              "    async function quickchart(key) {\n",
              "      const quickchartButtonEl =\n",
              "        document.querySelector('#' + key + ' button');\n",
              "      quickchartButtonEl.disabled = true;  // To prevent multiple clicks.\n",
              "      quickchartButtonEl.classList.add('colab-df-spinner');\n",
              "      try {\n",
              "        const charts = await google.colab.kernel.invokeFunction(\n",
              "            'suggestCharts', [key], {});\n",
              "      } catch (error) {\n",
              "        console.error('Error during call to suggestCharts:', error);\n",
              "      }\n",
              "      quickchartButtonEl.classList.remove('colab-df-spinner');\n",
              "      quickchartButtonEl.classList.add('colab-df-quickchart-complete');\n",
              "    }\n",
              "    (() => {\n",
              "      let quickchartButtonEl =\n",
              "        document.querySelector('#df-ca6588ad-b20c-4573-b781-c282ae52194f button');\n",
              "      quickchartButtonEl.style.display =\n",
              "        google.colab.kernel.accessAllowed ? 'block' : 'none';\n",
              "    })();\n",
              "  </script>\n",
              "</div>\n",
              "    </div>\n",
              "  </div>\n"
            ]
          },
          "metadata": {},
          "execution_count": 74
        }
      ]
    },
    {
      "cell_type": "code",
      "source": [
        "sub_file.to_csv(path_drive + 'sub4.csv', index = False)"
      ],
      "metadata": {
        "id": "VQHCT4JRPAw6"
      },
      "execution_count": 75,
      "outputs": []
    },
    {
      "cell_type": "code",
      "source": [],
      "metadata": {
        "id": "aydtMuZATQbg"
      },
      "execution_count": null,
      "outputs": []
    }
  ]
}